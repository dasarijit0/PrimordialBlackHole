{
 "cells": [
  {
   "cell_type": "code",
   "execution_count": 4,
   "id": "d3d64e75-e0ee-48c5-9a65-2305f8e38fe4",
   "metadata": {},
   "outputs": [
    {
     "data": {
      "text/plain": [
       "<module 'I_functions_class' from '/users/PCON0003/koivuemily/PrimordialBlackHole/MakeIFuncs/I_functions_class.py'>"
      ]
     },
     "execution_count": 4,
     "metadata": {},
     "output_type": "execute_result"
    }
   ],
   "source": [
    "import numpy as np \n",
    "import math\n",
    "import matplotlib.pyplot as plt \n",
    "from scipy import optimize\n",
    "from scipy.optimize import fsolve\n",
    "\n",
    "\n",
    "from sympy import symbols\n",
    "from sympy.physics.wigner import wigner_3j\n",
    "import module1 as m1 # module1 contains the function to convert r_star to r\\n\",\n",
    "\n",
    "import cmath\n",
    "from astropy.io import fits\n",
    "import I_functions_class as Inp\n",
    "from imp import reload\n",
    "reload(Inp)"
   ]
  },
  {
   "cell_type": "code",
   "execution_count": 12,
   "id": "93a83887-cc58-48d1-a3b5-24842b4605ca",
   "metadata": {},
   "outputs": [],
   "source": [
    "M = 1.e21\n",
    "T = 1/(8*np.pi*M)\n",
    "l=1\n",
    "omega = 5*T\n",
    "omega_index = round(omega*100*(8*np.pi*M) -1)\n",
    "\n",
    "tol = 1.e-10"
   ]
  },
  {
   "cell_type": "code",
   "execution_count": 9,
   "id": "c62156f8-7463-474f-a5bb-d570a8b42e46",
   "metadata": {},
   "outputs": [],
   "source": [
    "direcPhoton = '/fs/scratch/PCON0003/emily/PhotonWaveFunctionFits/'\n",
    "hduP = fits.open(direcPhoton+str(l)+'.fits')\n",
    "        \n",
    "r_points_gamma = hduP[omega_index].data.field('rpoints_up')\n",
    " \n"
   ]
  },
  {
   "cell_type": "code",
   "execution_count": 10,
   "id": "7f9f76ba-d91c-43bc-8d12-72bdd261fe87",
   "metadata": {},
   "outputs": [],
   "source": [
    "hduX = fits.Header()\n",
    "hduX['type']='R Tests'\n",
    "hduX['omega']=omega\n",
    "hduX['M'] = M\n",
    "empty_primary = fits.PrimaryHDU(header=hduX)\n",
    "hdulX = fits.HDUList([empty_primary])\n"
   ]
  },
  {
   "cell_type": "code",
   "execution_count": 11,
   "id": "6898a2d5-5938-4d31-a48c-4f86de3b0396",
   "metadata": {},
   "outputs": [],
   "source": [
    "col0 = fits.Column(name='r_star points',format='D',array=r_points_gamma)"
   ]
  },
  {
   "cell_type": "code",
   "execution_count": 13,
   "id": "669b5ee3-60df-4fdc-b831-7c185a9b3121",
   "metadata": {},
   "outputs": [],
   "source": [
    "r = np.array([m1.r_star_to_r(x,M,tol) for x in r_points_gamma])"
   ]
  },
  {
   "cell_type": "code",
   "execution_count": 14,
   "id": "69527e34-4630-443b-bdc6-3c3138055358",
   "metadata": {},
   "outputs": [],
   "source": [
    "col1 = fits.Column(name='r points',format='D',array=r)"
   ]
  },
  {
   "cell_type": "code",
   "execution_count": null,
   "id": "148cbb5f-8b87-4eff-aa9b-54a57a485374",
   "metadata": {},
   "outputs": [],
   "source": [
    "cols = fits.ColDefs([col0,col1,col2,col3,col4,col5,col6,col7,col8,col9,col10,col11,col12,col13,col14,col15,col16,col17,col18,col19,col20])\n",
    "table_hdu = fits.BinTableHDU.from_columns(cols)\n",
    "    table_hdu.header['h']=h[x]\n",
    "   "
   ]
  }
 ],
 "metadata": {
  "kernelspec": {
   "display_name": "21cm Gal2",
   "language": "python",
   "name": "local1"
  },
  "language_info": {
   "codemirror_mode": {
    "name": "ipython",
    "version": 3
   },
   "file_extension": ".py",
   "mimetype": "text/x-python",
   "name": "python",
   "nbconvert_exporter": "python",
   "pygments_lexer": "ipython3",
   "version": "3.10.2"
  }
 },
 "nbformat": 4,
 "nbformat_minor": 5
}
