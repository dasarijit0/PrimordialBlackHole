{
 "cells": [
  {
   "cell_type": "markdown",
   "id": "starting-grammar",
   "metadata": {},
   "source": [
    "## Differential Equations \n",
    "\n",
    "### Following is the equation we're finding a solution for:\n",
    "\n",
    "$\\begin{align} \n",
    "    f'' = \\bigg(- \\omega^2 + \\frac{l (l+1) (1 - \\frac{2M}{r})}{r^2} \\bigg) * f\n",
    "\\end{align}$\n",
    "\n",
    "\n",
    "#### To solve this, we split this equation into a system of two first order equations as follows:\n",
    "\n",
    "$\\begin{align} \n",
    "    z = f'\n",
    "\\end{align}$\n",
    "\n",
    "$\\begin{align} \n",
    "    z' = \\bigg(- \\omega^2 + \\frac{l (l+1) (1 - \\frac{2M}{r})}{r^2} \\bigg) * f\n",
    "\\end{align}$\n",
    "\n",
    "#### Then we use the RK-4 method to solve these two equations simultaneously"
   ]
  },
  {
   "cell_type": "code",
   "execution_count": 81,
   "id": "educational-weight",
   "metadata": {},
   "outputs": [],
   "source": [
    "import numpy as np \n",
    "import math\n",
    "import matplotlib.pyplot as plt \n",
    "from scipy import optimize\n",
    "from scipy.optimize import fsolve\n",
    "\n",
    "import module1 # module1 contains the function to convert r_star to r"
   ]
  },
  {
   "cell_type": "code",
   "execution_count": 82,
   "id": "cubic-textbook",
   "metadata": {},
   "outputs": [],
   "source": [
    "class PhotonWaveFunction:\n",
    "    \n",
    "    \"\"\"\n",
    "    Methods and their descriptions\n",
    "    \n",
    "    \n",
    "    \"\"\"\n",
    "    \n",
    "    def __init__(self, M, omega, l, tol):\n",
    "        \n",
    "        self.M = M\n",
    "        self.omega = omega\n",
    "        self.l = l\n",
    "        self.tol = tol\n",
    "    \n",
    "\n",
    "\n",
    "    def diff_eq(self, r_star, z_vector):\n",
    "    \n",
    "        f = z_vector[0]\n",
    "        z = z_vector[1]\n",
    "\n",
    "        f_prime = z\n",
    "\n",
    "        r = module1.r_star_to_r(r_star, self.M, self.tol)\n",
    "\n",
    "        z_prime = (-self.omega**2 + ((self.l * (self.l+1) *(1 - (2*self.M)/r)) / (r*r))) * f\n",
    "\n",
    "        return np.asarray([f_prime, z_prime], dtype = np.complex)\n",
    "    \n",
    "    \n",
    "    \n",
    "    \n",
    "    def RK_4(self, r_initial, r_final, N, up):\n",
    "        \n",
    "        step_size = (r_final - r_initial) / (N-1)\n",
    "        \n",
    "        r_points = np.linspace(r_initial, r_final, N)\n",
    "        \n",
    "        #Initial Conditions\n",
    "        if up == True: #for up scattering states \n",
    "            f_i = complex(1.0, 0)\n",
    "            z_i = complex(0, self.omega)    \n",
    "            \n",
    "        elif up == False: #for in scattering states\n",
    "            f_i = complex(1.0, 0) \n",
    "            z_i = complex(0, -self.omega)\n",
    "        \n",
    "        \n",
    "        f_points = [] \n",
    "        z_points = []\n",
    "        \n",
    "        z_vector = np.asarray([f_i, z_i])\n",
    "        \n",
    "        \n",
    "        for r in r_points:\n",
    "    \n",
    "            f_points.append(z_vector[0])\n",
    "            z_points.append(z_vector[1])\n",
    "\n",
    "\n",
    "            k1 = step_size * self.diff_eq(r, z_vector)\n",
    "\n",
    "            k2 = step_size * self.diff_eq(r + 0.5*step_size, z_vector + 0.5*k1)\n",
    "\n",
    "            k3 = step_size * self.diff_eq(r + 0.5*step_size, z_vector + 0.5*k2)\n",
    "\n",
    "            k4 = step_size * self.diff_eq(r + step_size, z_vector + k3)\n",
    "\n",
    "            z_vector += (k1 + 2*k2 + 2*k3 + k4) / 6\n",
    "\n",
    "        \n",
    "    \n",
    "        return(r_points, f_points, z_points)\n",
    "    \n",
    "    "
   ]
  },
  {
   "cell_type": "code",
   "execution_count": 83,
   "id": "diverse-valuation",
   "metadata": {},
   "outputs": [],
   "source": [
    "#Initialize class \n",
    "\n",
    "M = 1. \n",
    "omega = 1.\n",
    "l = 6.\n",
    "tol = 1e-16\n",
    "\n",
    "try1 = PhotonWaveFunction(M, omega, l, tol)"
   ]
  },
  {
   "cell_type": "code",
   "execution_count": 84,
   "id": "classified-waterproof",
   "metadata": {},
   "outputs": [],
   "source": [
    "r_initial = -70.*M\n",
    "r_final = 500.*M\n",
    "N = 150000 #number of steps"
   ]
  },
  {
   "cell_type": "code",
   "execution_count": 85,
   "id": "outer-cleaner",
   "metadata": {},
   "outputs": [],
   "source": [
    "r_points, f_points, z_points = try1.RK_4(r_initial, r_final, N, up = False)"
   ]
  },
  {
   "cell_type": "code",
   "execution_count": 86,
   "id": "severe-anaheim",
   "metadata": {},
   "outputs": [
    {
     "data": {
      "text/plain": [
       "[<matplotlib.lines.Line2D at 0x7f8008013250>]"
      ]
     },
     "execution_count": 86,
     "metadata": {},
     "output_type": "execute_result"
    },
    {
     "data": {
      "image/png": "[encoded data removed]",
      "text/plain": [
       "<Figure size 432x288 with 1 Axes>"
      ]
     },
     "metadata": {
      "needs_background": "light"
     },
     "output_type": "display_data"
    }
   ],
   "source": [
    "plt.plot(r_points, np.real(f_points))"
   ]
  },
  {
   "cell_type": "code",
   "execution_count": 87,
   "id": "worst-artist",
   "metadata": {},
   "outputs": [
    {
     "data": {
      "text/plain": [
       "2.0000000000000004"
      ]
     },
     "execution_count": 87,
     "metadata": {},
     "output_type": "execute_result"
    }
   ],
   "source": [
    "r_star_to_r(r_initial, M, tol)"
   ]
  },
  {
   "cell_type": "code",
   "execution_count": 88,
   "id": "affecting-filename",
   "metadata": {},
   "outputs": [
    {
     "data": {
      "text/plain": [
       "489.0097261721415"
      ]
     },
     "execution_count": 88,
     "metadata": {},
     "output_type": "execute_result"
    }
   ],
   "source": [
    "r_star_to_r(r_final, M, tol)"
   ]
  },
  {
   "cell_type": "code",
   "execution_count": null,
   "id": "composed-prompt",
   "metadata": {},
   "outputs": [],
   "source": []
  }
 ],
 "metadata": {
  "kernelspec": {
   "display_name": "Python 3",
   "language": "python",
   "name": "python3"
  },
  "language_info": {
   "codemirror_mode": {
    "name": "ipython",
    "version": 3
   },
   "file_extension": ".py",
   "mimetype": "text/x-python",
   "name": "python",
   "nbconvert_exporter": "python",
   "pygments_lexer": "ipython3",
   "version": "3.7.7"
  }
 },
 "nbformat": 4,
 "nbformat_minor": 5
}
