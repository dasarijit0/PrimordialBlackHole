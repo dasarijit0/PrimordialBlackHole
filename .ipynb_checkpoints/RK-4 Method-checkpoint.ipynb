{
 "cells": [
  {
   "cell_type": "code",
   "execution_count": 1,
   "id": "photographic-jacket",
   "metadata": {},
   "outputs": [],
   "source": [
    "import numpy as np \n",
    "import math\n",
    "import matplotlib.pyplot as plt "
   ]
  },
  {
   "cell_type": "code",
   "execution_count": 8,
   "id": "mediterranean-enterprise",
   "metadata": {},
   "outputs": [],
   "source": [
    "def funct(r, F, G):\n",
    "    #Define constants here:\n",
    "    nu = 0 ### 0 for uncharged black hole Question: What range / kind of values do these constants get? Are any of these complex numbers?\n",
    "    h = 1.\n",
    "    k = 1.\n",
    "    mu = 1. #electron mass in planck units\n",
    "    lam = 1. ###this is r dependent \n",
    "    GC = 1. #gravitational constant \n",
    "    M = 1. #Mass QUESTION: of what exactly?\n",
    "    c= 3. #speed of light, 3 for now so it doesn't give an error  \n",
    "    \n",
    "    e_to_lam = math.sqrt((c**2 * r) / (c**2 * r - 2*GC*M)) #Replacing e^(lamda/2)\n",
    "                           \n",
    "    e_to_nu = math.sqrt((c**2 * r) / (c**2 * r - 2*GC*M)) #Replacing e^(-nu/2)\n",
    "    \n",
    "    \n",
    "#     dG = (math.e**(lam)*((math.e**(-v/2)*(h-v) + mu)*F - (k/r)*G))\n",
    "    \n",
    "#     dF = (math.e**(lam)*((math.e**(-v/2)*(v-h) + mu)*G - (k/r)*F)) \n",
    "                           \n",
    "    dG = e_to_lam * ((e_to_nu * (h - nu) + mu) * F - (k/r)*G)\n",
    "    \n",
    "    dF = e_to_lam * ((k/r)*F - (e_to_nu * (h - nu) - mu))\n",
    "    \n",
    "    return np.asarray([dF, dG], dtype = np.complex) ###QUESTION: How do I return these as Complex numbers?"
   ]
  },
  {
   "cell_type": "code",
   "execution_count": 9,
   "id": "attractive-birmingham",
   "metadata": {},
   "outputs": [],
   "source": [
    "#Constants for RK-4 method:\n",
    "\n",
    "#arr = funct(r = 2, F = np.complex(0,1), G = 1)\n",
    "\n",
    "#print(arr[1])\n",
    "\n",
    "r_initial = 1. #2M\n",
    "r_final = 100. \n",
    "N = 1000.\n",
    "h = (r_final - r_initial) / N #step size\n",
    "\n",
    "#Need to define initial values for F and G: QUESTION: What kind of initial values do we assign? \n",
    "F = np.complex(0,1) \n",
    "G = np.complex(6,1)\n",
    "\n",
    "\n",
    "#Arrays to keep track of r, F and G points:\n",
    "r_points = np.arange(r_initial, r_final, h)\n",
    "F_points = []\n",
    "G_points = []\n",
    "\n"
   ]
  },
  {
   "cell_type": "code",
   "execution_count": 10,
   "id": "respiratory-crisis",
   "metadata": {},
   "outputs": [
    {
     "name": "stdout",
     "output_type": "stream",
     "text": [
      "(0.11756718789848+1.1122107099495173j)\n"
     ]
    }
   ],
   "source": [
    "#Implement the RK-4 method here: \n",
    "\n",
    "for r in r_points: \n",
    "    \n",
    "    #Update F_points and G_points arrays:\n",
    "    F_points.append(F)\n",
    "    G_points.append(G)\n",
    "    \n",
    "    \n",
    "    #print(funct(r, F, G)[0])\n",
    "    \n",
    "    #Calculate all the slopes (each variable has a separate k-slope):\n",
    "    k1F = h * funct(r, F, G)[0] ### Question: Is this causing an issue from type conversion?\n",
    "    k1G = h * funct(r, F, G)[1] ### Question: Is this even allowed? \n",
    "    \n",
    "    k2F = h * funct(r + 0.5*h, F + 0.5*k1F, G + 0.5*k1G)[0]\n",
    "    k2G = h * funct(r + 0.5*h, F + 0.5*k1F, G + 0.5*k1G)[1]\n",
    "    \n",
    "    k3F = h * funct(r + 0.5*h, F + 0.5*k2F, G + 0.5*k2G)[0]\n",
    "    k3G = h * funct(r + 0.5*h, F + 0.5*k2F, G + 0.5*k2G)[1]\n",
    "    \n",
    "    k4F = h * funct(r + h, F + k3F, G + k3G)[0]\n",
    "    k4G = h * funct(r + h, F + k3F, G + k3G)[1]\n",
    "    \n",
    "    \n",
    "    #Calculate next F_point and G_point\n",
    "    F = F + (k1F + 2*k2F + 2*k3F + k4F) / 6\n",
    "    G = G + (k1G + 2*k2G + 2*k3G + k4G) / 6\n",
    "    \n",
    "    \n",
    "print(F_points[1])"
   ]
  },
  {
   "cell_type": "code",
   "execution_count": 11,
   "id": "nuclear-breath",
   "metadata": {},
   "outputs": [
    {
     "data": {
      "image/png": "[encoded data removed]",
      "text/plain": [
       "<Figure size 432x288 with 1 Axes>"
      ]
     },
     "metadata": {
      "needs_background": "light"
     },
     "output_type": "display_data"
    }
   ],
   "source": [
    "#plot functions here\n",
    "\n",
    "plt.plot(r_points, np.real(F_points))\n",
    "plt.plot(r_points, np.real(G_points))\n",
    "plt.show()\n",
    "\n"
   ]
  },
  {
   "cell_type": "code",
   "execution_count": null,
   "id": "strategic-speaking",
   "metadata": {},
   "outputs": [],
   "source": []
  }
 ],
 "metadata": {
  "kernelspec": {
   "display_name": "Python 3",
   "language": "python",
   "name": "python3"
  },
  "language_info": {
   "codemirror_mode": {
    "name": "ipython",
    "version": 3
   },
   "file_extension": ".py",
   "mimetype": "text/x-python",
   "name": "python",
   "nbconvert_exporter": "python",
   "pygments_lexer": "ipython3",
   "version": "3.7.7"
  }
 },
 "nbformat": 4,
 "nbformat_minor": 5
}
