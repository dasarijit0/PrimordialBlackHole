{
 "cells": [
  {
   "cell_type": "markdown",
   "id": "parliamentary-center",
   "metadata": {},
   "source": [
    "## Differential Equations \n",
    "\n",
    "### Following is the equation we're finding a solution for:\n",
    "\n",
    "$\\begin{align} \n",
    "    f'' = \\bigg(- \\omega^2 + \\frac{l (l+1) (1 - \\frac{2M}{r})}{r^2} \\bigg) * f\n",
    "\\end{align}$\n",
    "\n",
    "\n",
    "#### To solve this, we split this equation into a system of two first order equations as follows:\n",
    "\n",
    "$\\begin{align} \n",
    "    z = f'\n",
    "\\end{align}$\n",
    "\n",
    "$\\begin{align} \n",
    "    z' = \\bigg(- \\omega^2 + \\frac{l (l+1) (1 - \\frac{2M}{r})}{r^2} \\bigg) * f\n",
    "\\end{align}$\n",
    "\n",
    "#### Then we use the RK-4 method to solve these two equations simultaneously"
   ]
  },
  {
   "cell_type": "code",
   "execution_count": 19,
   "id": "invisible-editing",
   "metadata": {},
   "outputs": [],
   "source": [
    "import numpy as np \n",
    "import math\n",
    "import matplotlib.pyplot as plt \n",
    "from scipy import optimize\n",
    "from scipy.optimize import fsolve"
   ]
  },
  {
   "cell_type": "code",
   "execution_count": 20,
   "id": "suspected-silver",
   "metadata": {},
   "outputs": [],
   "source": [
    "def r_to_r_star(r, M):\n",
    "    return r + 2*M*np.log((r - 2*M)/(2*M))\n",
    "\n",
    "\n",
    "def r_star_to_r_condition(r_star,r, M): \n",
    "    return  r_star - r_to_r_star(r, M) \n",
    "\n",
    "\n",
    "def r_star_to_r(r_star, M, tol): #will need to replace all the local variables using self \n",
    "\n",
    "    if r_star > 12*M:\n",
    "\n",
    "        r_prev = (2+1e-10)*M\n",
    "\n",
    "        r_next = r_star - 2*M * np.log((r_prev - 2*M)/(2*M))\n",
    "\n",
    "        #Counter for the while loop\n",
    "        i = 0\n",
    "\n",
    "        while abs((r_next - r_prev)/r_prev) > tol and i < 50: \n",
    "\n",
    "            i = i + 1\n",
    "\n",
    "            r_prev = r_next\n",
    "\n",
    "            r_next = r_star - 2*M * np.log((r_prev - 2*M)/(2*M))\n",
    "\n",
    "\n",
    "        return r_next\n",
    "\n",
    "\n",
    "    if r_star < -3*M: \n",
    "\n",
    "        r_prev = 2*M\n",
    "\n",
    "        r_next = (2*M) * (1 + math.e**((r_star - r_prev) / (2*M)))\n",
    "\n",
    "        i = 0\n",
    "\n",
    "        while abs((r_next - r_prev)/r_prev) > tol and i < 50: \n",
    "\n",
    "            i = i + 1\n",
    "\n",
    "            r_prev = r_next\n",
    "\n",
    "            r_next = 2*M*(1 + math.e**((r_star - r_prev) / (2*M)))\n",
    "\n",
    "        return r_next \n",
    "\n",
    "\n",
    "    else: \n",
    "        #r initial needs to be whatever r is for -10M = r_star, and same for r_final \n",
    "\n",
    "        r_initial = 2.1*M\n",
    "        r_final = 10*M\n",
    "\n",
    "        sol = optimize.root_scalar(lambda r: r_star_to_r_condition(r_star, r, M), bracket=[r_initial, r_final], method = 'brentq')\n",
    "\n",
    "        return sol.root \n",
    "\n"
   ]
  },
  {
   "cell_type": "code",
   "execution_count": 38,
   "id": "cloudy-checkout",
   "metadata": {},
   "outputs": [],
   "source": [
    "#Define the function that returns the diff. equations as a vector\n",
    "\n",
    "def diff_eq(r_star, z_vector):\n",
    "    \n",
    "    #Define parameteres  ###QUESTION: Do we define them inside or outside the function? Later could be instances of class\n",
    "    omega = 1.\n",
    "    l = 6. #angular momentum \n",
    "    M = 1. #blackhole mass\n",
    "    tol = 1e-10\n",
    "    \n",
    "    f = z_vector[0]\n",
    "    z = z_vector[1]\n",
    "    \n",
    "    f_prime = z\n",
    "    \n",
    "    r = r_star_to_r(r_star, M, tol)\n",
    "    \n",
    "    z_prime = (-omega**2 + ((l * (l+1) *(1 - (2*M)/r)) / (r*r))) * f\n",
    "    \n",
    "    return np.asarray([f_prime, z_prime], dtype = np.complex)"
   ]
  },
  {
   "cell_type": "code",
   "execution_count": 39,
   "id": "accepting-westminster",
   "metadata": {},
   "outputs": [],
   "source": [
    "#Initial conditions\n",
    "\n",
    "omega = 1.\n",
    "f_i = 1.0 \n",
    "z_i = complex(0, -omega)\n",
    "\n",
    "#Initial conditions in a vector form\n",
    "#i_vector = np.asarray([f_i, z_i])\n",
    "\n",
    "#Vector we send to the function above\n",
    "z_vector = np.asarray([f_i, z_i], dtype = np.complex)"
   ]
  },
  {
   "cell_type": "code",
   "execution_count": 40,
   "id": "removable-explosion",
   "metadata": {},
   "outputs": [
    {
     "data": {
      "text/plain": [
       "[<matplotlib.lines.Line2D at 0x7fe082cf4a90>]"
      ]
     },
     "execution_count": 40,
     "metadata": {},
     "output_type": "execute_result"
    },
    {
     "data": {
      "image/png": "[encoded data removed]",
      "text/plain": [
       "<Figure size 432x288 with 1 Axes>"
      ]
     },
     "metadata": {
      "needs_background": "light"
     },
     "output_type": "display_data"
    }
   ],
   "source": [
    "#Apply Runge-Kutta method here\n",
    "\n",
    "M = 1.\n",
    "r_initial = -70.*M\n",
    "\n",
    "r_final = 100.*M\n",
    "N = 100000 #number of steps\n",
    "\n",
    "\n",
    "r_points = np.linspace(r_initial, r_final, N)\n",
    "\n",
    "f_points = [] \n",
    "z_points = []\n",
    "\n",
    "z_vector = np.asarray([f_i, z_i])\n",
    "\n",
    "for r in r_points:\n",
    "    \n",
    "    step_size = (r_final - r_initial) / (N-1)\n",
    "    f_points.append(z_vector[0])\n",
    "    z_points.append(z_vector[1])\n",
    "    \n",
    "    \n",
    "    k1 = step_size * diff_eq(r, z_vector)\n",
    "    \n",
    "    k2 = step_size * diff_eq(r + 0.5*step_size, z_vector + 0.5*k1)\n",
    "    \n",
    "    k3 = step_size * diff_eq(r + 0.5*step_size, z_vector + 0.5*k2)\n",
    "    \n",
    "    k4 = step_size * diff_eq(r + step_size, z_vector + k3)\n",
    "    \n",
    "    z_vector += (k1 + 2*k2 + 2*k3 + k4) / 6\n",
    "    \n",
    " \n",
    "\n",
    "plt.plot(r_points, np.real(f_points))\n",
    "#plt.plot(r_points, np.real(z_points))\n",
    "\n",
    "\n",
    "    "
   ]
  },
  {
   "cell_type": "code",
   "execution_count": null,
   "id": "comfortable-seminar",
   "metadata": {},
   "outputs": [],
   "source": []
  }
 ],
 "metadata": {
  "kernelspec": {
   "display_name": "Python 3",
   "language": "python",
   "name": "python3"
  },
  "language_info": {
   "codemirror_mode": {
    "name": "ipython",
    "version": 3
   },
   "file_extension": ".py",
   "mimetype": "text/x-python",
   "name": "python",
   "nbconvert_exporter": "python",
   "pygments_lexer": "ipython3",
   "version": "3.7.7"
  }
 },
 "nbformat": 4,
 "nbformat_minor": 5
}
