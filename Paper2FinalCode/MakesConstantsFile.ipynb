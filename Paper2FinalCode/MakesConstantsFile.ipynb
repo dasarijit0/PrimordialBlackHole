{
 "cells": [
  {
   "cell_type": "code",
   "execution_count": 1,
   "id": "bb2881b7-a5b2-47ab-af8a-6266115fd49c",
   "metadata": {},
   "outputs": [],
   "source": [
    "import numpy as np\n",
    "from astropy.io import fits "
   ]
  },
  {
   "cell_type": "code",
   "execution_count": 3,
   "id": "45ec1cee-23aa-47cf-9408-de6332d21740",
   "metadata": {},
   "outputs": [],
   "source": [
    "nu= 1.\n",
    "mu= 4.1796514508e-23\n",
    "lam= 1.\n",
    "GC= 1.\n",
    "c= 1.\n",
    "M= 1.e21\n",
    "tol= 1.e-10\n",
    "alpha= 4*np.pi/137.036"
   ]
  },
  {
   "cell_type": "code",
   "execution_count": 9,
   "id": "02e6f4ad-fa9f-4ffe-855a-cfbb03c4f693",
   "metadata": {},
   "outputs": [],
   "source": [
    "hdu = fits.Header()"
   ]
  },
  {
   "cell_type": "code",
   "execution_count": 10,
   "id": "2322be6d-835d-4043-9a28-59f97fd2c6b9",
   "metadata": {},
   "outputs": [],
   "source": [
    "hdu['nu']=nu \n",
    "hdu['mu']=mu \n",
    "hdu['lam']=lam\n",
    "hdu['GC']=GC\n",
    "hdu['c']=c\n",
    "hdu['tol']=tol\n",
    "hdu['alpha']=alpha\n",
    "\n",
    "hdu['M']=M\n",
    "hdu['r_init']=2000.*M\n",
    "hdu['r_final']=-70.*M\n",
    "hdu['Temp']=1/(8*np.pi*M)\n",
    "\n",
    "hdu['P_direc']= '/fs/scratch/PCON0003/emily/PhotonWaveFunctionFits/'\n",
    "hdu['E_direc'] = '/users/PCON0003/koivuemily/PrimordialBlackHole/ElectronWaveFunctionFits/'"
   ]
  },
  {
   "cell_type": "code",
   "execution_count": 11,
   "id": "c65c9429-36e1-474a-8c29-5a0f7c079c5d",
   "metadata": {},
   "outputs": [],
   "source": [
    "empty_primary = fits.PrimaryHDU(header=hdu)"
   ]
  },
  {
   "cell_type": "code",
   "execution_count": 12,
   "id": "4d6ef3c6-aab1-498c-acfe-97c6a0ec7e61",
   "metadata": {},
   "outputs": [],
   "source": [
    "hdul = fits.HDUList([empty_primary])"
   ]
  },
  {
   "cell_type": "code",
   "execution_count": 14,
   "id": "20f13e27-744c-4ab9-b2ab-6d1526acac63",
   "metadata": {},
   "outputs": [],
   "source": [
    "hdul.writeto('/users/PCON0003/koivuemily/PrimordialBlackHole/Constants.fits')"
   ]
  },
  {
   "cell_type": "code",
   "execution_count": null,
   "id": "a64bcd38-7cda-4ff6-866d-90b4f4948ca1",
   "metadata": {},
   "outputs": [],
   "source": []
  }
 ],
 "metadata": {
  "kernelspec": {
   "display_name": "21cm Gal2",
   "language": "python",
   "name": "local1"
  },
  "language_info": {
   "codemirror_mode": {
    "name": "ipython",
    "version": 3
   },
   "file_extension": ".py",
   "mimetype": "text/x-python",
   "name": "python",
   "nbconvert_exporter": "python",
   "pygments_lexer": "ipython3",
   "version": "3.10.2"
  }
 },
 "nbformat": 4,
 "nbformat_minor": 5
}
