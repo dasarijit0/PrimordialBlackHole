{
 "cells": [
  {
   "cell_type": "code",
   "execution_count": 1,
   "id": "85d75787-e53a-4ddf-b45f-0dd9de8abe1c",
   "metadata": {},
   "outputs": [],
   "source": [
    "import numpy as np \n",
    "import math\n",
    "import matplotlib.pyplot as plt \n",
    "\n",
    "import I_functions_class as Inp\n",
    "from astropy.io import fits\n",
    "import module1 as m1\n",
    "\n",
    "import scipy \n",
    "\n",
    "from scipy.fft import fft, ifft\n",
    "from scipy.fft import fftfreq"
   ]
  },
  {
   "cell_type": "code",
   "execution_count": 2,
   "id": "d1c2aef4-ca29-480b-8960-cffc95e478f3",
   "metadata": {},
   "outputs": [],
   "source": [
    "mu = 9.0968024e-24  \n",
    "nu = 1.#in grams \n",
    "lam = 1.\n",
    "GC = 1.\n",
    "M = 1.e21\n",
    "c = 1.\n",
    "tol = 1.e-10\n",
    "\n",
    "r_initial = 2000.*M\n",
    "r_final= -70.*M\n",
    "\n",
    "T = 1/(8*np.pi*M)\n",
    "k = -10.\n",
    "h = np.linspace(.01*T,20.*T,2000)\n"
   ]
  },
  {
   "cell_type": "code",
   "execution_count": 3,
   "id": "75218e5b-dc8a-4600-a340-e4e977d7fede",
   "metadata": {},
   "outputs": [],
   "source": [
    "pauli_1 = [[0,1],[1,0]]\n",
    "pauli_2 = [[0,complex(0,-1)],[complex(0,1),0]]\n",
    "pauli_3 = [[1,0],[0,-1]]\n",
    "Beta = np.array([[1,0,0,0],[0,1,0,0],[0,0,-1,0],[0,0,0,-1]])"
   ]
  },
  {
   "cell_type": "code",
   "execution_count": 4,
   "id": "acace51c-cc1b-4742-a6c1-427a62b3a3b4",
   "metadata": {},
   "outputs": [],
   "source": [
    "gamma1 = np.array([[0,0,0,1],[0,0,1,0],[0,1,0,0],[1,0,0,0]])\n",
    "gamma2 = np.array([[0,0,0,complex(0,-1)],[0,0,complex(0,1),0],[0,complex(0,-1),0,0],[complex(0,1),0,0,0]])\n",
    "gamma3 = np.array([[0,0,1.,0],[0,0,0,-1.],[1.,0,0,0],[0,-1.,0,0]])"
   ]
  },
  {
   "cell_type": "code",
   "execution_count": 5,
   "id": "d8fa78e2-220d-46d5-8034-5b89d4d90bcd",
   "metadata": {},
   "outputs": [],
   "source": [
    "epsilon_x = .1\n",
    "epsilon_y = .1\n",
    "epsilon_z = .1"
   ]
  },
  {
   "cell_type": "code",
   "execution_count": 6,
   "id": "6eb089d5-f47e-43bc-a682-f0f060fa540a",
   "metadata": {},
   "outputs": [],
   "source": [
    "nx,ny,nz = 21, 21, 21\n",
    "dx = epsilon_x\n",
    "dy = epsilon_y\n",
    "dz = epsilon_z\n",
    "kx = np.linspace(-np.pi/dx,np.pi/dx, num=nx, axis=0)\n",
    "ky = np.linspace(-np.pi/dy,np.pi/dy, num=ny, axis=0)\n",
    "kz = np.linspace(-np.pi/dz,np.pi/dz, num=nz, axis=0)\n",
    "W_k_flat = np.zeros((nx,ny,nz,4,4),dtype = complex)\n",
    "W_k_flat_no_wilson = np.zeros((nx,ny,nz,4,4),dtype = complex)\n",
    "\n",
    "for x in range(nx):\n",
    "    for y in range(ny):\n",
    "        for z in range(nz):\n",
    "           W_k_flat[x,y,z,:,:] = Beta*((mu + 1/epsilon_x + 1/epsilon_y + 1/epsilon_z) + (gamma1-2)*np.exp(complex(0,kx[x]*epsilon_x))/(2*epsilon_x)+ (gamma2-2)*np.exp(complex(0,ky[y]*epsilon_y))/(2*epsilon_y)+ (gamma3-2)*np.exp(complex(0,kz[z]*epsilon_z))/(2*epsilon_z) - (gamma1+2)*np.exp(complex(0,-kx[x]*epsilon_x))/(2*epsilon_x)- (gamma2+2)*np.exp(complex(0,-ky[y]*epsilon_y))/(2*epsilon_y)- (gamma3+2)*np.exp(complex(0,-kz[z]*epsilon_z))/(2*epsilon_z))\n",
    "           W_k_flat_no_wilson[x,y,z,:,:] = Beta*((mu) + (gamma1)*np.exp(complex(0,kx[x]*epsilon_x))/(2*epsilon_x)+ (gamma2)*np.exp(complex(0,ky[y]*epsilon_y))/(2*epsilon_y)+ (gamma3)*np.exp(complex(0,kz[z]*epsilon_z))/(2*epsilon_z) - (gamma1)*np.exp(complex(0,-kx[x]*epsilon_x))/(2*epsilon_x)- (gamma2)*np.exp(complex(0,-ky[y]*epsilon_y))/(2*epsilon_y)- (gamma3)*np.exp(complex(0,-kz[z]*epsilon_z))/(2*epsilon_z))\n",
    "  \n",
    "\n"
   ]
  },
  {
   "cell_type": "code",
   "execution_count": 7,
   "id": "a44ec068-cbb3-44ab-be5d-f9de78318f1a",
   "metadata": {},
   "outputs": [
    {
     "data": {
      "text/plain": [
       "array([[ 85.20147021+1.43988846e-15j,   0.        +0.00000000e+00j,\n",
       "          0.        +0.00000000e+00j,   0.        +0.00000000e+00j],\n",
       "       [  0.        +0.00000000e+00j,  85.20147021+1.43988846e-15j,\n",
       "          0.        +0.00000000e+00j,   0.        +0.00000000e+00j],\n",
       "       [  0.        +0.00000000e+00j,   0.        +0.00000000e+00j,\n",
       "        -85.20147021-1.43988846e-15j,   0.        +0.00000000e+00j],\n",
       "       [  0.        +0.00000000e+00j,   0.        +0.00000000e+00j,\n",
       "          0.        +0.00000000e+00j, -85.20147021-1.43988846e-15j]])"
      ]
     },
     "execution_count": 7,
     "metadata": {},
     "output_type": "execute_result"
    }
   ],
   "source": [
    "np.array(W_k_flat[1,2,0,:,:])"
   ]
  },
  {
   "cell_type": "code",
   "execution_count": 8,
   "id": "db8242ad-8295-491a-8a61-3a4da6b1fb1c",
   "metadata": {
    "scrolled": true
   },
   "outputs": [
    {
     "data": {
      "text/plain": [
       "[<matplotlib.lines.Line2D at 0x1469cca85d50>]"
      ]
     },
     "execution_count": 8,
     "metadata": {},
     "output_type": "execute_result"
    },
    {
     "data": {
      "image/png": "[encoded data removed]",
      "text/plain": [
       "<Figure size 432x288 with 1 Axes>"
      ]
     },
     "metadata": {
      "needs_background": "light"
     },
     "output_type": "display_data"
    }
   ],
   "source": [
    "plt.plot(kx,np.abs(W_k_flat[:,11,11,0,0]))\n",
    "plt.plot(kx,np.abs(W_k_flat[:,11,11,1,1]))\n",
    "plt.plot(kx,np.abs(W_k_flat[:,11,11,2,2]))\n",
    "plt.plot(kx,np.abs(W_k_flat[:,11,11,3,3]))"
   ]
  },
  {
   "cell_type": "code",
   "execution_count": 9,
   "id": "4ac352a8-8c67-4376-ae8d-2959c19cdc60",
   "metadata": {},
   "outputs": [
    {
     "data": {
      "text/plain": [
       "[<matplotlib.lines.Line2D at 0x1469c43f6aa0>]"
      ]
     },
     "execution_count": 9,
     "metadata": {},
     "output_type": "execute_result"
    },
    {
     "data": {
      "image/png": "[encoded data removed]",
      "text/plain": [
       "<Figure size 432x288 with 1 Axes>"
      ]
     },
     "metadata": {
      "needs_background": "light"
     },
     "output_type": "display_data"
    }
   ],
   "source": [
    "plt.plot(kx,np.real(W_k_flat[:,11,11,0,0]))\n",
    "plt.plot(kx,np.real(W_k_flat[:,11,11,1,1]))\n",
    "plt.plot(kx,np.real(W_k_flat[:,11,11,2,2]))\n",
    "plt.plot(kx,np.real(W_k_flat[:,11,11,3,3]))"
   ]
  },
  {
   "cell_type": "code",
   "execution_count": 10,
   "id": "d5c37685-e055-462f-b2a9-a8d0fbe19643",
   "metadata": {},
   "outputs": [
    {
     "data": {
      "text/plain": [
       "[<matplotlib.lines.Line2D at 0x1469c426b940>]"
      ]
     },
     "execution_count": 10,
     "metadata": {},
     "output_type": "execute_result"
    },
    {
     "data": {
      "image/png": "[encoded data removed]",
      "text/plain": [
       "<Figure size 432x288 with 1 Axes>"
      ]
     },
     "metadata": {
      "needs_background": "light"
     },
     "output_type": "display_data"
    }
   ],
   "source": [
    "plt.plot(kx,np.imag(W_k_flat[:,11,11,0,0]))\n",
    "plt.plot(kx,np.imag(W_k_flat[:,11,11,1,1]))\n",
    "plt.plot(kx,np.imag(W_k_flat[:,11,11,2,2]))\n",
    "plt.plot(kx,np.imag(W_k_flat[:,11,11,3,3]))"
   ]
  },
  {
   "cell_type": "code",
   "execution_count": 11,
   "id": "26b0e36b-067c-43f1-b5f0-d5c6cda78e9a",
   "metadata": {},
   "outputs": [
    {
     "data": {
      "text/plain": [
       "[<matplotlib.lines.Line2D at 0x1469c42e3df0>]"
      ]
     },
     "execution_count": 11,
     "metadata": {},
     "output_type": "execute_result"
    },
    {
     "data": {
      "image/png": "[encoded data removed]",
      "text/plain": [
       "<Figure size 432x288 with 1 Axes>"
      ]
     },
     "metadata": {
      "needs_background": "light"
     },
     "output_type": "display_data"
    }
   ],
   "source": [
    "plt.plot(kx,np.abs(W_k_flat_no_wilson[:,11,11,0,0]))\n",
    "plt.plot(kx,np.abs(W_k_flat_no_wilson[:,11,11,1,1]))\n",
    "plt.plot(kx,np.abs(W_k_flat_no_wilson[:,11,11,2,2]))\n",
    "plt.plot(kx,np.abs(W_k_flat_no_wilson[:,11,11,3,3]))"
   ]
  },
  {
   "cell_type": "code",
   "execution_count": 12,
   "id": "f8878db0-90b8-45f0-91b0-ed9acfc6c50e",
   "metadata": {},
   "outputs": [
    {
     "data": {
      "text/plain": [
       "[<matplotlib.lines.Line2D at 0x1469c434b7c0>]"
      ]
     },
     "execution_count": 12,
     "metadata": {},
     "output_type": "execute_result"
    },
    {
     "data": {
      "image/png": "[encoded data removed]",
      "text/plain": [
       "<Figure size 432x288 with 1 Axes>"
      ]
     },
     "metadata": {
      "needs_background": "light"
     },
     "output_type": "display_data"
    }
   ],
   "source": [
    "plt.plot(kx,np.real(W_k_flat_no_wilson[:,11,11,0,0]))\n",
    "plt.plot(kx,np.real(W_k_flat_no_wilson[:,11,11,1,1]))\n",
    "plt.plot(kx,np.real(W_k_flat_no_wilson[:,11,11,2,2]))\n",
    "plt.plot(kx,np.real(W_k_flat_no_wilson[:,11,11,3,3]))"
   ]
  },
  {
   "cell_type": "code",
   "execution_count": 13,
   "id": "f5a524f4-dbb7-40b1-bce7-94f5cf0632a5",
   "metadata": {},
   "outputs": [
    {
     "data": {
      "text/plain": [
       "[<matplotlib.lines.Line2D at 0x1469c41e4820>]"
      ]
     },
     "execution_count": 13,
     "metadata": {},
     "output_type": "execute_result"
    },
    {
     "data": {
      "image/png": "[encoded data removed]",
      "text/plain": [
       "<Figure size 432x288 with 1 Axes>"
      ]
     },
     "metadata": {
      "needs_background": "light"
     },
     "output_type": "display_data"
    }
   ],
   "source": [
    "plt.plot(kx,np.imag(W_k_flat_no_wilson[:,11,11,0,0]))\n",
    "plt.plot(kx,np.imag(W_k_flat_no_wilson[:,11,11,1,1]))\n",
    "plt.plot(kx,np.imag(W_k_flat_no_wilson[:,11,11,2,2]))\n",
    "plt.plot(kx,np.imag(W_k_flat_no_wilson[:,11,11,3,3]))"
   ]
  },
  {
   "cell_type": "code",
   "execution_count": null,
   "id": "0e5a8eaf-dc47-4a74-8443-9863d32f95e3",
   "metadata": {},
   "outputs": [],
   "source": []
  },
  {
   "cell_type": "code",
   "execution_count": 14,
   "id": "348cfc48-c0f0-4d4c-8bdc-b94ffb792d1e",
   "metadata": {},
   "outputs": [],
   "source": [
    "#think about diag slices in this format"
   ]
  },
  {
   "cell_type": "code",
   "execution_count": null,
   "id": "7d67abc1-7d8e-404d-828e-0482c83dd1ff",
   "metadata": {},
   "outputs": [],
   "source": []
  },
  {
   "cell_type": "code",
   "execution_count": 28,
   "id": "24707ee8-b889-4b56-95b2-9f71b0492a5e",
   "metadata": {},
   "outputs": [],
   "source": [
    "nr,ntheta,nphi = 21, 21, 21\n",
    "#do inverse of this actually \n",
    "theta_points_mercator = np.linspace(0.00001,np.pi,ntheta)\n",
    "#tan^(-1)(sinhy)\n",
    "theta_points = np.arctan(np.sinh(theta_points_mercator))\n",
    "\n",
    "k_thetas = 2*np.pi/theta_points\n"
   ]
  },
  {
   "cell_type": "code",
   "execution_count": 29,
   "id": "0fbd627a-a7f1-46bd-b238-c4bc23a597d3",
   "metadata": {},
   "outputs": [
    {
     "data": {
      "text/plain": [
       "array([6.28318531e+05, 4.01617478e+01, 2.03257706e+01, 1.38178419e+01,\n",
       "       1.06377946e+01, 8.78472537e+00, 7.59134726e+00, 6.77165174e+00,\n",
       "       6.18275575e+00, 5.74546212e+00, 5.41244527e+00, 5.15376665e+00,\n",
       "       4.94962015e+00, 4.78642039e+00, 4.65456612e+00, 4.54709876e+00,\n",
       "       4.45886546e+00, 4.38597909e+00, 4.32545974e+00, 4.27499058e+00,\n",
       "       4.23274806e+00])"
      ]
     },
     "execution_count": 29,
     "metadata": {},
     "output_type": "execute_result"
    }
   ],
   "source": [
    "k_thetas"
   ]
  },
  {
   "cell_type": "markdown",
   "id": "c02ff3a9-78a9-4155-aa85-69831338748b",
   "metadata": {},
   "source": [
    "$H_{\\rm Dirac} = \\int dr_\\star\\, d\\theta \\,d\\phi \\,\\overline{\\xi}(x) \\Bigl[ \\tilde{\\boldsymbol\\gamma}^1 \\partial_{r_{\\star}} + \\tilde{\\boldsymbol\\gamma}^2\\frac{e^{\\nu/2}}{r} \\partial_\\theta + \\tilde{\\boldsymbol\\gamma}^3\\frac{e^{\\nu/2}}{r \\sin\\theta} \\partial_\\phi + \\mu e^{\\nu/2} \\Bigr] \\xi(x).$"
   ]
  },
  {
   "cell_type": "code",
   "execution_count": 33,
   "id": "e152c9dc-1875-4c57-9f69-82a3909694e3",
   "metadata": {},
   "outputs": [
    {
     "name": "stdout",
     "output_type": "stream",
     "text": [
      "1\n"
     ]
    },
    {
     "ename": "KeyboardInterrupt",
     "evalue": "",
     "output_type": "error",
     "traceback": [
      "\u001b[0;31m---------------------------------------------------------------------------\u001b[0m",
      "\u001b[0;31mKeyboardInterrupt\u001b[0m                         Traceback (most recent call last)",
      "Input \u001b[0;32mIn [33]\u001b[0m, in \u001b[0;36m<module>\u001b[0;34m\u001b[0m\n\u001b[1;32m     37\u001b[0m \u001b[38;5;28;01mfor\u001b[39;00m ktheta \u001b[38;5;129;01min\u001b[39;00m \u001b[38;5;28mrange\u001b[39m(\u001b[38;5;28mlen\u001b[39m(k_thetas)):\n\u001b[1;32m     38\u001b[0m     \u001b[38;5;28;01mfor\u001b[39;00m kphi \u001b[38;5;129;01min\u001b[39;00m \u001b[38;5;28mrange\u001b[39m(\u001b[38;5;28mlen\u001b[39m(k_phis)): \n\u001b[0;32m---> 39\u001b[0m         W_k_curved_no_wilson[kr,ktheta,kphi,:,:] \u001b[38;5;241m+\u001b[39m\u001b[38;5;241m=\u001b[39m Beta\u001b[38;5;241m*\u001b[39me_nuover2\u001b[38;5;241m*\u001b[39m(mu\u001b[38;5;241m+\u001b[39m(gamma1)\u001b[38;5;241m*\u001b[39mnp\u001b[38;5;241m.\u001b[39mexp(\u001b[38;5;28mcomplex\u001b[39m(\u001b[38;5;241m0\u001b[39m,krs[kr]\u001b[38;5;241m*\u001b[39mdelta_r_plus))\u001b[38;5;241m/\u001b[39m(total_delta_r\u001b[38;5;241m*\u001b[39m e_nuover2)\u001b[38;5;241m+\u001b[39m (gamma2)\u001b[38;5;241m*\u001b[39mnp\u001b[38;5;241m.\u001b[39mexp(\u001b[38;5;28mcomplex\u001b[39m(\u001b[38;5;241m0\u001b[39m,k_thetas[ktheta]\u001b[38;5;241m*\u001b[39mepsilon_theta_plus))\u001b[38;5;241m/\u001b[39m(total_delta_theta\u001b[38;5;241m*\u001b[39mrs[r])\u001b[38;5;241m+\u001b[39m(gamma3)\u001b[38;5;241m*\u001b[39mnp\u001b[38;5;241m.\u001b[39mexp(\u001b[38;5;28mcomplex\u001b[39m(\u001b[38;5;241m0\u001b[39m,k_phis[kphi]\u001b[38;5;241m*\u001b[39mepsilon_phi_plus))\u001b[38;5;241m/\u001b[39m(total_delta_phi\u001b[38;5;241m*\u001b[39mrs[r]\u001b[38;5;241m*\u001b[39mnp\u001b[38;5;241m.\u001b[39msin(theta_points[theta])) \u001b[38;5;241m-\u001b[39m  (gamma1)\u001b[38;5;241m*\u001b[39mnp\u001b[38;5;241m.\u001b[39mexp(\u001b[38;5;28mcomplex\u001b[39m(\u001b[38;5;241m0\u001b[39m,\u001b[38;5;241m-\u001b[39mkrs[kr]\u001b[38;5;241m*\u001b[39mdelta_r_minus))\u001b[38;5;241m/\u001b[39m(total_delta_r\u001b[38;5;241m*\u001b[39m e_nuover2)\u001b[38;5;241m-\u001b[39m (gamma2)\u001b[38;5;241m*\u001b[39mnp\u001b[38;5;241m.\u001b[39mexp(\u001b[38;5;28;43mcomplex\u001b[39;49m\u001b[43m(\u001b[49m\u001b[38;5;241;43m0\u001b[39;49m\u001b[43m,\u001b[49m\u001b[43mk_thetas\u001b[49m\u001b[43m[\u001b[49m\u001b[43mktheta\u001b[49m\u001b[43m]\u001b[49m\u001b[38;5;241;43m*\u001b[39;49m\u001b[43mepsilon_theta_minus\u001b[49m\u001b[43m)\u001b[49m)\u001b[38;5;241m/\u001b[39m(total_delta_theta\u001b[38;5;241m*\u001b[39mrs[r])\u001b[38;5;241m-\u001b[39m (gamma3)\u001b[38;5;241m*\u001b[39mnp\u001b[38;5;241m.\u001b[39mexp(\u001b[38;5;28mcomplex\u001b[39m(\u001b[38;5;241m0\u001b[39m,\u001b[38;5;241m-\u001b[39mk_phis[kphi]\u001b[38;5;241m*\u001b[39mepsilon_phi_minus))\u001b[38;5;241m/\u001b[39m(total_delta_phi\u001b[38;5;241m*\u001b[39mrs[r]\u001b[38;5;241m*\u001b[39mnp\u001b[38;5;241m.\u001b[39msin(theta_points[theta])))\n",
      "\u001b[0;31mKeyboardInterrupt\u001b[0m: "
     ]
    }
   ],
   "source": [
    "r_points = np.linspace(20*M,200*M,nr) #in rstar \n",
    "tol =1.e-10\n",
    "rs =  np.array([m1.r_star_to_r(x,M,tol) for x in r_points])\n",
    "\n",
    "krs = 2*np.pi/rs\n",
    "#the tilde versions of gamma are the same as the flat spacetime, so all this is kinda wrong. \n",
    "#still have some geometric pieces but the derivative bits itself is pretty straightforward \n",
    "\n",
    "W_k_curved = np.zeros((nr,ntheta,nphi,4,4),dtype = complex)\n",
    "W_k_curved_no_wilson = np.zeros((nr,ntheta,nphi,4,4),dtype = complex)\n",
    "#W_k_curved_no_wilson has indices of [kr,ktheta,kphi,dirac a, diracb]\n",
    "\n",
    "\n",
    "#below FT in phi as well \n",
    "phis = np.linspace(0.0000001,2*np.pi,nphi)\n",
    "k_phis = 2*np.pi/phis\n",
    "\n",
    "\n",
    "\n",
    "for r in range(1,nr-1):\n",
    "    print(r)\n",
    "    e_nuover2 = np.sqrt(1-2*M/rs[r])\n",
    "    \n",
    "    delta_r_plus = rs[r+1]-rs[r]\n",
    "    delta_r_minus = rs[r]-rs[r-1]\n",
    "    total_delta_r = delta_r_plus+delta_r_minus\n",
    "    for theta in range(1,ntheta-1):\n",
    "        epsilon_theta_plus = (theta_points_mercator[theta+1]-theta_points_mercator[theta])\n",
    "        epsilon_theta_minus = (theta_points_mercator[theta]-theta_points_mercator[theta-1])\n",
    "        total_delta_theta = epsilon_theta_plus+epsilon_theta_minus\n",
    "        \n",
    "        for phi in range(1,nphi-1):\n",
    "            epsilon_phi_plus = phis[phi+1]-phis[phi]\n",
    "            epsilon_phi_minus = phis[phi]-phis[phi-1]\n",
    "            total_delta_phi = epsilon_phi_plus+epsilon_phi_minus            \n",
    "            for kr in range(len(krs)):\n",
    "                for ktheta in range(len(k_thetas)):\n",
    "                    for kphi in range(len(k_phis)): \n",
    "                        W_k_curved_no_wilson[kr,ktheta,kphi,:,:] += Beta*e_nuover2*(mu+(gamma1)*np.exp(complex(0,krs[kr]*delta_r_plus))/(total_delta_r* e_nuover2)+ (gamma2)*np.exp(complex(0,k_thetas[ktheta]*epsilon_theta_plus))/(total_delta_theta*rs[r])+(gamma3)*np.exp(complex(0,k_phis[kphi]*epsilon_phi_plus))/(total_delta_phi*rs[r]*np.sin(theta_points[theta])) -  (gamma1)*np.exp(complex(0,-krs[kr]*delta_r_minus))/(total_delta_r* e_nuover2)- (gamma2)*np.exp(complex(0,k_thetas[ktheta]*epsilon_theta_minus))/(total_delta_theta*rs[r])- (gamma3)*np.exp(complex(0,-k_phis[kphi]*epsilon_phi_minus))/(total_delta_phi*rs[r]*np.sin(theta_points[theta])))\n",
    "    \n",
    "            #W_k_curved[r,theta,phi,:,:] = Beta*e_nuover2*((mu) + (gamma_1)*np.exp(complex(0,kr[r]*delta_r_plus))/(total_delta_r* e_nuover2)+ (gamma_2)*np.exp(complex(0,k_theta[theta]*epsilon_theta_plus))/(total_epsilon_theta*rs[r]) -  (gamma_1)*np.exp(complex(0,-kr[r]*delta_r_minus))/(total_delta_r* e_nuover2)- (gamma_2)*np.exp(complex(0,k_theta[theta]*epsilon_theta_minus))/(total_epsilon_theta*rs[r]))\n",
    "\n",
    "    "
   ]
  },
  {
   "cell_type": "code",
   "execution_count": null,
   "id": "bd453737-b2ee-43c4-a0bb-2fb87467bf8f",
   "metadata": {},
   "outputs": [],
   "source": []
  },
  {
   "cell_type": "code",
   "execution_count": 34,
   "id": "064420d9-a898-4e7d-b6ec-971f90b0f42a",
   "metadata": {},
   "outputs": [
    {
     "ename": "ValueError",
     "evalue": "x and y must have same first dimension, but have shapes (1,) and (21,)",
     "output_type": "error",
     "traceback": [
      "\u001b[0;31m---------------------------------------------------------------------------\u001b[0m",
      "\u001b[0;31mValueError\u001b[0m                                Traceback (most recent call last)",
      "Input \u001b[0;32mIn [34]\u001b[0m, in \u001b[0;36m<module>\u001b[0;34m\u001b[0m\n\u001b[0;32m----> 1\u001b[0m \u001b[43mplt\u001b[49m\u001b[38;5;241;43m.\u001b[39;49m\u001b[43mplot\u001b[49m\u001b[43m(\u001b[49m\u001b[43mkr\u001b[49m\u001b[43m,\u001b[49m\u001b[43mnp\u001b[49m\u001b[38;5;241;43m.\u001b[39;49m\u001b[43mabs\u001b[49m\u001b[43m(\u001b[49m\u001b[43mW_k_curved_no_wilson\u001b[49m\u001b[43m[\u001b[49m\u001b[43m:\u001b[49m\u001b[43m,\u001b[49m\u001b[38;5;241;43m11\u001b[39;49m\u001b[43m,\u001b[49m\u001b[38;5;241;43m11\u001b[39;49m\u001b[43m,\u001b[49m\u001b[38;5;241;43m0\u001b[39;49m\u001b[43m,\u001b[49m\u001b[38;5;241;43m0\u001b[39;49m\u001b[43m]\u001b[49m\u001b[43m)\u001b[49m\u001b[43m)\u001b[49m\n\u001b[1;32m      2\u001b[0m plt\u001b[38;5;241m.\u001b[39mplot(kr,np\u001b[38;5;241m.\u001b[39mabs(W_k_curved_no_wilson[:,\u001b[38;5;241m11\u001b[39m,\u001b[38;5;241m11\u001b[39m,\u001b[38;5;241m1\u001b[39m,\u001b[38;5;241m1\u001b[39m]))\n\u001b[1;32m      3\u001b[0m plt\u001b[38;5;241m.\u001b[39mplot(kr,np\u001b[38;5;241m.\u001b[39mabs(W_k_curved_no_wilson[:,\u001b[38;5;241m11\u001b[39m,\u001b[38;5;241m11\u001b[39m,\u001b[38;5;241m2\u001b[39m,\u001b[38;5;241m2\u001b[39m]))\n",
      "File \u001b[0;32m~/.conda/envs/local1/lib/python3.10/site-packages/matplotlib/pyplot.py:2757\u001b[0m, in \u001b[0;36mplot\u001b[0;34m(scalex, scaley, data, *args, **kwargs)\u001b[0m\n\u001b[1;32m   2755\u001b[0m \u001b[38;5;129m@_copy_docstring_and_deprecators\u001b[39m(Axes\u001b[38;5;241m.\u001b[39mplot)\n\u001b[1;32m   2756\u001b[0m \u001b[38;5;28;01mdef\u001b[39;00m \u001b[38;5;21mplot\u001b[39m(\u001b[38;5;241m*\u001b[39margs, scalex\u001b[38;5;241m=\u001b[39m\u001b[38;5;28;01mTrue\u001b[39;00m, scaley\u001b[38;5;241m=\u001b[39m\u001b[38;5;28;01mTrue\u001b[39;00m, data\u001b[38;5;241m=\u001b[39m\u001b[38;5;28;01mNone\u001b[39;00m, \u001b[38;5;241m*\u001b[39m\u001b[38;5;241m*\u001b[39mkwargs):\n\u001b[0;32m-> 2757\u001b[0m     \u001b[38;5;28;01mreturn\u001b[39;00m \u001b[43mgca\u001b[49m\u001b[43m(\u001b[49m\u001b[43m)\u001b[49m\u001b[38;5;241;43m.\u001b[39;49m\u001b[43mplot\u001b[49m\u001b[43m(\u001b[49m\n\u001b[1;32m   2758\u001b[0m \u001b[43m        \u001b[49m\u001b[38;5;241;43m*\u001b[39;49m\u001b[43margs\u001b[49m\u001b[43m,\u001b[49m\u001b[43m \u001b[49m\u001b[43mscalex\u001b[49m\u001b[38;5;241;43m=\u001b[39;49m\u001b[43mscalex\u001b[49m\u001b[43m,\u001b[49m\u001b[43m \u001b[49m\u001b[43mscaley\u001b[49m\u001b[38;5;241;43m=\u001b[39;49m\u001b[43mscaley\u001b[49m\u001b[43m,\u001b[49m\n\u001b[1;32m   2759\u001b[0m \u001b[43m        \u001b[49m\u001b[38;5;241;43m*\u001b[39;49m\u001b[38;5;241;43m*\u001b[39;49m\u001b[43m(\u001b[49m\u001b[43m{\u001b[49m\u001b[38;5;124;43m\"\u001b[39;49m\u001b[38;5;124;43mdata\u001b[39;49m\u001b[38;5;124;43m\"\u001b[39;49m\u001b[43m:\u001b[49m\u001b[43m \u001b[49m\u001b[43mdata\u001b[49m\u001b[43m}\u001b[49m\u001b[43m \u001b[49m\u001b[38;5;28;43;01mif\u001b[39;49;00m\u001b[43m \u001b[49m\u001b[43mdata\u001b[49m\u001b[43m \u001b[49m\u001b[38;5;129;43;01mis\u001b[39;49;00m\u001b[43m \u001b[49m\u001b[38;5;129;43;01mnot\u001b[39;49;00m\u001b[43m \u001b[49m\u001b[38;5;28;43;01mNone\u001b[39;49;00m\u001b[43m \u001b[49m\u001b[38;5;28;43;01melse\u001b[39;49;00m\u001b[43m \u001b[49m\u001b[43m{\u001b[49m\u001b[43m}\u001b[49m\u001b[43m)\u001b[49m\u001b[43m,\u001b[49m\u001b[43m \u001b[49m\u001b[38;5;241;43m*\u001b[39;49m\u001b[38;5;241;43m*\u001b[39;49m\u001b[43mkwargs\u001b[49m\u001b[43m)\u001b[49m\n",
      "File \u001b[0;32m~/.conda/envs/local1/lib/python3.10/site-packages/matplotlib/axes/_axes.py:1632\u001b[0m, in \u001b[0;36mAxes.plot\u001b[0;34m(self, scalex, scaley, data, *args, **kwargs)\u001b[0m\n\u001b[1;32m   1390\u001b[0m \u001b[38;5;124;03m\"\"\"\u001b[39;00m\n\u001b[1;32m   1391\u001b[0m \u001b[38;5;124;03mPlot y versus x as lines and/or markers.\u001b[39;00m\n\u001b[1;32m   1392\u001b[0m \n\u001b[0;32m   (...)\u001b[0m\n\u001b[1;32m   1629\u001b[0m \u001b[38;5;124;03m(``'green'``) or hex strings (``'#008000'``).\u001b[39;00m\n\u001b[1;32m   1630\u001b[0m \u001b[38;5;124;03m\"\"\"\u001b[39;00m\n\u001b[1;32m   1631\u001b[0m kwargs \u001b[38;5;241m=\u001b[39m cbook\u001b[38;5;241m.\u001b[39mnormalize_kwargs(kwargs, mlines\u001b[38;5;241m.\u001b[39mLine2D)\n\u001b[0;32m-> 1632\u001b[0m lines \u001b[38;5;241m=\u001b[39m [\u001b[38;5;241m*\u001b[39m\u001b[38;5;28mself\u001b[39m\u001b[38;5;241m.\u001b[39m_get_lines(\u001b[38;5;241m*\u001b[39margs, data\u001b[38;5;241m=\u001b[39mdata, \u001b[38;5;241m*\u001b[39m\u001b[38;5;241m*\u001b[39mkwargs)]\n\u001b[1;32m   1633\u001b[0m \u001b[38;5;28;01mfor\u001b[39;00m line \u001b[38;5;129;01min\u001b[39;00m lines:\n\u001b[1;32m   1634\u001b[0m     \u001b[38;5;28mself\u001b[39m\u001b[38;5;241m.\u001b[39madd_line(line)\n",
      "File \u001b[0;32m~/.conda/envs/local1/lib/python3.10/site-packages/matplotlib/axes/_base.py:312\u001b[0m, in \u001b[0;36m_process_plot_var_args.__call__\u001b[0;34m(self, data, *args, **kwargs)\u001b[0m\n\u001b[1;32m    310\u001b[0m     this \u001b[38;5;241m+\u001b[39m\u001b[38;5;241m=\u001b[39m args[\u001b[38;5;241m0\u001b[39m],\n\u001b[1;32m    311\u001b[0m     args \u001b[38;5;241m=\u001b[39m args[\u001b[38;5;241m1\u001b[39m:]\n\u001b[0;32m--> 312\u001b[0m \u001b[38;5;28;01myield from\u001b[39;00m \u001b[38;5;28;43mself\u001b[39;49m\u001b[38;5;241;43m.\u001b[39;49m\u001b[43m_plot_args\u001b[49m\u001b[43m(\u001b[49m\u001b[43mthis\u001b[49m\u001b[43m,\u001b[49m\u001b[43m \u001b[49m\u001b[43mkwargs\u001b[49m\u001b[43m)\u001b[49m\n",
      "File \u001b[0;32m~/.conda/envs/local1/lib/python3.10/site-packages/matplotlib/axes/_base.py:498\u001b[0m, in \u001b[0;36m_process_plot_var_args._plot_args\u001b[0;34m(self, tup, kwargs, return_kwargs)\u001b[0m\n\u001b[1;32m    495\u001b[0m     \u001b[38;5;28mself\u001b[39m\u001b[38;5;241m.\u001b[39maxes\u001b[38;5;241m.\u001b[39myaxis\u001b[38;5;241m.\u001b[39mupdate_units(y)\n\u001b[1;32m    497\u001b[0m \u001b[38;5;28;01mif\u001b[39;00m x\u001b[38;5;241m.\u001b[39mshape[\u001b[38;5;241m0\u001b[39m] \u001b[38;5;241m!=\u001b[39m y\u001b[38;5;241m.\u001b[39mshape[\u001b[38;5;241m0\u001b[39m]:\n\u001b[0;32m--> 498\u001b[0m     \u001b[38;5;28;01mraise\u001b[39;00m \u001b[38;5;167;01mValueError\u001b[39;00m(\u001b[38;5;124mf\u001b[39m\u001b[38;5;124m\"\u001b[39m\u001b[38;5;124mx and y must have same first dimension, but \u001b[39m\u001b[38;5;124m\"\u001b[39m\n\u001b[1;32m    499\u001b[0m                      \u001b[38;5;124mf\u001b[39m\u001b[38;5;124m\"\u001b[39m\u001b[38;5;124mhave shapes \u001b[39m\u001b[38;5;132;01m{\u001b[39;00mx\u001b[38;5;241m.\u001b[39mshape\u001b[38;5;132;01m}\u001b[39;00m\u001b[38;5;124m and \u001b[39m\u001b[38;5;132;01m{\u001b[39;00my\u001b[38;5;241m.\u001b[39mshape\u001b[38;5;132;01m}\u001b[39;00m\u001b[38;5;124m\"\u001b[39m)\n\u001b[1;32m    500\u001b[0m \u001b[38;5;28;01mif\u001b[39;00m x\u001b[38;5;241m.\u001b[39mndim \u001b[38;5;241m>\u001b[39m \u001b[38;5;241m2\u001b[39m \u001b[38;5;129;01mor\u001b[39;00m y\u001b[38;5;241m.\u001b[39mndim \u001b[38;5;241m>\u001b[39m \u001b[38;5;241m2\u001b[39m:\n\u001b[1;32m    501\u001b[0m     \u001b[38;5;28;01mraise\u001b[39;00m \u001b[38;5;167;01mValueError\u001b[39;00m(\u001b[38;5;124mf\u001b[39m\u001b[38;5;124m\"\u001b[39m\u001b[38;5;124mx and y can be no greater than 2D, but have \u001b[39m\u001b[38;5;124m\"\u001b[39m\n\u001b[1;32m    502\u001b[0m                      \u001b[38;5;124mf\u001b[39m\u001b[38;5;124m\"\u001b[39m\u001b[38;5;124mshapes \u001b[39m\u001b[38;5;132;01m{\u001b[39;00mx\u001b[38;5;241m.\u001b[39mshape\u001b[38;5;132;01m}\u001b[39;00m\u001b[38;5;124m and \u001b[39m\u001b[38;5;132;01m{\u001b[39;00my\u001b[38;5;241m.\u001b[39mshape\u001b[38;5;132;01m}\u001b[39;00m\u001b[38;5;124m\"\u001b[39m)\n",
      "\u001b[0;31mValueError\u001b[0m: x and y must have same first dimension, but have shapes (1,) and (21,)"
     ]
    },
    {
     "data": {
      "image/png": "[encoded data removed]",
      "text/plain": [
       "<Figure size 432x288 with 1 Axes>"
      ]
     },
     "metadata": {
      "needs_background": "light"
     },
     "output_type": "display_data"
    }
   ],
   "source": [
    "plt.plot(kr,np.abs(W_k_curved_no_wilson[:,11,11,0,0]))\n",
    "plt.plot(kr,np.abs(W_k_curved_no_wilson[:,11,11,1,1]))\n",
    "plt.plot(kr,np.abs(W_k_curved_no_wilson[:,11,11,2,2]))\n",
    "plt.plot(kr,np.abs(W_k_curved_no_wilson[:,11,11,3,3]))\n",
    "plt.show()"
   ]
  },
  {
   "cell_type": "code",
   "execution_count": null,
   "id": "ee9c7398-4787-4251-91be-11442510b852",
   "metadata": {},
   "outputs": [],
   "source": []
  },
  {
   "cell_type": "code",
   "execution_count": null,
   "id": "239ec809-f77a-4838-9871-bc10afb62f3d",
   "metadata": {},
   "outputs": [],
   "source": []
  },
  {
   "cell_type": "code",
   "execution_count": null,
   "id": "9c6fb678-f3de-43ad-8c26-b5669009ede3",
   "metadata": {},
   "outputs": [],
   "source": []
  }
 ],
 "metadata": {
  "kernelspec": {
   "display_name": "21cm Gal2",
   "language": "python",
   "name": "local1"
  },
  "language_info": {
   "codemirror_mode": {
    "name": "ipython",
    "version": 3
   },
   "file_extension": ".py",
   "mimetype": "text/x-python",
   "name": "python",
   "nbconvert_exporter": "python",
   "pygments_lexer": "ipython3",
   "version": "3.10.2"
  }
 },
 "nbformat": 4,
 "nbformat_minor": 5
}
