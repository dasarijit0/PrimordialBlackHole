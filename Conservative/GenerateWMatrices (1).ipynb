{
 "cells": [
  {
   "cell_type": "code",
   "execution_count": 1,
   "id": "85d75787-e53a-4ddf-b45f-0dd9de8abe1c",
   "metadata": {},
   "outputs": [],
   "source": [
    "import numpy as np \n",
    "import math\n",
    "import matplotlib.pyplot as plt \n",
    "\n",
    "import I_functions_class as Inp\n",
    "from astropy.io import fits\n",
    "import module1 as m1\n",
    "\n",
    "import scipy \n",
    "\n",
    "from scipy.fft import fft, ifft\n",
    "from scipy.fft import fftfreq"
   ]
  },
  {
   "cell_type": "code",
   "execution_count": 2,
   "id": "d1c2aef4-ca29-480b-8960-cffc95e478f3",
   "metadata": {},
   "outputs": [],
   "source": [
    "mu = 9.0968024e-24  \n",
    "nu = 1.#in grams \n",
    "lam = 1.\n",
    "GC = 1.\n",
    "M = 1.e21\n",
    "c = 1.\n",
    "tol = 1.e-10\n",
    "\n",
    "r_initial = 2000.*M\n",
    "r_final= -70.*M\n",
    "\n",
    "T = 1/(8*np.pi*M)\n",
    "k = -10.\n",
    "h = np.linspace(.01*T,20.*T,2000)\n"
   ]
  },
  {
   "cell_type": "code",
   "execution_count": 3,
   "id": "75218e5b-dc8a-4600-a340-e4e977d7fede",
   "metadata": {},
   "outputs": [],
   "source": [
    "pauli_1 = [[0,1],[1,0]]\n",
    "pauli_2 = [[0,complex(0,-1)],[complex(0,1),0]]\n",
    "pauli_3 = [[1,0],[0,-1]]\n",
    "Beta = np.array([[1,0,0,0],[0,1,0,0],[0,0,-1,0],[0,0,0,-1]])"
   ]
  },
  {
   "cell_type": "code",
   "execution_count": 4,
   "id": "acace51c-cc1b-4742-a6c1-427a62b3a3b4",
   "metadata": {},
   "outputs": [],
   "source": [
    "gamma1 = np.array([[0,0,0,1],[0,0,1,0],[0,1,0,0],[1,0,0,0]])\n",
    "gamma2 = np.array([[0,0,0,complex(0,-1)],[0,0,complex(0,1),0],[0,complex(0,-1),0,0],[complex(0,1),0,0,0]])\n",
    "gamma3 = np.array([[0,0,1.,0],[0,0,0,-1.],[1.,0,0,0],[0,-1.,0,0]])"
   ]
  },
  {
   "cell_type": "code",
   "execution_count": 5,
   "id": "d8fa78e2-220d-46d5-8034-5b89d4d90bcd",
   "metadata": {},
   "outputs": [],
   "source": [
    "epsilon_x = .1\n",
    "epsilon_y = .1\n",
    "epsilon_z = .1"
   ]
  },
  {
   "cell_type": "code",
   "execution_count": null,
   "id": "6eb089d5-f47e-43bc-a682-f0f060fa540a",
   "metadata": {},
   "outputs": [],
   "source": [
    "nx,ny,nz = 21, 21, 21\n",
    "dx = epsilon_x\n",
    "dy = epsilon_y\n",
    "dz = epsilon_z\n",
    "\n",
    "kx = np.linspace(-np.pi/dx,np.pi/dx, num=nx, axis=0)\n",
    "ky = np.linspace(-np.pi/dy,np.pi/dy, num=ny, axis=0)\n",
    "kz = np.linspace(-np.pi/dz,np.pi/dz, num=nz, axis=0)\n",
    "W_k_flat = np.zeros((nx,ny,nz,4,4),dtype = complex)\n",
    "W_k_flat_no_wilson = np.zeros((nx,ny,nz,4,4),dtype = complex)\n",
    "\n",
    "for x in range(nx):\n",
    "    for y in range(ny):\n",
    "        for z in range(nz):\n",
    "           W_k_flat[x,y,z,:,:] = Beta*((mu + 1/epsilon_x + 1/epsilon_y + 1/epsilon_z) + (gamma1-2)*np.exp(complex(0,kx[x]*epsilon_x))/(2*epsilon_x)+ (gamma2-2)*np.exp(complex(0,ky[y]*epsilon_y))/(2*epsilon_y)+ (gamma3-2)*np.exp(complex(0,kz[z]*epsilon_z))/(2*epsilon_z) - (gamma1+2)*np.exp(complex(0,-kx[x]*epsilon_x))/(2*epsilon_x)- (gamma2+2)*np.exp(complex(0,-ky[y]*epsilon_y))/(2*epsilon_y)- (gamma3+2)*np.exp(complex(0,-kz[z]*epsilon_z))/(2*epsilon_z))\n",
    "           W_k_flat_no_wilson[x,y,z,:,:] = Beta*((mu) + (gamma1)*np.exp(complex(0,kx[x]*epsilon_x))/(2*epsilon_x)+ (gamma2)*np.exp(complex(0,ky[y]*epsilon_y))/(2*epsilon_y)+ (gamma3)*np.exp(complex(0,kz[z]*epsilon_z))/(2*epsilon_z) - (gamma1)*np.exp(complex(0,-kx[x]*epsilon_x))/(2*epsilon_x)- (gamma2)*np.exp(complex(0,-ky[y]*epsilon_y))/(2*epsilon_y)- (gamma3)*np.exp(complex(0,-kz[z]*epsilon_z))/(2*epsilon_z))\n",
    "  \n",
    "\n"
   ]
  },
  {
   "cell_type": "code",
   "execution_count": null,
   "id": "a44ec068-cbb3-44ab-be5d-f9de78318f1a",
   "metadata": {},
   "outputs": [],
   "source": [
    "np.array(W_k_flat[1,2,0,:,:])"
   ]
  },
  {
   "cell_type": "code",
   "execution_count": null,
   "id": "db8242ad-8295-491a-8a61-3a4da6b1fb1c",
   "metadata": {
    "scrolled": true
   },
   "outputs": [],
   "source": [
    "plt.plot(kx,np.abs(W_k_flat[:,11,11,0,0]))\n",
    "plt.plot(kx,np.abs(W_k_flat[:,11,11,1,1]))\n",
    "plt.plot(kx,np.abs(W_k_flat[:,11,11,2,2]))\n",
    "plt.plot(kx,np.abs(W_k_flat[:,11,11,3,3]))"
   ]
  },
  {
   "cell_type": "code",
   "execution_count": null,
   "id": "4ac352a8-8c67-4376-ae8d-2959c19cdc60",
   "metadata": {},
   "outputs": [],
   "source": [
    "plt.plot(kx,np.real(W_k_flat[:,11,11,0,0]))\n",
    "plt.plot(kx,np.real(W_k_flat[:,11,11,1,1]))\n",
    "plt.plot(kx,np.real(W_k_flat[:,11,11,2,2]))\n",
    "plt.plot(kx,np.real(W_k_flat[:,11,11,3,3]))"
   ]
  },
  {
   "cell_type": "code",
   "execution_count": null,
   "id": "d5c37685-e055-462f-b2a9-a8d0fbe19643",
   "metadata": {},
   "outputs": [],
   "source": [
    "plt.plot(kx,np.imag(W_k_flat[:,11,11,0,0]))\n",
    "plt.plot(kx,np.imag(W_k_flat[:,11,11,1,1]))\n",
    "plt.plot(kx,np.imag(W_k_flat[:,11,11,2,2]))\n",
    "plt.plot(kx,np.imag(W_k_flat[:,11,11,3,3]))"
   ]
  },
  {
   "cell_type": "code",
   "execution_count": null,
   "id": "26b0e36b-067c-43f1-b5f0-d5c6cda78e9a",
   "metadata": {},
   "outputs": [],
   "source": [
    "plt.plot(kx,np.abs(W_k_flat_no_wilson[:,11,11,0,0]))\n",
    "plt.plot(kx,np.abs(W_k_flat_no_wilson[:,11,11,1,1]))\n",
    "plt.plot(kx,np.abs(W_k_flat_no_wilson[:,11,11,2,2]))\n",
    "plt.plot(kx,np.abs(W_k_flat_no_wilson[:,11,11,3,3]))"
   ]
  },
  {
   "cell_type": "code",
   "execution_count": null,
   "id": "f8878db0-90b8-45f0-91b0-ed9acfc6c50e",
   "metadata": {},
   "outputs": [],
   "source": [
    "plt.plot(kx,np.real(W_k_flat_no_wilson[:,11,11,0,0]))\n",
    "plt.plot(kx,np.real(W_k_flat_no_wilson[:,11,11,1,1]))\n",
    "plt.plot(kx,np.real(W_k_flat_no_wilson[:,11,11,2,2]))\n",
    "plt.plot(kx,np.real(W_k_flat_no_wilson[:,11,11,3,3]))"
   ]
  },
  {
   "cell_type": "code",
   "execution_count": null,
   "id": "f5a524f4-dbb7-40b1-bce7-94f5cf0632a5",
   "metadata": {},
   "outputs": [],
   "source": [
    "plt.plot(kx,np.imag(W_k_flat_no_wilson[:,11,11,0,0]))\n",
    "plt.plot(kx,np.imag(W_k_flat_no_wilson[:,11,11,1,1]))\n",
    "plt.plot(kx,np.imag(W_k_flat_no_wilson[:,11,11,2,2]))\n",
    "plt.plot(kx,np.imag(W_k_flat_no_wilson[:,11,11,3,3]))"
   ]
  },
  {
   "cell_type": "code",
   "execution_count": null,
   "id": "0e5a8eaf-dc47-4a74-8443-9863d32f95e3",
   "metadata": {},
   "outputs": [],
   "source": []
  },
  {
   "cell_type": "code",
   "execution_count": 14,
   "id": "348cfc48-c0f0-4d4c-8bdc-b94ffb792d1e",
   "metadata": {},
   "outputs": [],
   "source": [
    "#think about diag slices in this format"
   ]
  },
  {
   "cell_type": "code",
   "execution_count": null,
   "id": "7d67abc1-7d8e-404d-828e-0482c83dd1ff",
   "metadata": {},
   "outputs": [],
   "source": []
  },
  {
   "cell_type": "code",
   "execution_count": 47,
   "id": "24707ee8-b889-4b56-95b2-9f71b0492a5e",
   "metadata": {},
   "outputs": [],
   "source": [
    "nr,ntheta,nphi = 51, 51, 51\n",
    "theta_points_mercator = np.linspace(0.00001,np.pi,ntheta)\n",
    "\n",
    "theta_points = np.arctan(np.sinh(theta_points_mercator))\n",
    "\n",
    "#k_thetas = 2*np.pi/theta_points\n"
   ]
  },
  {
   "cell_type": "code",
   "execution_count": null,
   "id": "0fbd627a-a7f1-46bd-b238-c4bc23a597d3",
   "metadata": {},
   "outputs": [],
   "source": []
  },
  {
   "cell_type": "markdown",
   "id": "c02ff3a9-78a9-4155-aa85-69831338748b",
   "metadata": {},
   "source": [
    "$H_{\\rm Dirac} = \\int dr_\\star\\, d\\theta \\,d\\phi \\,\\overline{\\xi}(x) \\Bigl[ \\tilde{\\boldsymbol\\gamma}^1 \\partial_{r_{\\star}} + \\tilde{\\boldsymbol\\gamma}^2\\frac{e^{\\nu/2}}{r} \\partial_\\theta + \\tilde{\\boldsymbol\\gamma}^3\\frac{e^{\\nu/2}}{r \\sin\\theta} \\partial_\\phi + \\mu e^{\\nu/2} \\Bigr] \\xi(x).$"
   ]
  },
  {
   "cell_type": "code",
   "execution_count": 54,
   "id": "e152c9dc-1875-4c57-9f69-82a3909694e3",
   "metadata": {},
   "outputs": [],
   "source": [
    "r_points = np.linspace(20*M,200*M,nr) #in rstar \n",
    "tol =1.e-10\n",
    "rs =  np.array([m1.r_star_to_r(x,M,tol) for x in r_points])\n",
    "\n",
    "#krs = 2*np.pi/rs\n",
    "#the tilde versions of gamma are the same as the flat spacetime, so all this is kinda wrong. \n",
    "#still have some geometric pieces but the derivative bits itself is pretty straightforward \n",
    "\n",
    "W_k_curved = np.zeros((nr,ntheta,nphi,4,4),dtype = complex)\n",
    "W_k_curved_no_wilson = np.zeros((nr,ntheta,nphi,4,4),dtype = complex)\n",
    "#W_k_curved_no_wilson has indices of [kr,ktheta,kphi,dirac a, diracb]\n",
    "\n",
    "\n",
    "#below FT in phi as well \n",
    "phis = np.linspace(0.0000001,2*np.pi,nphi)\n",
    "k_phis = 2*np.pi/phis\n",
    "total_delta_phi = 2*(phis[1]-phis[0])\n",
    "\n",
    "\n",
    "for r in range(1,nr-1):\n",
    "    #print(r)\n",
    "    e_nuover2 = np.sqrt(1-2*M/rs[r])\n",
    "    \n",
    "    delta_r_plus = rs[r+1]-rs[r]\n",
    "    delta_r_minus = rs[r]-rs[r-1]\n",
    "    total_delta_r = delta_r_plus+delta_r_minus\n",
    "    for theta in range(1,ntheta-1):\n",
    "        epsilon_theta_plus = (theta_points_mercator[theta+1]-theta_points_mercator[theta])\n",
    "        epsilon_theta_minus = (theta_points_mercator[theta]-theta_points_mercator[theta-1])\n",
    "        total_delta_theta = epsilon_theta_plus+epsilon_theta_minus\n",
    "        \n",
    "        for m in range(len(phis)):\n",
    "            #for kr in range(len(krs)):\n",
    "               # for ktheta in range(len(k_thetas)):\n",
    " \n",
    "            #W_k_curved_no_wilson[r,theta,kphi,:,:] += Beta*e_nuover2*(mu+(gamma1)*np.exp(complex(0,krs[kr]*delta_r_plus))/(total_delta_r* e_nuover2)+ (gamma2)*np.exp(complex(0,k_thetas[ktheta]*epsilon_theta_plus))/(total_delta_theta*rs[r])+(gamma3)*np.exp(complex(0,k_phis[kphi]*epsilon_phi_plus))/(total_delta_phi*rs[r]*np.sin(theta_points[theta])) -  (gamma1)*np.exp(complex(0,-krs[kr]*delta_r_minus))/(total_delta_r* e_nuover2)- (gamma2)*np.exp(complex(0,k_thetas[ktheta]*epsilon_theta_minus))/(total_delta_theta*rs[r])- (gamma3)*np.exp(complex(0,-k_phis[kphi]*epsilon_phi_minus))/(total_delta_phi*rs[r]*np.sin(theta_points[theta])))\n",
    "            W_k_curved_no_wilson[r,theta,m,:,:] = Beta*e_nuover2*(mu+(gamma3)*np.exp(complex(0,2*np.pi*m/nphi))/(total_delta_phi*rs[r]*np.sin(theta_points[theta]))- (gamma3)*np.exp(complex(0,-2*np.pi*m/nphi))/(total_delta_phi*rs[r]*np.sin(theta_points[theta])))\n",
    "            W_k_curved_no_wilson[r+1,theta,m,::] = Beta*gamma1/(total_delta_r)\n",
    "            W_k_curved_no_wilson[r-1,theta,m,::] = -Beta*gamma1/(total_delta_r)\n",
    "            W_k_curved_no_wilson[r,theta+1,m,::] = Beta*e_nuover2*gamma2/(total_delta_theta*rs[r])\n",
    "            W_k_curved_no_wilson[r,theta-1,m,::] = -Beta*e_nuover2*gamma2/(total_delta_theta*rs[r])\n",
    "       \n",
    "            #W_k_curved_wilson_only[r,theta,m,:,:] = Beta*e_nuover2\n",
    "    "
   ]
  },
  {
   "cell_type": "code",
   "execution_count": null,
   "id": "bd453737-b2ee-43c4-a0bb-2fb87467bf8f",
   "metadata": {},
   "outputs": [],
   "source": []
  },
  {
   "cell_type": "code",
   "execution_count": 55,
   "id": "064420d9-a898-4e7d-b6ec-971f90b0f42a",
   "metadata": {},
   "outputs": [
    {
     "data": {
      "image/png": "[encoded data removed]",
      "text/plain": [
       "<Figure size 432x288 with 1 Axes>"
      ]
     },
     "metadata": {
      "needs_background": "light"
     },
     "output_type": "display_data"
    }
   ],
   "source": [
    "plt.plot(rs,np.abs(W_k_curved_no_wilson[:,24,11,0,0]))\n",
    "plt.plot(rs,np.abs(W_k_curved_no_wilson[:,24,11,1,1]))\n",
    "plt.plot(rs,np.abs(W_k_curved_no_wilson[:,24,11,2,2]))\n",
    "plt.plot(rs,np.abs(W_k_curved_no_wilson[:,24,11,3,3]))\n",
    "#plt.yscale('log')\n",
    "plt.show()"
   ]
  },
  {
   "cell_type": "code",
   "execution_count": null,
   "id": "ee9c7398-4787-4251-91be-11442510b852",
   "metadata": {},
   "outputs": [],
   "source": []
  },
  {
   "cell_type": "code",
   "execution_count": null,
   "id": "239ec809-f77a-4838-9871-bc10afb62f3d",
   "metadata": {},
   "outputs": [],
   "source": []
  },
  {
   "cell_type": "code",
   "execution_count": null,
   "id": "9c6fb678-f3de-43ad-8c26-b5669009ede3",
   "metadata": {},
   "outputs": [],
   "source": []
  }
 ],
 "metadata": {
  "kernelspec": {
   "display_name": "21cm Gal2",
   "language": "python",
   "name": "local1"
  },
  "language_info": {
   "codemirror_mode": {
    "name": "ipython",
    "version": 3
   },
   "file_extension": ".py",
   "mimetype": "text/x-python",
   "name": "python",
   "nbconvert_exporter": "python",
   "pygments_lexer": "ipython3",
   "version": "3.10.2"
  }
 },
 "nbformat": 4,
 "nbformat_minor": 5
}
