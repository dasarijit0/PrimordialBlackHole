{
 "cells": [
  {
   "cell_type": "markdown",
   "id": "parliamentary-center",
   "metadata": {},
   "source": [
    "## Differential Equations \n",
    "\n",
    "### Following is the equation we're finding a solution for:\n",
    "\n",
    "$\\begin{align} \n",
    "    f'' = \\bigg(- \\omega^2 + \\frac{l (l+1) (1 - \\frac{2M}{r})}{r^2} \\bigg) * f\n",
    "\\end{align}$\n",
    "\n",
    "\n",
    "#### To solve this, we split this equation into a system of two first order equations as follows:\n",
    "\n",
    "$\\begin{align} \n",
    "    z = f'\n",
    "\\end{align}$\n",
    "\n",
    "$\\begin{align} \n",
    "    z' = \\bigg(- \\omega^2 + \\frac{l (l+1) (1 - \\frac{2M}{r})}{r^2} \\bigg) * f\n",
    "\\end{align}$\n",
    "\n",
    "#### Then we use the RK-4 method to solve these two equations simultaneously"
   ]
  },
  {
   "cell_type": "code",
   "execution_count": 1,
   "id": "invisible-editing",
   "metadata": {},
   "outputs": [],
   "source": [
    "import numpy as np \n",
    "import math\n",
    "import matplotlib.pyplot as plt \n",
    "from scipy import optimize\n",
    "from scipy.optimize import fsolve"
   ]
  },
  {
   "cell_type": "code",
   "execution_count": 2,
   "id": "cloudy-checkout",
   "metadata": {},
   "outputs": [],
   "source": [
    "#Define the function that returns the diff. equations as a vector\n",
    "\n",
    "def diff_eq(r, z_vector):\n",
    "    \n",
    "    #Define parameteres  ###QUESTION: Do we define them inside or outside the function? Later could be instances of class\n",
    "    omega = 1.\n",
    "    l = 1. #angular momentum \n",
    "    M = 1. #blackhole mass\n",
    "    \n",
    "    f = z_vector[0]\n",
    "    z = z_vector[1]\n",
    "    \n",
    "    f_prime = z\n",
    "    \n",
    "    z_prime = -omega**2 + ((l * (l+1) *(1 - (2*M)/r)) / r) * f\n",
    "    \n",
    "    return np.asarray([f_prime, z_prime], dtype = np.complex)"
   ]
  },
  {
   "cell_type": "code",
   "execution_count": 3,
   "id": "accepting-westminster",
   "metadata": {},
   "outputs": [],
   "source": [
    "#Initial conditions\n",
    "\n",
    "f_i = 0. \n",
    "z_i = 0.\n",
    "\n",
    "#Initial conditions in a vector form\n",
    "i_vector = np.asarray([f_i, z_i])\n",
    "\n",
    "#Vector we send to the function above\n",
    "z_vector = np.asarray([f_i, z_i])"
   ]
  },
  {
   "cell_type": "code",
   "execution_count": 5,
   "id": "removable-explosion",
   "metadata": {},
   "outputs": [
    {
     "name": "stderr",
     "output_type": "stream",
     "text": [
      "/Users/arijitdas/miniconda3/lib/python3.7/site-packages/numpy/core/_asarray.py:83: ComplexWarning: Casting complex values to real discards the imaginary part\n",
      "  return array(a, dtype, copy=False, order=order)\n",
      "/Users/arijitdas/miniconda3/lib/python3.7/site-packages/numpy/core/_asarray.py:83: ComplexWarning: Casting complex values to real discards the imaginary part\n",
      "  return array(a, dtype, copy=False, order=order)\n"
     ]
    },
    {
     "data": {
      "text/plain": [
       "[<matplotlib.lines.Line2D at 0x7fc5ff5dea90>]"
      ]
     },
     "execution_count": 5,
     "metadata": {},
     "output_type": "execute_result"
    },
    {
     "data": {
      "image/png": "[encoded data removed]",
      "text/plain": [
       "<Figure size 432x288 with 1 Axes>"
      ]
     },
     "metadata": {
      "needs_background": "light"
     },
     "output_type": "display_data"
    }
   ],
   "source": [
    "#Apply Runge-Kutta method here\n",
    "\n",
    "r_initial = 0.1 \n",
    "r_final = 2.\n",
    "N = 10 #number of steps\n",
    "\n",
    "\n",
    "r_points = np.linspace(r_initial, r_final, N)\n",
    "\n",
    "f_points = [] \n",
    "z_points = []\n",
    "\n",
    "z_vector = np.asarray([f_i, z_i])\n",
    "\n",
    "for r in r_points:\n",
    "    \n",
    "    step_size = (r_final - r_initial) / (N-1)\n",
    "    f_points.append(z_vector[0])\n",
    "    z_points.append(z_vector[1])\n",
    "    \n",
    "    \n",
    "    k1 = step_size * diff_eq(r, z_vector)\n",
    "    \n",
    "    k2 = step_size * diff_eq(r + 0.5*step_size, z_vector + 0.5*k1)\n",
    "    \n",
    "    k3 = step_size * diff_eq(r + 0.5*step_size, z_vector + 0.5*k2)\n",
    "    \n",
    "    k4 = step_size * diff_eq(r + step_size, z_vector + k3)\n",
    "    \n",
    "    z_vector = (k1 + 2*k2 + 2*k3 + k4) / 6\n",
    "    \n",
    " \n",
    "\n",
    "plt.plot(r_points, f_points)\n",
    "plt.plot(r_points, z_points)\n",
    "\n",
    "\n",
    "    "
   ]
  },
  {
   "cell_type": "code",
   "execution_count": null,
   "id": "comfortable-seminar",
   "metadata": {},
   "outputs": [],
   "source": []
  }
 ],
 "metadata": {
  "kernelspec": {
   "display_name": "Python 3",
   "language": "python",
   "name": "python3"
  },
  "language_info": {
   "codemirror_mode": {
    "name": "ipython",
    "version": 3
   },
   "file_extension": ".py",
   "mimetype": "text/x-python",
   "name": "python",
   "nbconvert_exporter": "python",
   "pygments_lexer": "ipython3",
   "version": "3.7.7"
  }
 },
 "nbformat": 4,
 "nbformat_minor": 5
}
