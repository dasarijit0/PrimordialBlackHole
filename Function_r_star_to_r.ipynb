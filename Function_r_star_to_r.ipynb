{
 "cells": [
  {
   "cell_type": "code",
   "execution_count": 1,
   "id": "round-inflation",
   "metadata": {},
   "outputs": [],
   "source": [
    "import numpy as np \n",
    "import math\n",
    "import matplotlib.pyplot as plt \n",
    "from scipy import optimize\n",
    "from scipy.optimize import fsolve"
   ]
  },
  {
   "cell_type": "code",
   "execution_count": 2,
   "id": "transparent-footage",
   "metadata": {},
   "outputs": [],
   "source": [
    "def r_to_r_star(r, M):\n",
    "    return r + 2*M*np.log((r - 2*M)/(2*M))\n",
    "\n",
    "\n",
    "def r_star_to_r_condition(r_star,r, M): \n",
    "    return  r_star - r_to_r_star(r, M) \n",
    "\n",
    "\n",
    "def r_star_to_r(r_star, M, tol): \n",
    "\n",
    "    if r_star > 12*M:\n",
    "\n",
    "        r_prev = (2+1e-10)*M\n",
    "\n",
    "        r_next = r_star - 2*M * np.log((r_prev - 2*M)/(2*M))\n",
    "\n",
    "        #Counter for the while loop\n",
    "        i = 0\n",
    "\n",
    "        while abs((r_next - r_prev)/r_prev) > tol and i < 50: \n",
    "\n",
    "            i = i + 1\n",
    "\n",
    "            r_prev = r_next\n",
    "\n",
    "            r_next = r_star - 2*M * np.log((r_prev - 2*M)/(2*M))\n",
    "\n",
    "\n",
    "        return r_next\n",
    "\n",
    "\n",
    "    if r_star < -3*M: \n",
    "\n",
    "        r_prev = 2*M\n",
    "\n",
    "        r_next = (2*M) * (1 + math.e**((r_star - r_prev) / (2*M)))\n",
    "\n",
    "        i = 0\n",
    "\n",
    "        while abs((r_next - r_prev)/r_prev) > tol and i < 50: \n",
    "\n",
    "            i = i + 1\n",
    "\n",
    "            r_prev = r_next\n",
    "\n",
    "            r_next = 2*M*(1 + math.e**((r_star - r_prev) / (2*M)))\n",
    "\n",
    "        return r_next \n",
    "\n",
    "\n",
    "    else: \n",
    "\n",
    "        r_initial = 2.1*M\n",
    "        r_final = 10*M\n",
    "\n",
    "        sol = optimize.root_scalar(lambda r: r_star_to_r_condition(r_star, r, M), bracket=[r_initial, r_final], method = 'brentq')\n",
    "\n",
    "        return sol.root \n",
    "\n"
   ]
  },
  {
   "cell_type": "code",
   "execution_count": null,
   "id": "established-secondary",
   "metadata": {},
   "outputs": [],
   "source": []
  }
 ],
 "metadata": {
  "kernelspec": {
   "display_name": "Python 3",
   "language": "python",
   "name": "python3"
  },
  "language_info": {
   "codemirror_mode": {
    "name": "ipython",
    "version": 3
   },
   "file_extension": ".py",
   "mimetype": "text/x-python",
   "name": "python",
   "nbconvert_exporter": "python",
   "pygments_lexer": "ipython3",
   "version": "3.7.7"
  }
 },
 "nbformat": 4,
 "nbformat_minor": 5
}
