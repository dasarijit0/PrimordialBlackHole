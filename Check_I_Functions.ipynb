{
 "cells": [
  {
   "cell_type": "code",
   "execution_count": 166,
   "id": "b82d0e9f-c90c-4ad6-b2f1-213ee32d7d42",
   "metadata": {},
   "outputs": [
    {
     "name": "stdout",
     "output_type": "stream",
     "text": [
      "3.978873577297383e-25 7.957747154594767e-22\n",
      "-3.978873577297383e-25\n"
     ]
    },
    {
     "data": {
      "text/plain": [
       "<module 'I_functions_class' from '/users/PCON0003/koivuemily/PrimordialBlackHole/I_functions_class.py'>"
      ]
     },
     "execution_count": 166,
     "metadata": {},
     "output_type": "execute_result"
    }
   ],
   "source": [
    "import numpy as np \n",
    "import math\n",
    "import matplotlib.pyplot as plt \n",
    "from scipy import optimize\n",
    "from scipy.optimize import fsolve\n",
    "\n",
    "\n",
    "from sympy import symbols\n",
    "from sympy.physics.wigner import wigner_3j\n",
    "import module1 as m1 # module1 contains the function to convert r_star to r\\n\",\n",
    "\n",
    "import cmath\n",
    "from astropy.io import fits\n",
    " \n",
    "M = 1.e21 #also in planck units\n",
    "T = 1/(8*np.pi*M)\n",
    "omegas = np.linspace(.01*T,20*T,2000)\n",
    "\n",
    "print(omegas[0],omegas[-1])\n",
    "print(omegas[0]-omegas[1])\n",
    "\n",
    "import I_functions_class as Inp\n",
    "\n",
    "X = 1\n",
    "k = 2\n",
    "X_prime = 1\n",
    "k_prime = 3\n",
    "X_gamma = 1\n",
    "l = 1\n",
    "parity = 1\n",
    "h =3.8e-23  #h and h_prime should be on the same order but smaller than mu\n",
    "h_prime = 3.9e-23\n",
    "omega = 4.e-25  #should be much much less than 1/r but lowest one is only ~ 1/r i think -> want to ask about this \n",
    "               #5.069927873444599e-25 is the smallest 1/r here but it seems as\n",
    "n = 1\n",
    "\n",
    "from imp import reload\n",
    "reload(Inp)"
   ]
  },
  {
   "cell_type": "code",
   "execution_count": 2,
   "id": "ad21d055-2799-4ea3-9175-86af06304598",
   "metadata": {},
   "outputs": [
    {
     "data": {
      "text/plain": [
       "-0.06690784006558102"
      ]
     },
     "execution_count": 2,
     "metadata": {},
     "output_type": "execute_result"
    }
   ],
   "source": [
    "(h_prime - 4.1796514508e-23 )/4.1796514508e-23  #want this to be much much less than 1 "
   ]
  },
  {
   "cell_type": "code",
   "execution_count": 31,
   "id": "df489886-1399-4939-83c6-ca13ee9c251f",
   "metadata": {},
   "outputs": [
    {
     "data": {
      "text/plain": [
       "0.7944801407312484"
      ]
     },
     "execution_count": 31,
     "metadata": {},
     "output_type": "execute_result"
    }
   ],
   "source": [
    "omega*rlhs[0] #want this to be much much less than 1 "
   ]
  },
  {
   "cell_type": "code",
   "execution_count": 156,
   "id": "ff3df71b-966a-4140-8160-0095e610db7e",
   "metadata": {},
   "outputs": [
    {
     "data": {
      "text/plain": [
       "-9.999999999999986e-25"
      ]
     },
     "execution_count": 156,
     "metadata": {},
     "output_type": "execute_result"
    }
   ],
   "source": [
    "h-h_prime"
   ]
  },
  {
   "cell_type": "code",
   "execution_count": 6,
   "id": "535417e0-79ff-47f2-affd-99097446bced",
   "metadata": {},
   "outputs": [
    {
     "data": {
      "text/plain": [
       "0.426223603438147"
      ]
     },
     "execution_count": 6,
     "metadata": {},
     "output_type": "execute_result"
    }
   ],
   "source": [
    "kappa = np.sqrt(2*4.1796514508e-23*(4.1796514508e-23-h))\n",
    "kappa/mu"
   ]
  },
  {
   "cell_type": "code",
   "execution_count": 5,
   "id": "3a335ffb-6f6e-40bc-adc2-c28d4c68c404",
   "metadata": {},
   "outputs": [],
   "source": [
    "mu = 4.1796514508e-23"
   ]
  },
  {
   "cell_type": "code",
   "execution_count": 3,
   "id": "0780ef19-b9b6-4a48-9def-43ad281bbd7e",
   "metadata": {},
   "outputs": [],
   "source": [
    "#IfunctionsNoM(X,k,X_prime,k_prime,X_gamma,l,parity,h,h_prime,omega,M,n)\n",
    "tryA2=Inp.IfunctionsNoM(X,k,X_prime,k_prime,X_gamma,l,parity,h,h_prime,omega,M,n)"
   ]
  },
  {
   "cell_type": "code",
   "execution_count": 7,
   "id": "751d9731-2cf3-4dc4-b4f2-0c83ceac0f5b",
   "metadata": {},
   "outputs": [],
   "source": [
    "#IBarplusplusevenfunc(self,X,k,X_prime,k_prime,X_gamma,l,h,h_prime,omega,M,lim1,lim2)\n",
    "#set1_2 = tryA2.IBarplusplusevenfunc(X,k,X_prime,k_prime,X_gamma,l,h,h_prime,omega,M,1.,2.)"
   ]
  },
  {
   "cell_type": "code",
   "execution_count": 7,
   "id": "483b8d99-eed0-4f50-a198-2f772627fc9e",
   "metadata": {},
   "outputs": [],
   "source": [
    "direcPhoton = '/fs/scratch/PCON0003/emily/PhotonWaveFunctionFits/'\n",
    "        \n",
    "hdu = fits.open(direcPhoton+str(l)+'.fits')\n",
    "        \n",
    "r_points_gamma_Hdu = hdu[tryA2.omega_index].data.field('rpoints_up')"
   ]
  },
  {
   "cell_type": "code",
   "execution_count": 137,
   "id": "c34887cf-a310-423a-87ce-36fa1ce461cd",
   "metadata": {},
   "outputs": [],
   "source": [
    "rdata = r_points_gamma_Hdu.data"
   ]
  },
  {
   "cell_type": "code",
   "execution_count": 138,
   "id": "517edf3e-2e5d-452c-8cba-1087766e09c4",
   "metadata": {},
   "outputs": [
    {
     "data": {
      "text/plain": [
       "XTENSION= 'BINTABLE'           / binary table extension                         \n",
       "BITPIX  =                    8 / array data type                                \n",
       "NAXIS   =                    2 / number of array dimensions                     \n",
       "NAXIS1  =                   72 / length of dimension 1                          \n",
       "NAXIS2  =               120000 / length of dimension 2                          \n",
       "PCOUNT  =                    0 / number of group parameters                     \n",
       "GCOUNT  =                    1 / number of groups                               \n",
       "TFIELDS =                    5 / number of table fields                         \n",
       "TTYPE1  = 'rpoints_up'                                                          \n",
       "TFORM1  = 'D       '                                                            \n",
       "TTYPE2  = 'F_points_up'                                                         \n",
       "TFORM2  = 'M       '                                                            \n",
       "TTYPE3  = 'z_points_up'                                                         \n",
       "TFORM3  = 'M       '                                                            \n",
       "TTYPE4  = 'F_points_in'                                                         \n",
       "TFORM4  = 'M       '                                                            \n",
       "TTYPE5  = 'z_points_in'                                                         \n",
       "TFORM5  = 'M       '                                                            \n",
       "OMEGA   = 4.13022212177916E-22                                                  \n",
       "R       = (-0.01719030986267574, 0.07612201285237007)                           \n",
       "T       = (0.2592431643380442, -0.9626540989144823)                             "
      ]
     },
     "execution_count": 138,
     "metadata": {},
     "output_type": "execute_result"
    }
   ],
   "source": [
    "hdu[-1].header"
   ]
  },
  {
   "cell_type": "code",
   "execution_count": 28,
   "id": "7708440c-d7f7-4777-93cf-3372fc669b31",
   "metadata": {},
   "outputs": [
    {
     "data": {
      "text/plain": [
       "array([ 2.00000000e+24,  1.99998275e+24,  1.99996550e+24, ...,\n",
       "       -6.99568748e+22, -6.99741249e+22, -6.99913750e+22])"
      ]
     },
     "execution_count": 28,
     "metadata": {},
     "output_type": "execute_result"
    }
   ],
   "source": [
    "r_points_gamma_Hdu"
   ]
  },
  {
   "cell_type": "code",
   "execution_count": 16,
   "id": "59eba9cd-104b-4116-8b29-986f37c956e7",
   "metadata": {},
   "outputs": [],
   "source": [
    "direcElectron = '/users/PCON0003/koivuemily/PrimordialBlackHole/ElectronWaveFunctionFits/'"
   ]
  },
  {
   "cell_type": "code",
   "execution_count": 17,
   "id": "3b8302a9-4e93-4e21-a8cf-98e167a22a11",
   "metadata": {},
   "outputs": [],
   "source": [
    "hdu = fits.open(direcElectron+str(k)+'ExtendedOmega.fits')"
   ]
  },
  {
   "cell_type": "code",
   "execution_count": 18,
   "id": "58a18d62-d2a2-4a9a-a8ea-9d65dd7c8a50",
   "metadata": {},
   "outputs": [],
   "source": [
    "r_points = hdu[-1].data.field('rpoints_up')"
   ]
  },
  {
   "cell_type": "code",
   "execution_count": 21,
   "id": "ea7ec31d-74be-42af-87d7-f7e2051a5f0e",
   "metadata": {},
   "outputs": [
    {
     "data": {
      "text/plain": [
       "SIMPLE  =                    T / conforms to FITS standard                      \n",
       "BITPIX  =                    8 / array data type                                \n",
       "NAXIS   =                    0 / number of array dimensions                     \n",
       "EXTEND  =                    T                                                  \n",
       "TYPE    = 'Electron Wavefunction'                                               \n",
       "R_INIT  =                2E+24                                                  \n",
       "R_FINAL =               -7E+22                                                  \n",
       "M       =                1E+21                                                  \n",
       "L       =                  3.0                                                  \n",
       "TOL     =                1E-10                                                  \n",
       "MU      =     4.1796514508E-23                                                  \n",
       "NU      =                  1.0                                                  \n",
       "LAM     =                  1.0                                                  "
      ]
     },
     "execution_count": 21,
     "metadata": {},
     "output_type": "execute_result"
    }
   ],
   "source": [
    "r_points"
   ]
  },
  {
   "cell_type": "code",
   "execution_count": 57,
   "id": "a8c425e9-fe45-40b3-abeb-0584d91508db",
   "metadata": {},
   "outputs": [],
   "source": [
    "r_initial = 10000.*M\n",
    "r_final= -70.*M\n",
    "tol = 1.e-10"
   ]
  },
  {
   "cell_type": "code",
   "execution_count": 58,
   "id": "a1e98e83-17ab-487f-bb0d-b8e79b4c2d61",
   "metadata": {},
   "outputs": [
    {
     "name": "stdout",
     "output_type": "stream",
     "text": [
      "fpoints0 is (1+0j)\n",
      "normalized using rup neg infinity:-7e+22\n",
      "(2.0511637004581417e-07+3.8011834644223063e-07j)\n",
      "fpoints0 renormalized is (2.0511637004581417e-07+3.8011834644223063e-07j)\n",
      "fpoints0 is (1+0j)\n",
      "is this rstar infinity: 1e+25\n",
      "(-4.1897212492378496e-07-1.0500019571229221e-07j)\n",
      "fpoints0 renormalized is (-4.1897212492378496e-07-1.0500019571229221e-07j)\n",
      "rin negative infinity-7e+22\n",
      "compare T:(1.865626825627471e-13, 1.865626825627713e-13)\n",
      "rstar up used 1e+25\n",
      "t phase is -2.9240363811976104\n",
      "rstar used :-7e+22\n"
     ]
    }
   ],
   "source": [
    "PWF = Inp.PhotonWaveFunction(M, omega, l, tol)\n",
    "r_gamma, F_points_gamma, z_points_gamma, f_points_gamma_prime = PWF.RK_4(r_initial, r_final, 240000, up = True)\n",
    "r_gamma_in, F_points_gamma_in, z_points_gamma_in, f_points_gamma_prime_in = PWF.RK_4(r_final, r_initial, 240000, up = False)\n",
    "Rgamma, Tgamma = PWF.get_R_and_T_coeff(r_gamma,F_points_gamma,z_points_gamma,r_gamma_in,F_points_gamma_in,z_points_gamma_in)"
   ]
  },
  {
   "cell_type": "code",
   "execution_count": 98,
   "id": "9854507b-7221-4832-8061-51029a0f65ef",
   "metadata": {},
   "outputs": [
    {
     "name": "stdout",
     "output_type": "stream",
     "text": [
      "500.00633335972145\n"
     ]
    }
   ],
   "source": [
    "#F_points_gamma_in = F_points_gamma_in[::-1]\n",
    "#len(F_points_gamma_in)\n",
    "print(r_gamma[::2][113207]/M)\n"
   ]
  },
  {
   "cell_type": "code",
   "execution_count": 71,
   "id": "0351e924-7f2a-4fd0-9b5b-1f3936673519",
   "metadata": {},
   "outputs": [
    {
     "name": "stderr",
     "output_type": "stream",
     "text": [
      "/users/PCON0003/koivuemily/.conda/envs/local1/lib/python3.10/site-packages/matplotlib/cbook/__init__.py:1298: ComplexWarning: Casting complex values to real discards the imaginary part\n",
      "  return np.asarray(x, float)\n"
     ]
    },
    {
     "data": {
      "image/png": "[encoded data removed]",
      "text/plain": [
       "<Figure size 432x288 with 1 Axes>"
      ]
     },
     "metadata": {
      "needs_background": "light"
     },
     "output_type": "display_data"
    },
    {
     "name": "stderr",
     "output_type": "stream",
     "text": [
      "/users/PCON0003/koivuemily/.conda/envs/local1/lib/python3.10/site-packages/matplotlib/cbook/__init__.py:1298: ComplexWarning: Casting complex values to real discards the imaginary part\n",
      "  return np.asarray(x, float)\n"
     ]
    },
    {
     "data": {
      "image/png": "[encoded data removed]",
      "text/plain": [
       "<Figure size 432x288 with 1 Axes>"
      ]
     },
     "metadata": {
      "needs_background": "light"
     },
     "output_type": "display_data"
    },
    {
     "name": "stderr",
     "output_type": "stream",
     "text": [
      "/users/PCON0003/koivuemily/.conda/envs/local1/lib/python3.10/site-packages/matplotlib/cbook/__init__.py:1298: ComplexWarning: Casting complex values to real discards the imaginary part\n",
      "  return np.asarray(x, float)\n"
     ]
    },
    {
     "data": {
      "image/png": "[encoded data removed]",
      "text/plain": [
       "<Figure size 432x288 with 1 Axes>"
      ]
     },
     "metadata": {
      "needs_background": "light"
     },
     "output_type": "display_data"
    }
   ],
   "source": [
    "import scipy as sci\n",
    "\n",
    "psi_d4 = sci.special.spherical_jn(1, omega*r_gamma_in, derivative=False)\n",
    "\n",
    "\n",
    "plt.plot(r_gamma_in/M,F_points_gamma_in,label='wavefunction')\n",
    "plt.plot(r_gamma_in/M,psi_d4*-2*omega*r_gamma_in,label='bessel')\n",
    "plt.plot(r_gamma_in/M,-2*(omega**2*r_gamma_in**2)/3,label='2nd order')\n",
    "plt.legend()\n",
    "plt.show()\n",
    "\n",
    "\n",
    "plt.plot(r_gamma_in[:60000]/M,F_points_gamma_in[:60000],label='wavefunction')\n",
    "plt.plot(r_gamma_in[:60000]/M,psi_d4[:60000]*-2*omega*r_gamma_in[:60000],label='bessel')\n",
    "plt.plot(r_gamma_in[:60000]/M,-2*(omega**2*r_gamma_in[:60000]**2)/3,label='2nd order')\n",
    "plt.legend()\n",
    "plt.show()\n",
    "\n",
    "plt.plot(r_gamma_in[100000:]/M,F_points_gamma_in[100000:],label='wavefunction')\n",
    "plt.plot(r_gamma_in[100000:]/M,psi_d4[100000:]*-2*omega*r_gamma_in[100000:],label='bessel')\n",
    "#plt.plot(r_gamma_in/M,-2*(omega**2*r_gamma_in**2)/3,label='2nd order')\n",
    "plt.legend()\n",
    "plt.show()\n"
   ]
  },
  {
   "cell_type": "code",
   "execution_count": 197,
   "id": "26b70e83-1e4f-4a3e-9e64-48b7124e02c5",
   "metadata": {},
   "outputs": [],
   "source": [
    "def rhs(h,h_prime,omega,k,k_prime,M,r_initial, r_final,lentest): \n",
    "    \n",
    "    nu = 1.\n",
    "    mu =4.1796514508e-23 #planck units \n",
    "    lam = 1.\n",
    "    GC = 1.\n",
    "    c = 1.\n",
    "    tol = 1.e-10\n",
    "    step_size_for_inte = 1*240000\n",
    "        \n",
    "    first_coeff = omega*((h-h_prime)**2)/(36*np.pi*mu**2)\n",
    "    brac = 0 \n",
    "    \n",
    "    #L=j-1/2*s\n",
    "    \n",
    "    j=(np.abs(k) - 1/2)\n",
    "    j_prime = (np.abs(k_prime) - 1/2)\n",
    "    \n",
    "    s=0\n",
    "    s_prime=0\n",
    "        \n",
    "    if k !=0:\n",
    "        s= (k/np.abs(k))\n",
    "    if k_prime!=0:\n",
    "        s_prime=k_prime/np.abs(k_prime)\n",
    "        \n",
    "    L=j-.5*s\n",
    "    L_prime=j_prime -.5*s_prime \n",
    "    print(L,L_prime)\n",
    "    \n",
    "    if np.abs(L_prime-(L+1))<tol:\n",
    "        brac = (L+1)/(2*L+1)\n",
    "    elif np.abs(L_prime-(L-1))<tol: \n",
    "        brac = L/(2*L+1)\n",
    "    else: \n",
    "        brac=0.\n",
    "    \n",
    "    print(first_coeff,brac)\n",
    "    #try0 = ElectronWaveFunction(nu, h, k, mu, M, lam, GC, c, tol)\n",
    "    #r_points,F_points_xkh, G_points_xkh = try0.RK_4(r_initial, r_final, step_size_for_inte, up = True)\n",
    "    \n",
    "    #try1 = ElectronWaveFunction(nu, h_prime, k_prime, mu, M, lam, GC, c, tol)\n",
    "    #r_points,F_points_xkprimehprime, G_points_xkprimehprime = try1.RK_4(r_initial, r_final, step_size_for_inte, up = True)\n",
    "    \n",
    "    \n",
    "    omega_index = round(omega*100*(8*np.pi*M) -1)\n",
    "    print(omega_index)\n",
    "    h_index = round(h*100*(8*np.pi*M) -1)\n",
    "    h_prime_index = round(h_prime*100*(8*np.pi*M) -1)\n",
    "    \n",
    "    \n",
    "    direcElectron = '/users/PCON0003/koivuemily/PrimordialBlackHole/ElectronWaveFunctionFits/'\n",
    "    if k>0:\n",
    "        hdu = fits.open(direcElectron+str(k)+'ExtendedOmega.fits')\n",
    "    else:\n",
    "        hdu = fits.open(direcElectron+'min'+str(k)+'ExtendedOmega.fits')\n",
    "\n",
    "    #r_points_star = hdu[h_index].data.field('rpoints_up')\n",
    "    #this is in rstar, should I switch to r? gonna try it \n",
    "    \n",
    "    #r_points = np.array([m1.r_star_to_r(x,M,tol) for x in r_points_star])\n",
    "    \n",
    "    #back to using rstar\n",
    "    r_points = hdu[h_index].data.field('rpoints_up')\n",
    "     \n",
    "    F_points_xkh = hdu[h_index].data.field('F_points_up')\n",
    "    G_points_xkh = hdu[h_index].data.field('G_points_up')\n",
    "    \n",
    "    \n",
    "   \n",
    "    if k_prime>0:\n",
    "        hdu = fits.open(direcElectron+str(k_prime)+'ExtendedOmega.fits')\n",
    "    else:\n",
    "        hdu = fits.open(direcElectron+'min'+str(k_prime)+'ExtendedOmega.fits')\n",
    "\n",
    "    #r_points = hdu[self.h_index+1]['rpoints_up']\n",
    "    F_points_xkh_prime = hdu[h_prime_index].data.field('F_points_up')\n",
    "    G_points_xkh_prime = hdu[h_prime_index].data.field('G_points_up')\n",
    "    \n",
    "    df_xkh_dr =[]\n",
    "    df_xkh_prime_dr =[]\n",
    "    rstar_step = r_points[0]-r_points[1]\n",
    "    for i in range(lentest-1):\n",
    "        df_xkh_dr.append( (F_points_xkh[i+1]-F_points_xkh[i])/rstar_step) \n",
    "        df_xkh_prime_dr.append( (F_points_xkh_prime[i+1]-F_points_xkh_prime[i])/rstar_step)\n",
    "         \n",
    "        \n",
    "    plt.plot(r_points[:lentest]/M,G_points_xkh[:lentest],label='g')\n",
    "    plt.plot(r_points[:lentest-1]/M, (k*F_points_xkh[:lentest-1]/r_points[:lentest-1] - df_xkh_dr)/(2*mu),label='F')\n",
    "    plt.legend()\n",
    "    plt.title('XKH')\n",
    "    plt.ylim(-1.e-18,5.e-18)\n",
    "    plt.show()\n",
    "\n",
    "    plt.plot(r_points[:lentest]/M,G_points_xkh_prime[:lentest],label='g')\n",
    "    plt.plot(r_points[:lentest-1]/M, (k*F_points_xkh_prime[:lentest-1]/r_points[:lentest-1] - df_xkh_prime_dr)/(2*mu),label='F')\n",
    "    plt.legend()\n",
    "    plt.title('XKH_Prime')\n",
    "    plt.ylim(-1.e-18,5.e-18)\n",
    "    plt.show()\n",
    "             \n",
    "    \n",
    "    print((F_points_xkh[0]))\n",
    "    print((F_points_xkh_prime[0]))\n",
    "    print()\n",
    "    print(r_points[86316]/M)\n",
    "    dr = r_points[0]-r_points[1]\n",
    "    print(dr)\n",
    "    inte = 0 \n",
    "    integ = []\n",
    "    for i in range(toplen,lentest-1,1):\n",
    "        inte += .5*(np.conjugate(F_points_xkh[i])*(F_points_xkh_prime[i])*r_points[i] + np.conjugate(F_points_xkh[i+1])*(F_points_xkh_prime[i+1])*r_points[i+1])*dr\n",
    "        integ.append(inte)\n",
    "    #print(inte)\n",
    "    plt.loglog(r_points[toplen:lentest-1]/M,np.abs(integ*np.conjugate(integ)*brac*first_coeff))\n",
    "    #plt.xlim(100000,130000)\n",
    "    plt.xlabel('r_points')\n",
    "    plt.ylabel('Integral RHS not squared')\n",
    "    plt.show()\n",
    "    return np.conjugate(inte)*inte*brac*first_coeff, np.abs(integ*np.conjugate(integ)*brac*first_coeff)\n",
    "    #return np.conjugate(F_points_xkh)*(F_points_xkh_prime)*r_points*dr\n"
   ]
  },
  {
   "cell_type": "code",
   "execution_count": 198,
   "id": "735df0ca-272b-4726-abd2-7622d8b9135e",
   "metadata": {},
   "outputs": [
    {
     "name": "stdout",
     "output_type": "stream",
     "text": [
      "1.0 2.0\n",
      "2.0245452341896334e-30 0.6666666666666666\n",
      "0\n"
     ]
    },
    {
     "name": "stderr",
     "output_type": "stream",
     "text": [
      "/users/PCON0003/koivuemily/.conda/envs/local1/lib/python3.10/site-packages/matplotlib/cbook/__init__.py:1298: ComplexWarning: Casting complex values to real discards the imaginary part\n",
      "  return np.asarray(x, float)\n",
      "/users/PCON0003/koivuemily/.conda/envs/local1/lib/python3.10/site-packages/matplotlib/cbook/__init__.py:1298: ComplexWarning: Casting complex values to real discards the imaginary part\n",
      "  return np.asarray(x, float)\n"
     ]
    },
    {
     "data": {
      "image/png": "[encoded data removed]",
      "text/plain": [
       "<Figure size 432x288 with 1 Axes>"
      ]
     },
     "metadata": {
      "needs_background": "light"
     },
     "output_type": "display_data"
    },
    {
     "name": "stderr",
     "output_type": "stream",
     "text": [
      "/users/PCON0003/koivuemily/.conda/envs/local1/lib/python3.10/site-packages/matplotlib/cbook/__init__.py:1298: ComplexWarning: Casting complex values to real discards the imaginary part\n",
      "  return np.asarray(x, float)\n",
      "/users/PCON0003/koivuemily/.conda/envs/local1/lib/python3.10/site-packages/matplotlib/cbook/__init__.py:1298: ComplexWarning: Casting complex values to real discards the imaginary part\n",
      "  return np.asarray(x, float)\n"
     ]
    },
    {
     "data": {
      "image/png": "[encoded data removed]",
      "text/plain": [
       "<Figure size 432x288 with 1 Axes>"
      ]
     },
     "metadata": {
      "needs_background": "light"
     },
     "output_type": "display_data"
    },
    {
     "name": "stdout",
     "output_type": "stream",
     "text": [
      "(-2.5322208815324926e-31-8.432065976059953e-31j)\n",
      "(-1.810413074839983e-32-4.66677405818045e-32j)\n",
      "\n",
      "511.04279601165007\n",
      "1.725007187534676e+19\n"
     ]
    },
    {
     "data": {
      "image/png": "[encoded data removed]",
      "text/plain": [
       "<Figure size 432x288 with 1 Axes>"
      ]
     },
     "metadata": {
      "needs_background": "light"
     },
     "output_type": "display_data"
    }
   ],
   "source": [
    "right2,right2plot = rhs(h,h_prime,omega,k,k_prime,M,2000.*M, 50.*M,lentest)\n",
    "\n",
    "#this gives the mod squared of integral F*Fprime*r dr times coefficients"
   ]
  },
  {
   "cell_type": "code",
   "execution_count": 129,
   "id": "be8d3a7e-dc3b-49db-b3a8-c8256120c7a4",
   "metadata": {},
   "outputs": [],
   "source": [
    "#lentest = 113043 for 50M \n",
    "lentest = 86316 #for 500M"
   ]
  },
  {
   "cell_type": "code",
   "execution_count": 163,
   "id": "8145fc97-941c-4a14-9916-3f2b049f6aeb",
   "metadata": {},
   "outputs": [
    {
     "data": {
      "text/plain": [
       "(4.132664873945594e-17+0j)"
      ]
     },
     "execution_count": 163,
     "metadata": {},
     "output_type": "execute_result"
    }
   ],
   "source": [
    "right2"
   ]
  },
  {
   "cell_type": "code",
   "execution_count": 19,
   "id": "0e8931d5-c174-4049-a03e-1100bd83d92e",
   "metadata": {},
   "outputs": [],
   "source": [
    "tryA2=Inp.IfunctionsNoM(X,k,X_prime,k_prime,X_gamma,l,parity,h,h_prime,omega,M,n)\n",
    "lhs = tryA2.IBarplusminusevenfunc(X,k,X_prime,k_prime,X_gamma,l,h,h_prime,omega,M,1.,2.)"
   ]
  },
  {
   "cell_type": "code",
   "execution_count": 194,
   "id": "903223a8-72a4-4200-b1bf-4dbc41e64f5b",
   "metadata": {},
   "outputs": [],
   "source": [
    "def IBarplusminusevenfunctest(X,k,X_prime,k_prime,X_gamma,l,h,h_prime,omega,M,F_points_gamma_in, z_points_gamma_in):\n",
    "        nu = 1.\n",
    "        mu = 4.1796514508e-23 \n",
    "        lam = 1.\n",
    "        GC = 1.\n",
    "        c = 1.\n",
    "        tol = 1.e-10\n",
    "        omega_index = round(omega*100*(8*np.pi*M) -1)\n",
    "        print(omega_index)\n",
    "        h_index = round(h*100*(8*np.pi*M) -1)\n",
    "        h_prime_index = round(h_prime*100*(8*np.pi*M) -1)\n",
    "    \n",
    "        \n",
    "        #far from BH and then work towards that (up)\n",
    "        #r_initial = 5000.*M #in rstar\n",
    "        #r_final = -70.*M  #in rstar \n",
    "        \n",
    "       \n",
    "        if X==0:\n",
    "            uptrue = False\n",
    "        else:\n",
    "            uptrue = True\n",
    "        if X_prime==0:\n",
    "            uptrue_Xprime = False\n",
    "        else:\n",
    "            uptrue_Xprime = True\n",
    "            \n",
    "        if X_gamma==0:\n",
    "            uptrue_Xgamma = False\n",
    "        else:\n",
    "            uptrue_Xgamma = True \n",
    "            \n",
    "        \"\"\"\n",
    "        #might pass this in instead. will ask \n",
    "        try0 = ElectronWaveFunction(nu, h, k, mu, M, lam, GC, c, tol)\n",
    "        r_points,F_points_xkh, G_points_xkh = try0.RK_4(r_initial, r_final, self.step_size_for_inte, up = uptrue)\n",
    "        \n",
    "        try1 = ElectronWaveFunction(nu, h_prime, k_prime, mu, M, lam, GC, c, tol)\n",
    "        r_points_prime,F_points_xkh_prime, G_points_xkh_prime = try1.RK_4(r_initial, r_final, self.step_size_for_inte, up = uptrue_Xprime)\n",
    "        \n",
    "        \n",
    "        phot_try0= PhotonWaveFunction(M,omega,l,tol)\n",
    "        r_points_gamma, f_points_gammalomega, z_points_gammalomega, f_points_gammalomega_prime = phot_try0.RK_4(r_initial_gamma, r_final_gamma, self.step_size_for_inte, up = uptrue_Xgamma)\n",
    "        \n",
    "        print(r_points[0],r_points_prime[0],r_points_gamma[0])\n",
    "        \n",
    "        \"\"\"\n",
    "        psi_gammalomega = F_points_gamma_in[::-1][::2]\n",
    "        psi_gammalomega_prime =z_points_gamma_in[::-1][::2]\n",
    "        \n",
    "        \n",
    "        direcElectron = '/users/PCON0003/koivuemily/PrimordialBlackHole/ElectronWaveFunctionFits/'\n",
    "        if k>0:\n",
    "            hdu = fits.open(direcElectron+str(k)+'ExtendedOmega.fits')\n",
    "        else:\n",
    "            hdu = fits.open(direcElectron+'min'+str(k)+'ExtendedOmega.fits')\n",
    "        \n",
    "        r_points = hdu[h_index].data.field('rpoints_up')\n",
    "        if uptrue == True: \n",
    "            F_points_xkh = hdu[h_index].data.field('F_points_up')\n",
    "            G_points_xkh = hdu[h_index].data.field('G_points_up')\n",
    "        else: \n",
    "            F_points_xkh = hdu[h_index].data.field('F_points_in')\n",
    "            G_points_xkh = hdu[h_index].data.field('G_points_in')\n",
    "            \n",
    "        if k_prime>0:\n",
    "            hdu = fits.open(direcElectron+str(k_prime)+'ExtendedOmega.fits')\n",
    "        else:\n",
    "            hdu = fits.open(direcElectron+'min'+str(k_prime)+'ExtendedOmega.fits')\n",
    "        \n",
    "        #r_points = hdu[self.h_index+1]['rpoints_up']\n",
    "        if uptrue_Xprime == True: \n",
    "            F_points_xkh_prime = hdu[h_prime_index].data.field('F_points_up')\n",
    "            G_points_xkh_prime = hdu[h_prime_index].data.field('G_points_up')\n",
    "        else: \n",
    "            F_points_xkh_prime = hdu[h_prime_index].data.field('F_points_in')\n",
    "            G_points_xkh_prime = hdu[h_prime_index].data.field('G_points_in')\n",
    "        \n",
    "        \n",
    "\n",
    "        \n",
    "        print(r_points[lentest]/M)\n",
    "        psi_gammalomega = psi_gammalomega[:lentest]\n",
    "        psi_gammalomega_prime =psi_gammalomega_prime[:lentest]\n",
    "        \n",
    "        \n",
    "        g_xkh = np.array(G_points_xkh[:lentest])\n",
    "        g_xkh_prime = np.array(G_points_xkh_prime[:lentest])\n",
    "        \n",
    "        \n",
    "        gstar_xkh = np.conjugate(np.array(G_points_xkh[:lentest]))\n",
    "        g_xprime_kprime_hprime = np.array(G_points_xkh_prime[:lentest])\n",
    "        \n",
    "        fstar_xkh = np.conjugate(np.array(F_points_xkh[:lentest]))\n",
    "        f_xkh = np.array(F_points_xkh[:lentest])\n",
    "        f_xprime_kprime_hprime = np.array(F_points_xkh_prime[:lentest])\n",
    "        \n",
    "        \n",
    "        #need deriviative \n",
    "        df_xkh_dr =[]\n",
    "        df_xkh_prime_dr =[]\n",
    "        rstar_step = r_points[0]-r_points[1]\n",
    "        for i in range(lentest-1):\n",
    "            df_xkh_dr.append( (f_xkh[i+1]-f_xkh[i])/rstar_step) \n",
    "            df_xkh_prime_dr.append( (f_xprime_kprime_hprime[i+1]-f_xprime_kprime_hprime[i])/rstar_step)\n",
    "            \n",
    "        plt.plot(r_points[:lentest]/M,g_xkh,label='g')\n",
    "        plt.plot(r_points[:lentest-1]/M, (k*f_xkh[:-1]/r_points[:lentest-1] - df_xkh_dr)/(2*mu),label='F')\n",
    "        plt.legend()\n",
    "        plt.title('XKH')\n",
    "        plt.ylim(-1.e-18,5.e-18)\n",
    "        plt.show()\n",
    "        \n",
    "        plt.plot(r_points[:lentest],g_xkh_prime,label='g')\n",
    "        plt.plot(r_points[:lentest-1], (k*f_xprime_kprime_hprime[:-1]/r_points[:lentest-1] - df_xkh_prime_dr)/(2*mu),label='F')\n",
    "        plt.legend()\n",
    "        plt.title('XKH_Prime')\n",
    "        plt.ylim(-1.e-18,5.e-18)\n",
    "        plt.show()\n",
    "            \n",
    "        #psi_gammalomega = np.array(f_points_gammalomega)\n",
    "        #psi_gammalomega_prime = np.array(z_points_gammalomega)\n",
    "        \n",
    "        r = np.array([m1.r_star_to_r(x,M,tol) for x in r_points[:lentest]]) #should be same for all I integrals (per M) so can pass to the functions \n",
    "        rdependentpart_top = (1-2*M/r)/(r**2*np.sqrt(2*omega**3))\n",
    "        rdependentpart_bottom = np.sqrt(1-2*M/r)/(r*np.sqrt(2*omega))\n",
    "        \n",
    "        \n",
    "        #print(gstar_xkh,fstar_xkh,psi_gammalomega,rdependentpart_top,rdependentpart_bottom)\n",
    "\n",
    "        #print(np.dot(gstar_xkh[0],gstar_xprime_minkprime_hprime[0]))\n",
    "        #print(fstar_xkh*fstar_xprime_minkprime_hprime)\n",
    "        \n",
    "        topline = (fstar_xkh*g_xprime_kprime_hprime - gstar_xkh*f_xprime_kprime_hprime)*np.sqrt(l*(l+1))*psi_gammalomega*rdependentpart_top\n",
    "           \n",
    "        botline = (fstar_xkh*g_xprime_kprime_hprime + gstar_xkh*f_xprime_kprime_hprime)*((k-k_prime)/(omega*np.sqrt(l*(l+1))))*psi_gammalomega_prime*rdependentpart_bottom\n",
    "        \n",
    "        \n",
    "        #print(topline, botline)\n",
    "        #return topline+botline\n",
    "        \n",
    "        #midpoint method\n",
    "        inte = 0.\n",
    "        rstar_step = r_points[0]-r_points[1]   #switched order to get positive steps in\n",
    "        integ=[]\n",
    "        for index in range(toplen,len(topline)-1,1):  #rewrite as np.sum\n",
    "            inte += .5*(topline[index]+topline[index+1] + botline[index]+botline[index+1])*rstar_step\n",
    "            integ.append(inte)\n",
    "        #return np.array(integ*np.conjugate(integ)) #*self.coeff_m \n",
    "        #return (topline+botline)\n",
    "        plt.loglog(r_points[toplen:lentest-1]/M,np.abs( np.array(integ)*tryA2.coeff_no_m_even*np.conjugate(np.array(integ)*tryA2.coeff_no_m_even)) )\n",
    "        #plt.plot(r_points[113043],5,color='green', marker='o',markersize=5)\n",
    "        plt.loglog(2000.,1.e-50)\n",
    "        plt.show()\n",
    "        return((inte*tryA2.coeff_no_m_even)*np.conjugate((inte*tryA2.coeff_no_m_even)),np.abs(np.array(integ)*tryA2.coeff_no_m_even*np.conjugate(np.array(integ)*tryA2.coeff_no_m_even)),r)\n",
    "    \n",
    "    \n"
   ]
  },
  {
   "cell_type": "code",
   "execution_count": 195,
   "id": "bd621853-5a55-4dcb-a344-2c217778da74",
   "metadata": {},
   "outputs": [
    {
     "name": "stdout",
     "output_type": "stream",
     "text": [
      "0\n",
      "511.04279601165007\n"
     ]
    },
    {
     "name": "stderr",
     "output_type": "stream",
     "text": [
      "/users/PCON0003/koivuemily/.conda/envs/local1/lib/python3.10/site-packages/matplotlib/cbook/__init__.py:1298: ComplexWarning: Casting complex values to real discards the imaginary part\n",
      "  return np.asarray(x, float)\n",
      "/users/PCON0003/koivuemily/.conda/envs/local1/lib/python3.10/site-packages/matplotlib/cbook/__init__.py:1298: ComplexWarning: Casting complex values to real discards the imaginary part\n",
      "  return np.asarray(x, float)\n"
     ]
    },
    {
     "data": {
      "image/png": "[encoded data removed]",
      "text/plain": [
       "<Figure size 432x288 with 1 Axes>"
      ]
     },
     "metadata": {
      "needs_background": "light"
     },
     "output_type": "display_data"
    },
    {
     "name": "stderr",
     "output_type": "stream",
     "text": [
      "/users/PCON0003/koivuemily/.conda/envs/local1/lib/python3.10/site-packages/matplotlib/cbook/__init__.py:1298: ComplexWarning: Casting complex values to real discards the imaginary part\n",
      "  return np.asarray(x, float)\n",
      "/users/PCON0003/koivuemily/.conda/envs/local1/lib/python3.10/site-packages/matplotlib/cbook/__init__.py:1298: ComplexWarning: Casting complex values to real discards the imaginary part\n",
      "  return np.asarray(x, float)\n"
     ]
    },
    {
     "data": {
      "image/png": "[encoded data removed]",
      "text/plain": [
       "<Figure size 432x288 with 1 Axes>"
      ]
     },
     "metadata": {
      "needs_background": "light"
     },
     "output_type": "display_data"
    },
    {
     "data": {
      "image/png": "[encoded data removed]",
      "text/plain": [
       "<Figure size 432x288 with 1 Axes>"
      ]
     },
     "metadata": {
      "needs_background": "light"
     },
     "output_type": "display_data"
    }
   ],
   "source": [
    "lhs,lhsplot,rlhs = IBarplusminusevenfunctest(X,k,X_prime,k_prime,X_gamma,l,h,h_prime,omega,M,F_points_gamma_in, z_points_gamma_in)\n",
    "lhs = lhs\n",
    "\n",
    "#D2 is satisfied here for things above 500 M or so  - possible i was starting the integration too close to black hole "
   ]
  },
  {
   "cell_type": "code",
   "execution_count": 128,
   "id": "2ef58667-ffbb-49d7-9e71-785c9119fdb4",
   "metadata": {},
   "outputs": [
    {
     "name": "stdout",
     "output_type": "stream",
     "text": [
      "500.007858658036\n"
     ]
    },
    {
     "data": {
      "text/plain": [
       "86316"
      ]
     },
     "execution_count": 128,
     "metadata": {},
     "output_type": "execute_result"
    }
   ],
   "source": [
    "print(rlhs[-26891]/M)\n",
    "len(rlhs)-26891\n",
    "\n"
   ]
  },
  {
   "cell_type": "code",
   "execution_count": 193,
   "id": "18dbec68-7d58-4a8e-8d47-8f0c3c4bcf69",
   "metadata": {},
   "outputs": [],
   "source": [
    "rlhs[28251]/M\n",
    "\n",
    "#toplen = 28251\n",
    "toplen = 37251"
   ]
  },
  {
   "cell_type": "code",
   "execution_count": 205,
   "id": "19287dd8-dd73-45e8-a8bb-25c9307ae3f1",
   "metadata": {},
   "outputs": [
    {
     "name": "stdout",
     "output_type": "stream",
     "text": [
      "right, left\n",
      "4.132664873938673e-17 2.5547854833127548e-14\n",
      "right/left\n",
      "0.0016176171740963175\n"
     ]
    }
   ],
   "source": [
    "print('right, left')\n",
    "print(np.abs(right2),np.abs(3*lhs))\n",
    "print('right/left')\n",
    "print(np.abs(right2)/np.abs(3*lhs))"
   ]
  },
  {
   "cell_type": "code",
   "execution_count": 192,
   "id": "d106522f-0e10-490d-bd48-647ee218545b",
   "metadata": {},
   "outputs": [
    {
     "data": {
      "text/plain": [
       "1344.3994390985824"
      ]
     },
     "execution_count": 192,
     "metadata": {},
     "output_type": "execute_result"
    }
   ],
   "source": [
    "rlhs[37251]/M"
   ]
  },
  {
   "cell_type": "code",
   "execution_count": 203,
   "id": "91549f9f-61ee-40ca-9059-f136e57a8957",
   "metadata": {},
   "outputs": [
    {
     "data": {
      "image/png": "[encoded data removed]",
      "text/plain": [
       "<Figure size 432x288 with 1 Axes>"
      ]
     },
     "metadata": {
      "needs_background": "light"
     },
     "output_type": "display_data"
    }
   ],
   "source": [
    "plt.loglog(rlhs[37251:-1]/M,3*lhsplot,label='left')\n",
    "#plt.loglog(rlhs[:-1]/M, lhsplot,label='left')\n",
    "plt.loglog(rlhs[37251:-1]/M,right2plot,label='right')\n",
    "plt.legend()\n",
    "plt.grid()\n",
    "plt.xlim(1.e3,2.e3)\n",
    "plt.ylim(1.e-60,1.e-28)\n",
    "plt.show()"
   ]
  },
  {
   "cell_type": "code",
   "execution_count": 20,
   "id": "d7f289cf-eaf0-4749-a306-9e551f13719b",
   "metadata": {},
   "outputs": [],
   "source": [
    "import matplotlib.pyplot as plt"
   ]
  },
  {
   "cell_type": "code",
   "execution_count": 45,
   "id": "6f39c609-4dab-4b88-a046-2488c5230938",
   "metadata": {},
   "outputs": [
    {
     "ename": "NameError",
     "evalue": "name 'totalleft' is not defined",
     "output_type": "error",
     "traceback": [
      "\u001b[0;31m---------------------------------------------------------------------------\u001b[0m",
      "\u001b[0;31mNameError\u001b[0m                                 Traceback (most recent call last)",
      "Input \u001b[0;32mIn [45]\u001b[0m, in \u001b[0;36m<module>\u001b[0;34m\u001b[0m\n\u001b[0;32m----> 1\u001b[0m plt\u001b[38;5;241m.\u001b[39mscatter(\u001b[38;5;241m1\u001b[39m,\u001b[43mtotalleft\u001b[49m\u001b[38;5;241m*\u001b[39mnp\u001b[38;5;241m.\u001b[39mconjugate(totalleft),label\u001b[38;5;241m=\u001b[39m\u001b[38;5;124m'\u001b[39m\u001b[38;5;124mleft\u001b[39m\u001b[38;5;124m'\u001b[39m)\n\u001b[1;32m      2\u001b[0m \u001b[38;5;66;03m#plt.plot(r_points,right2*np.conjugate(right2),label='right')\u001b[39;00m\n\u001b[1;32m      3\u001b[0m plt\u001b[38;5;241m.\u001b[39mlegend()\n",
      "\u001b[0;31mNameError\u001b[0m: name 'totalleft' is not defined"
     ]
    }
   ],
   "source": [
    "plt.scatter(1,totalleft*np.conjugate(totalleft),label='left')\n",
    "#plt.plot(r_points,right2*np.conjugate(right2),label='right')\n",
    "plt.legend()\n",
    "plt.title('LHS')\n",
    "plt.show()\n",
    "\n",
    "#plt.plot(r_points,lhs*np.conjugate(lhs),label='left')\n",
    "plt.scatter(1,right2*np.conjugate(right2),label='right')\n",
    "plt.legend()\n",
    "plt.title('RHS')\n",
    "plt.show()\n",
    "\n",
    "plt.scatter(1,totalleft*np.conjugate(totalleft),label='left')\n",
    "plt.scatter(2,right2*np.conjugate(right2),label='right')\n",
    "plt.legend()\n",
    "plt.show()"
   ]
  },
  {
   "cell_type": "code",
   "execution_count": 24,
   "id": "dcbab13f-2230-4c0a-a739-0e5cd00400f5",
   "metadata": {},
   "outputs": [
    {
     "name": "stdout",
     "output_type": "stream",
     "text": [
      "[-3 -2 -1  0  1  2  3]\n"
     ]
    }
   ],
   "source": [
    "def coeff_m(j,j_prime,m,m_prime):\n",
    "    m_gamma = -1*(-m+m_prime)\n",
    "    l=1\n",
    "    #print(\"inside\")\n",
    "    #print(float(wigner_3j(j,j_prime,l,-m,m_prime,m_gamma)))\n",
    "    #print((float(wigner_3j(j,j_prime,l,-m,m_prime,m_gamma)))**2)\n",
    "    return float(wigner_3j(j,j_prime,l,-m,m_prime,m_gamma))*(-1)**(l-j_prime-m)\n",
    "lhs_coeff_total = []\n",
    "\n",
    "j=(np.abs(k) - 1/2)\n",
    "j_prime = (np.abs(k_prime) - 1/2)\n",
    "# m is -j to j\n",
    "\n",
    "m_vals = np.arange(-j,j+1,1)\n",
    "m_prime_vals = np.arange(-j_prime,j_prime+1,1)\n",
    "\n",
    "s_prime_vals = np.arange(-k_prime,k_prime+1,1)\n",
    "print(s_prime_vals)\n",
    "\n",
    "#s prime is -1 (k_prime negative), 0 (k_prime = 0), 1 (k_prime positive)\n",
    "#need to sum over s_prime as well \n",
    "#basically gives a x9 here since there is no s' dependence "
   ]
  },
  {
   "cell_type": "code",
   "execution_count": 168,
   "id": "caaaf270-24cd-4850-8958-b8f292f07c22",
   "metadata": {},
   "outputs": [
    {
     "name": "stdout",
     "output_type": "stream",
     "text": [
      "8.515951611042777e-15\n",
      "5.0\n",
      "2.554785483312833e-14\n",
      "(4.132664873945594e-17+0j)\n"
     ]
    }
   ],
   "source": [
    "for m_prime_ind in range(len(m_prime_vals)):\n",
    "    for m_ind in range(len(m_vals)):\n",
    "        \n",
    "        #print((coeff_m(j,j_prime, m_vals[m_ind],m_prime_vals[m_prime_ind])))\n",
    "        lhs_coeff_total.append((coeff_m(j,j_prime, m_vals[m_ind],m_prime_vals[m_prime_ind]))**2)\n",
    "\n",
    "print(np.abs(lhs)) \n",
    "print(np.sum(lhs_coeff_total))\n",
    "totalleft = 3*lhs\n",
    "print(np.abs(totalleft))\n",
    "print(right2)"
   ]
  },
  {
   "cell_type": "code",
   "execution_count": 26,
   "id": "eb88c7e0-12eb-48f5-ae7c-aabed847f094",
   "metadata": {},
   "outputs": [],
   "source": [
    "#still need to do the 2000M to 5000M analytic solution, so left side is actually going to be larger still "
   ]
  },
  {
   "cell_type": "code",
   "execution_count": 164,
   "id": "4d155abd-958f-4951-a10b-fe81541f4778",
   "metadata": {},
   "outputs": [
    {
     "data": {
      "text/plain": [
       "4.0"
      ]
     },
     "execution_count": 164,
     "metadata": {},
     "output_type": "execute_result"
    }
   ],
   "source": [
    "(2*j + 1)"
   ]
  },
  {
   "cell_type": "code",
   "execution_count": 13,
   "id": "b853d5bf-664a-4944-ac99-c50bd610d2e1",
   "metadata": {},
   "outputs": [],
   "source": [
    "#start analytic for dipole"
   ]
  },
  {
   "cell_type": "code",
   "execution_count": 154,
   "id": "f5f4abbb-b382-4565-bd29-639210d24134",
   "metadata": {},
   "outputs": [
    {
     "data": {
      "text/plain": [
       "6.681531047810609e+23"
      ]
     },
     "execution_count": 154,
     "metadata": {},
     "output_type": "execute_result"
    }
   ],
   "source": [
    "C = 1/np.sqrt(4*h*h_prime)\n",
    "C"
   ]
  },
  {
   "cell_type": "code",
   "execution_count": 155,
   "id": "8a4b9eef-3342-46bb-b7be-187beffa4c4f",
   "metadata": {},
   "outputs": [
    {
     "data": {
      "text/plain": [
       "1e+21"
      ]
     },
     "execution_count": 155,
     "metadata": {},
     "output_type": "execute_result"
    }
   ],
   "source": [
    "M"
   ]
  },
  {
   "cell_type": "code",
   "execution_count": 204,
   "id": "f64755c8-1528-40eb-a7a5-db1e076b35b0",
   "metadata": {},
   "outputs": [
    {
     "data": {
      "text/plain": [
       "-2.6761861742291566e+22j"
      ]
     },
     "execution_count": 204,
     "metadata": {},
     "output_type": "execute_result"
    }
   ],
   "source": [
    "tryA2.coeff_no_m_even"
   ]
  },
  {
   "cell_type": "code",
   "execution_count": 205,
   "id": "41cf54f2-e426-4eed-89de-e3ab3846cd44",
   "metadata": {},
   "outputs": [],
   "source": [
    "mu = 4.1796514508e-23"
   ]
  },
  {
   "cell_type": "code",
   "execution_count": 206,
   "id": "ca1e82cd-4894-4a54-a191-26e6147f92ca",
   "metadata": {},
   "outputs": [
    {
     "name": "stderr",
     "output_type": "stream",
     "text": [
      "/tmp/slurmtmp.14085546/ipykernel_185672/1319690811.py:1: RuntimeWarning: invalid value encountered in sqrt\n",
      "  (k-k_prime)*np.exp(complex(0,1)*(np.sqrt(h_prime**2 - mu**2)-np.sqrt(h**2-mu**2)+omega)*2000.*M)**tryA2.Delta_no_m(k,k_prime,l)/(2000.*M*np.sqrt(2*omega*l*(l+1)*4*h*h_prime))\n"
     ]
    },
    {
     "data": {
      "text/plain": [
       "(nan+nanj)"
      ]
     },
     "execution_count": 206,
     "metadata": {},
     "output_type": "execute_result"
    }
   ],
   "source": [
    "(k-k_prime)*np.exp(complex(0,1)*(np.sqrt(h_prime**2 - mu**2)-np.sqrt(h**2-mu**2)+omega)*2000.*M)**tryA2.Delta_no_m(k,k_prime,l)/(2000.*M*np.sqrt(2*omega*l*(l+1)*4*h*h_prime))"
   ]
  },
  {
   "cell_type": "code",
   "execution_count": 207,
   "id": "9e61e902-63ce-4f2b-9209-50d8b0d788fc",
   "metadata": {},
   "outputs": [
    {
     "data": {
      "text/plain": [
       "0.48237667119590116"
      ]
     },
     "execution_count": 207,
     "metadata": {},
     "output_type": "execute_result"
    }
   ],
   "source": [
    "np.sqrt(h/np.sqrt(h**2+mu**2))"
   ]
  },
  {
   "cell_type": "code",
   "execution_count": 160,
   "id": "c03aae5d-0c85-4cc5-8524-e32e2fd149d3",
   "metadata": {},
   "outputs": [],
   "source": [
    "import module1 as m1 "
   ]
  },
  {
   "cell_type": "markdown",
   "id": "07d831aa-f79f-407a-8bd9-ea0aab491d3f",
   "metadata": {},
   "source": []
  },
  {
   "cell_type": "code",
   "execution_count": 173,
   "id": "1b9bfd08-abe6-460f-9018-4c71d905e6cf",
   "metadata": {},
   "outputs": [
    {
     "data": {
      "text/plain": [
       "0.9780194523441541"
      ]
     },
     "execution_count": 173,
     "metadata": {},
     "output_type": "execute_result"
    }
   ],
   "source": [
    "m1.r_star_to_r(500.*M,M,1.e-10)/(500.*M)"
   ]
  },
  {
   "cell_type": "code",
   "execution_count": null,
   "id": "489fabb1-0dbf-4358-895a-bcac62b62fec",
   "metadata": {},
   "outputs": [],
   "source": []
  }
 ],
 "metadata": {
  "kernelspec": {
   "display_name": "21cm Gal2",
   "language": "python",
   "name": "local1"
  },
  "language_info": {
   "codemirror_mode": {
    "name": "ipython",
    "version": 3
   },
   "file_extension": ".py",
   "mimetype": "text/x-python",
   "name": "python",
   "nbconvert_exporter": "python",
   "pygments_lexer": "ipython3",
   "version": "3.10.2"
  }
 },
 "nbformat": 4,
 "nbformat_minor": 5
}
