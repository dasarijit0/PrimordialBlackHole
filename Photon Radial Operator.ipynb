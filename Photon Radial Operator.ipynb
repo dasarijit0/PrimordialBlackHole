{
 "cells": [
  {
   "cell_type": "code",
   "execution_count": null,
   "id": "hawaiian-chick",
   "metadata": {},
   "outputs": [],
   "source": [
    "#This is just for writing the right equation\n",
    "\n",
    "#Define variables: \n",
    "\n",
    "\n",
    "\n",
    "\n",
    "#Equation: \n",
    "\n",
    "photon_radial_operator = "
   ]
  }
 ],
 "metadata": {
  "kernelspec": {
   "display_name": "Python 3",
   "language": "python",
   "name": "python3"
  },
  "language_info": {
   "codemirror_mode": {
    "name": "ipython",
    "version": 3
   },
   "file_extension": ".py",
   "mimetype": "text/x-python",
   "name": "python",
   "nbconvert_exporter": "python",
   "pygments_lexer": "ipython3",
   "version": "3.7.7"
  }
 },
 "nbformat": 4,
 "nbformat_minor": 5
}
