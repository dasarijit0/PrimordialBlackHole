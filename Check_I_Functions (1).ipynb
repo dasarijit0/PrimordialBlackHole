{
 "cells": [
  {
   "cell_type": "code",
   "execution_count": 65,
   "id": "b82d0e9f-c90c-4ad6-b2f1-213ee32d7d42",
   "metadata": {},
   "outputs": [
    {
     "name": "stdout",
     "output_type": "stream",
     "text": [
      "3.978873577297383e-25 7.957747154594767e-22\n",
      "-3.978873577297383e-25\n"
     ]
    },
    {
     "data": {
      "text/plain": [
       "<module 'I_functions_class' from '/users/PCON0003/koivuemily/PrimordialBlackHole/I_functions_class.py'>"
      ]
     },
     "execution_count": 65,
     "metadata": {},
     "output_type": "execute_result"
    }
   ],
   "source": [
    "import numpy as np \n",
    "import math\n",
    "import matplotlib.pyplot as plt \n",
    "from scipy import optimize\n",
    "from scipy.optimize import fsolve\n",
    "\n",
    "\n",
    "from sympy import symbols\n",
    "from sympy.physics.wigner import wigner_3j\n",
    "import module1 as m1 # module1 contains the function to convert r_star to r\\n\",\n",
    "\n",
    "import cmath\n",
    "from astropy.io import fits\n",
    " \n",
    "M = 1.e21 #also in planck units\n",
    "T = 1/(8*np.pi*M)\n",
    "omegas = np.linspace(.01*T,20*T,2000)\n",
    "\n",
    "print(omegas[0],omegas[-1])\n",
    "print(omegas[0]-omegas[1])\n",
    "\n",
    "import I_functions_class as Inp\n",
    "\n",
    "X = 1\n",
    "k = 2\n",
    "X_prime = 1\n",
    "k_prime = 3\n",
    "X_gamma = 1\n",
    "l = 1\n",
    "parity = 1\n",
    "h =3.8e-23  #h and h_prime should be on the same order but smaller than mu\n",
    "h_prime = 3.9e-23\n",
    "omega = 4.e-25  #should be much much less than 1/r but lowest one is only ~ 1/r i think -> want to ask about this \n",
    "               #5.069927873444599e-25 is the smallest 1/r here but it seems as\n",
    "n = 1\n",
    "\n",
    "from imp import reload\n",
    "reload(Inp)"
   ]
  },
  {
   "cell_type": "code",
   "execution_count": 2,
   "id": "ad21d055-2799-4ea3-9175-86af06304598",
   "metadata": {},
   "outputs": [
    {
     "data": {
      "text/plain": [
       "-0.06690784006558102"
      ]
     },
     "execution_count": 2,
     "metadata": {},
     "output_type": "execute_result"
    }
   ],
   "source": [
    "(h_prime - 4.1796514508e-23 )/4.1796514508e-23  #want this to be much much less than 1 "
   ]
  },
  {
   "cell_type": "code",
   "execution_count": 3,
   "id": "df489886-1399-4939-83c6-ca13ee9c251f",
   "metadata": {},
   "outputs": [],
   "source": [
    "#omega*rlhs[0] #want this to be much much less than 1 "
   ]
  },
  {
   "cell_type": "code",
   "execution_count": 3,
   "id": "ff3df71b-966a-4140-8160-0095e610db7e",
   "metadata": {},
   "outputs": [
    {
     "data": {
      "text/plain": [
       "-9.999999999999986e-25"
      ]
     },
     "execution_count": 3,
     "metadata": {},
     "output_type": "execute_result"
    }
   ],
   "source": [
    "h-h_prime"
   ]
  },
  {
   "cell_type": "code",
   "execution_count": 4,
   "id": "87671876-d932-4925-932e-d2309e1e2415",
   "metadata": {},
   "outputs": [],
   "source": [
    "mu = 4.1796514508e-23"
   ]
  },
  {
   "cell_type": "code",
   "execution_count": 5,
   "id": "535417e0-79ff-47f2-affd-99097446bced",
   "metadata": {},
   "outputs": [
    {
     "data": {
      "text/plain": [
       "0.426223603438147"
      ]
     },
     "execution_count": 5,
     "metadata": {},
     "output_type": "execute_result"
    }
   ],
   "source": [
    "kappa = np.sqrt(2*4.1796514508e-23*(4.1796514508e-23-h))\n",
    "kappa/mu"
   ]
  },
  {
   "cell_type": "code",
   "execution_count": 7,
   "id": "3a335ffb-6f6e-40bc-adc2-c28d4c68c404",
   "metadata": {},
   "outputs": [],
   "source": [
    "#start electric dipole"
   ]
  },
  {
   "cell_type": "code",
   "execution_count": 2,
   "id": "0780ef19-b9b6-4a48-9def-43ad281bbd7e",
   "metadata": {},
   "outputs": [],
   "source": [
    "#IfunctionsNoM(X,k,X_prime,k_prime,X_gamma,l,parity,h,h_prime,omega,M,n)\n",
    "tryA2=Inp.IfunctionsNoM(X,k,X_prime,k_prime,X_gamma,l,parity,h,h_prime,omega,M,n)"
   ]
  },
  {
   "cell_type": "code",
   "execution_count": 7,
   "id": "751d9731-2cf3-4dc4-b4f2-0c83ceac0f5b",
   "metadata": {},
   "outputs": [],
   "source": [
    "#IBarplusplusevenfunc(self,X,k,X_prime,k_prime,X_gamma,l,h,h_prime,omega,M,lim1,lim2)\n",
    "#set1_2 = tryA2.IBarplusplusevenfunc(X,k,X_prime,k_prime,X_gamma,l,h,h_prime,omega,M,1.,2.)"
   ]
  },
  {
   "cell_type": "markdown",
   "id": "357ca6f1-eecc-43d1-8b84-238d7b7ee919",
   "metadata": {},
   "source": [
    "direcPhoton = '/fs/scratch/PCON0003/emily/PhotonWaveFunctionFits/'\n",
    "        \n",
    "hdu = fits.open(direcPhoton+str(l)+'.fits')\n",
    "        \n",
    "r_points_gamma_Hdu = hdu[tryA2.omega_index].data.field('rpoints_up')"
   ]
  },
  {
   "cell_type": "markdown",
   "id": "a05b518e-f922-486b-982e-644d754f3d95",
   "metadata": {},
   "source": [
    "rdata = r_points_gamma_Hdu.data"
   ]
  },
  {
   "cell_type": "markdown",
   "id": "ab2dce7c-1c63-4f50-b508-d09d7e3424f7",
   "metadata": {},
   "source": [
    "hdu[-1].header"
   ]
  },
  {
   "cell_type": "markdown",
   "id": "a91b1463-9816-4750-a407-4157637c52bf",
   "metadata": {},
   "source": [
    "r_points_gamma_Hdu"
   ]
  },
  {
   "cell_type": "markdown",
   "id": "ebcfcc7f-b4ff-472b-8732-1fbe00e33347",
   "metadata": {},
   "source": [
    "direcElectron = '/users/PCON0003/koivuemily/PrimordialBlackHole/ElectronWaveFunctionFits/'"
   ]
  },
  {
   "cell_type": "markdown",
   "id": "72f990dc-1f04-4d08-9882-6f4d2b693cc1",
   "metadata": {},
   "source": [
    "hdu = fits.open(direcElectron+str(k)+'ExtendedOmega.fits')"
   ]
  },
  {
   "cell_type": "markdown",
   "id": "508eae26-482c-411e-a725-85d2d1ae7344",
   "metadata": {},
   "source": [
    "r_points = hdu[-1].data.field('rpoints_up')"
   ]
  },
  {
   "cell_type": "markdown",
   "id": "45508fd5-b077-4e5f-b765-d6e866c9155c",
   "metadata": {},
   "source": [
    "r_points"
   ]
  },
  {
   "cell_type": "code",
   "execution_count": 59,
   "id": "a8c425e9-fe45-40b3-abeb-0584d91508db",
   "metadata": {},
   "outputs": [],
   "source": [
    "r_initial = 2000.*M\n",
    "r_final= -70.*M\n",
    "tol = 1.e-10"
   ]
  },
  {
   "cell_type": "code",
   "execution_count": 60,
   "id": "a1e98e83-17ab-487f-bb0d-b8e79b4c2d61",
   "metadata": {},
   "outputs": [
    {
     "name": "stdout",
     "output_type": "stream",
     "text": [
      "fpoints0 is (1+0j)\n",
      "normalized using rup neg infinity:-7e+22\n",
      "(3.304797334205975e-07-7.78409988467647e-07j)\n",
      "fpoints0 renormalized is (3.304797334205975e-07-7.78409988467647e-07j)\n",
      "fpoints0 is (1+0j)\n",
      "is this rstar infinity: 2e+24\n",
      "(-3.062008609082574e-07-7.882765993780345e-07j)\n",
      "fpoints0 renormalized is (-3.062008609082574e-07-7.882765993780345e-07j)\n",
      "rin negative infinity-7e+22\n",
      "compare T:(7.151389643479515e-13, 7.151389643479564e-13)\n",
      "rstar up used 2e+24\n",
      "t phase is -1.9693006115629188\n",
      "rstar used :-7e+22\n"
     ]
    }
   ],
   "source": [
    "PWF = Inp.PhotonWaveFunction(M, omega, l, tol)\n",
    "r_gamma, F_points_gamma, z_points_gamma, f_points_gamma_prime = PWF.RK_4(r_initial, r_final, 240000, up = True)\n",
    "r_gamma_in, F_points_gamma_in, z_points_gamma_in, f_points_gamma_prime_in = PWF.RK_4(r_final, r_initial, 240000, up = False)\n",
    "Rgamma, Tgamma = PWF.get_R_and_T_coeff(r_gamma,F_points_gamma,z_points_gamma,r_gamma_in,F_points_gamma_in,z_points_gamma_in)"
   ]
  },
  {
   "cell_type": "code",
   "execution_count": 8,
   "id": "9854507b-7221-4832-8061-51029a0f65ef",
   "metadata": {},
   "outputs": [
    {
     "name": "stdout",
     "output_type": "stream",
     "text": [
      "47.171113212971676\n"
     ]
    }
   ],
   "source": [
    "#F_points_gamma_in = F_points_gamma_in[::-1]\n",
    "#len(F_points_gamma_in)\n",
    "print(r_gamma[::2][113207]/M)\n"
   ]
  },
  {
   "cell_type": "code",
   "execution_count": 9,
   "id": "0351e924-7f2a-4fd0-9b5b-1f3936673519",
   "metadata": {},
   "outputs": [
    {
     "name": "stderr",
     "output_type": "stream",
     "text": [
      "/users/PCON0003/koivuemily/.conda/envs/local1/lib/python3.10/site-packages/matplotlib/cbook/__init__.py:1298: ComplexWarning: Casting complex values to real discards the imaginary part\n",
      "  return np.asarray(x, float)\n"
     ]
    },
    {
     "data": {
      "image/png": "[encoded data removed]",
      "text/plain": [
       "<Figure size 432x288 with 1 Axes>"
      ]
     },
     "metadata": {
      "needs_background": "light"
     },
     "output_type": "display_data"
    },
    {
     "name": "stderr",
     "output_type": "stream",
     "text": [
      "/users/PCON0003/koivuemily/.conda/envs/local1/lib/python3.10/site-packages/matplotlib/cbook/__init__.py:1298: ComplexWarning: Casting complex values to real discards the imaginary part\n",
      "  return np.asarray(x, float)\n"
     ]
    },
    {
     "data": {
      "image/png": "[encoded data removed]",
      "text/plain": [
       "<Figure size 432x288 with 1 Axes>"
      ]
     },
     "metadata": {
      "needs_background": "light"
     },
     "output_type": "display_data"
    },
    {
     "name": "stderr",
     "output_type": "stream",
     "text": [
      "/users/PCON0003/koivuemily/.conda/envs/local1/lib/python3.10/site-packages/matplotlib/cbook/__init__.py:1298: ComplexWarning: Casting complex values to real discards the imaginary part\n",
      "  return np.asarray(x, float)\n"
     ]
    },
    {
     "data": {
      "image/png": "[encoded data removed]",
      "text/plain": [
       "<Figure size 432x288 with 1 Axes>"
      ]
     },
     "metadata": {
      "needs_background": "light"
     },
     "output_type": "display_data"
    }
   ],
   "source": [
    "import scipy as sci\n",
    "\n",
    "psi_d4 = sci.special.spherical_jn(1, omega*r_gamma_in, derivative=False)\n",
    "\n",
    "\n",
    "plt.plot(r_gamma_in/M,F_points_gamma_in,label='wavefunction')\n",
    "plt.plot(r_gamma_in/M,psi_d4*-2*omega*r_gamma_in,label='bessel')\n",
    "plt.plot(r_gamma_in/M,-2*(omega**2*r_gamma_in**2)/3,label='2nd order')\n",
    "plt.legend()\n",
    "plt.show()\n",
    "\n",
    "\n",
    "plt.plot(r_gamma_in[:60000]/M,F_points_gamma_in[:60000],label='wavefunction')\n",
    "plt.plot(r_gamma_in[:60000]/M,psi_d4[:60000]*-2*omega*r_gamma_in[:60000],label='bessel')\n",
    "plt.plot(r_gamma_in[:60000]/M,-2*(omega**2*r_gamma_in[:60000]**2)/3,label='2nd order')\n",
    "plt.legend()\n",
    "plt.show()\n",
    "\n",
    "plt.plot(r_gamma_in[100000:]/M,F_points_gamma_in[100000:],label='wavefunction')\n",
    "plt.plot(r_gamma_in[100000:]/M,psi_d4[100000:]*-2*omega*r_gamma_in[100000:],label='bessel')\n",
    "#plt.plot(r_gamma_in/M,-2*(omega**2*r_gamma_in**2)/3,label='2nd order')\n",
    "plt.legend()\n",
    "plt.show()\n"
   ]
  },
  {
   "cell_type": "code",
   "execution_count": 53,
   "id": "158c13cc-73c2-4986-b636-9257c745a423",
   "metadata": {},
   "outputs": [],
   "source": [
    "toplen = 28251 #for 1500M"
   ]
  },
  {
   "cell_type": "code",
   "execution_count": 11,
   "id": "3bba700c-7e21-43c3-b2d2-4f380ea2d4d6",
   "metadata": {},
   "outputs": [],
   "source": [
    "#lentest = 113043 #for 50M  specifically 43\n",
    "#lentest = 113043 -3000 #for 94M \n",
    "#lentest = 86316 #for 500M\n",
    "\n",
    "#lentest = 114343 #for 27.57M\n",
    "\n",
    "#lentest = 115043 #for 15M\n",
    "#lentest = 115243   #for 12.05M\n",
    "#lentest = 115343  #for 10.3249596873322M\n",
    "lentest = 115403\n",
    "#lentest = 115543# FOR 6.87M"
   ]
  },
  {
   "cell_type": "code",
   "execution_count": 12,
   "id": "26b70e83-1e4f-4a3e-9e64-48b7124e02c5",
   "metadata": {},
   "outputs": [],
   "source": [
    "def rhs(h,h_prime,omega,k,k_prime,M,r_initial, r_final,lentest): \n",
    "    \n",
    "    nu = 1.\n",
    "    mu =4.1796514508e-23 #planck units \n",
    "    lam = 1.\n",
    "    GC = 1.\n",
    "    c = 1.\n",
    "    tol = 1.e-10\n",
    "    step_size_for_inte = 1*240000\n",
    "        \n",
    "    first_coeff = omega*((h-h_prime)**2)/(36*np.pi*mu**2)\n",
    "    brac = 0 \n",
    "    \n",
    "    #L=j-1/2*s\n",
    "    \n",
    "    j=(np.abs(k) - 1/2)\n",
    "    j_prime = (np.abs(k_prime) - 1/2)\n",
    "    \n",
    "    s=0\n",
    "    s_prime=0\n",
    "        \n",
    "    if k !=0:\n",
    "        s= (k/np.abs(k))\n",
    "    if k_prime!=0:\n",
    "        s_prime=k_prime/np.abs(k_prime)\n",
    "        \n",
    "    L=j-.5*s\n",
    "    L_prime=j_prime -.5*s_prime \n",
    "    print(L,L_prime)\n",
    "    \n",
    "    if np.abs(L_prime-(L+1))<tol:\n",
    "        brac = (L+1)/(2*L+1)\n",
    "    elif np.abs(L_prime-(L-1))<tol: \n",
    "        brac = L/(2*L+1)\n",
    "    else: \n",
    "        brac=0.\n",
    "    \n",
    "    print(first_coeff,brac)\n",
    "    #try0 = ElectronWaveFunction(nu, h, k, mu, M, lam, GC, c, tol)\n",
    "    #r_points,F_points_xkh, G_points_xkh = try0.RK_4(r_initial, r_final, step_size_for_inte, up = True)\n",
    "    \n",
    "    #try1 = ElectronWaveFunction(nu, h_prime, k_prime, mu, M, lam, GC, c, tol)\n",
    "    #r_points,F_points_xkprimehprime, G_points_xkprimehprime = try1.RK_4(r_initial, r_final, step_size_for_inte, up = True)\n",
    "    \n",
    "    \n",
    "    omega_index = round(omega*100*(8*np.pi*M) -1)\n",
    "    print(omega_index)\n",
    "    h_index = round(h*100*(8*np.pi*M) -1)\n",
    "    h_prime_index = round(h_prime*100*(8*np.pi*M) -1)\n",
    "    \n",
    "    \n",
    "    direcElectron = '/users/PCON0003/koivuemily/PrimordialBlackHole/ElectronWaveFunctionFits/'\n",
    "    if k>0:\n",
    "        hdu = fits.open(direcElectron+str(k)+'ExtendedOmega.fits')\n",
    "    else:\n",
    "        hdu = fits.open(direcElectron+'min'+str(np.abs(k))+'ExtendedOmega.fits')\n",
    "\n",
    "    #r_points_star = hdu[h_index].data.field('rpoints_up')\n",
    "    #this is in rstar, should I switch to r? gonna try it \n",
    "    \n",
    "    #r_points = np.array([m1.r_star_to_r(x,M,tol) for x in r_points_star])\n",
    "    \n",
    "    #back to using rstar\n",
    "    r_points = hdu[h_index].data.field('rpoints_up')\n",
    "     \n",
    "    F_points_xkh = hdu[h_index].data.field('F_points_up')\n",
    "    G_points_xkh = hdu[h_index].data.field('G_points_up')\n",
    "    \n",
    "    \n",
    "    \n",
    "    \n",
    "    \n",
    "    r = np.array([m1.r_star_to_r(x,M,tol) for x in r_points[toplen:lentest]])\n",
    "    \n",
    "    plt.plot(r,r_points[toplen:lentest],label='rstar')\n",
    "    plt.plot(r,r, label='r')\n",
    "    plt.legend()\n",
    "    plt.xlabel('r')\n",
    "    plt.xlim([.5e24,.7e24])\n",
    "    plt.ylim([.5e24,.7e24])\n",
    "    plt.title('R to Rstar convergence')\n",
    "    plt.show()\n",
    "    \n",
    "    plt.plot(r,r/r_points[toplen:lentest],label='r/rstar')\n",
    "    #plt.plot(r,r, label='r')\n",
    "    plt.legend()\n",
    "    plt.xlabel('r')\n",
    "    plt.xlim([.5e24,1.7e24])\n",
    "    #plt.ylim([.5e24,.7e24])\n",
    "    plt.title('R to Rstar convergence')\n",
    "    plt.show()\n",
    "\n",
    "\n",
    "    \n",
    "   \n",
    "    if k_prime>0:\n",
    "        hdu = fits.open(direcElectron+str(k_prime)+'ExtendedOmega.fits')\n",
    "    else:\n",
    "        hdu = fits.open(direcElectron+'min'+str(np.abs(k_prime))+'ExtendedOmega.fits')\n",
    "\n",
    "    #r_points = hdu[self.h_index+1]['rpoints_up']\n",
    "    F_points_xkh_prime = hdu[h_prime_index].data.field('F_points_up')\n",
    "    G_points_xkh_prime = hdu[h_prime_index].data.field('G_points_up')\n",
    "    \n",
    "    df_xkh_dr =[]\n",
    "    df_xkh_prime_dr =[]\n",
    "    rstar_step = r_points[0]-r_points[1]\n",
    "    \n",
    "    for i in range(toplen,lentest-1,1):\n",
    "        df_xkh_dr.append( (F_points_xkh[i-1]-F_points_xkh[i+1])/(rstar_step*2)) \n",
    "        df_xkh_prime_dr.append( (F_points_xkh_prime[i-1]-F_points_xkh_prime[i+1])/(rstar_step*2))\n",
    "    \n",
    "    r = np.array([m1.r_star_to_r(x,M,tol) for x in r_points[:lentest]])\n",
    "    df_xkh_dr_nostar =[]\n",
    "    df_xkh_prime_dr_nostar =[]\n",
    "    r_step = r[0]-r[1]\n",
    "    for i in range(toplen,lentest-1,1):\n",
    "        df_xkh_dr_nostar.append( (F_points_xkh[i-1]-F_points_xkh[i+1])/(r_step*2)) \n",
    "        df_xkh_prime_dr_nostar.append( (F_points_xkh_prime[i-1]-F_points_xkh_prime[i+1])/(r_step*2))\n",
    "    \n",
    "    \n",
    "    print('len of derivatives ')\n",
    "    print(len(df_xkh_dr))\n",
    "    \"\"\"    \n",
    "    plt.plot(r_points[:lentest]/M,G_points_xkh[:lentest],label='g')\n",
    "    plt.plot(r_points[1:lentest-1]/M, (k*F_points_xkh[1:lentest-1]/r_points[1:lentest-1] - df_xkh_dr)/(2*mu),label='F')\n",
    "    plt.legend()\n",
    "    plt.title('XKH')\n",
    "    plt.ylim(-1.e-18,5.e-18)\n",
    "    plt.show()\n",
    "\n",
    "    plt.plot(r_points[:lentest]/M,G_points_xkh_prime[:lentest],label='g')\n",
    "    plt.plot(r_points[1:lentest-1]/M, (k*F_points_xkh_prime[1:lentest-1]/r_points[1:lentest-1] - df_xkh_prime_dr)/(2*mu),label='F')\n",
    "    plt.legend()\n",
    "    plt.title('XKH_Prime')\n",
    "    plt.ylim(-1.e-18,5.e-18)\n",
    "    plt.show()\n",
    "    \"\"\"\n",
    "    \n",
    "    #This is in rstar calculation\n",
    "    \n",
    "    \n",
    "    print('rstarmax and rstarmin')\n",
    "    print(r_points[toplen], r_points[lentest]/M)\n",
    "    \"\"\"         \n",
    "    print('Here is the surface term!')\n",
    "    print((k-k_prime)*(np.conjugate(F_points_xkh[toplen])*F_points_xkh_prime[toplen] - np.conjugate(F_points_xkh[lentest])*F_points_xkh_prime[lentest]))\n",
    "    print('surface term squared')\n",
    "    print((k-k_prime)*(np.conjugate(F_points_xkh[toplen])*F_points_xkh_prime[toplen] - np.conjugate(F_points_xkh[lentest])*F_points_xkh_prime[lentest])*np.conjugate((k-k_prime)*(np.conjugate(F_points_xkh[0])*F_points_xkh_prime[0] -np.conjugate(F_points_xkh[lentest])*F_points_xkh_prime[lentest])))\n",
    "    \n",
    "    surface_term= (k-k_prime)*(np.conjugate(F_points_xkh[toplen-1])*F_points_xkh_prime[toplen-1] - np.conjugate(F_points_xkh[lentest])*F_points_xkh_prime[lentest])\n",
    "    \n",
    "    surface_term_2 = - r_points[toplen-1]*(np.conjugate(F_points_xkh[toplen-1])*df_xkh_dr[0] - F_points_xkh[toplen-1]*np.conjugate(df_xkh_prime_dr[0])) + r_points[lentest-1]*(np.conjugate(F_points_xkh[lentest-1])*df_xkh_dr[-1] - F_points_xkh[lentest-1]*np.conjugate(df_xkh_prime_dr[-1]))  \n",
    "\n",
    "    print('surface term 2')\n",
    "    print(surface_term_2)\n",
    "    \n",
    "    print(df_xkh_dr[0],df_xkh_dr[-1])\n",
    "    \"\"\"\n",
    "    \n",
    "    #This is in r \n",
    "    print('Here is the surface term!')\n",
    "    print((k-k_prime)*(np.conjugate(F_points_xkh[toplen])*F_points_xkh_prime[toplen] - np.conjugate(F_points_xkh[lentest])*F_points_xkh_prime[lentest]))\n",
    "    #print('surface term squared')\n",
    "    #print((k-k_prime)*(np.conjugate(F_points_xkh[toplen])*F_points_xkh_prime[toplen] - np.conjugate(F_points_xkh[lentest])*F_points_xkh_prime[lentest])*np.conjugate((k-k_prime)*(np.conjugate(F_points_xkh[0])*F_points_xkh_prime[0] -np.conjugate(F_points_xkh[lentest])*F_points_xkh_prime[lentest])))\n",
    "    \n",
    "    surface_term= (k-k_prime)*(np.conjugate(F_points_xkh[toplen-1])*F_points_xkh_prime[toplen-1] - np.conjugate(F_points_xkh[lentest])*F_points_xkh_prime[lentest])\n",
    "    \n",
    "    surface_term_2 = - r[toplen-1]*(np.conjugate(F_points_xkh[toplen-1])*df_xkh_dr_nostar[0] - F_points_xkh[toplen-1]*np.conjugate(df_xkh_prime_dr_nostar[0])) + r[lentest-1]*(np.conjugate(F_points_xkh[lentest-1])*df_xkh_dr_nostar[-1] - F_points_xkh[lentest-1]*np.conjugate(df_xkh_prime_dr_nostar[-1]))  \n",
    "\n",
    "    \n",
    "    \n",
    "    print((F_points_xkh[0]))\n",
    "    print((F_points_xkh_prime[0]))\n",
    "    print()\n",
    "    print(r_points[86316]/M)\n",
    "    dr = r_points[0]-r_points[1]\n",
    "    print(dr)\n",
    "    inte = 0 \n",
    "    \n",
    "    integ = []\n",
    "    integ_sur =[]\n",
    "    p =0\n",
    "    #with rstar \n",
    "    \"\"\"\n",
    "    for i in range(toplen,lentest-1,1):\n",
    "        inte += .5*(np.conjugate(F_points_xkh[i])*(F_points_xkh_prime[i])*r_points[i] + np.conjugate(F_points_xkh[i+1])*(F_points_xkh_prime[i+1])*r_points[i+1])*dr\n",
    "        integ.append(inte)\n",
    "        \n",
    "        surface_term_test= (k-k_prime)*(np.conjugate(F_points_xkh[toplen-1])*F_points_xkh_prime[toplen-1] - np.conjugate(F_points_xkh[i])*F_points_xkh_prime[i])\n",
    "    \n",
    "        surface_term_2_test = - r_points[toplen-1]*(np.conjugate(F_points_xkh[toplen-1])*df_xkh_dr[0] - F_points_xkh[toplen-1]*np.conjugate(df_xkh_prime_dr[0])) + r_points[i-1]*(np.conjugate(F_points_xkh[i-1])*df_xkh_dr[p] - F_points_xkh[i-1]*np.conjugate(df_xkh_prime_dr[p]))  \n",
    "        p+=1\n",
    "        #integ_sur.append(inte + surface_term_test/(2*mu*(h-h_prime))+surface_term_2_test/(2*mu*(h-h_prime)) )\n",
    "        integ_sur.append(inte + surface_term_test/(2*mu*(h-h_prime)) )\n",
    "    \"\"\" \n",
    "    #with r\n",
    "    dr = r[0]-r[1]\n",
    "    print(dr)\n",
    "    for i in range(toplen,lentest-1,1):\n",
    "        inte += .5*(np.conjugate(F_points_xkh[i])*(F_points_xkh_prime[i])*r[i] + np.conjugate(F_points_xkh[i+1])*(F_points_xkh_prime[i+1])*r[i+1])*dr\n",
    "        integ.append(inte)\n",
    "        \n",
    "        surface_term_test= (k-k_prime)*(np.conjugate(F_points_xkh[toplen-1])*F_points_xkh_prime[toplen-1] - np.conjugate(F_points_xkh[i])*F_points_xkh_prime[i])\n",
    "    \n",
    "        surface_term_2_test = - r[toplen-1]*(np.conjugate(F_points_xkh[toplen-1])*df_xkh_dr_nostar[0] - F_points_xkh[toplen-1]*np.conjugate(df_xkh_prime_dr[0])) + r[i-1]*(np.conjugate(F_points_xkh[i-1])*df_xkh_dr_nostar[p] - F_points_xkh[i-1]*np.conjugate(df_xkh_prime_dr_nostar[p]))  \n",
    "        p+=1\n",
    "        integ_sur.append(inte + surface_term_test/(2*mu*(h-h_prime))+surface_term_2_test/(2*mu*(h-h_prime)) )\n",
    "        #integ_sur.append(inte + surface_term_test/(2*mu*(h-h_prime)) )\n",
    "\n",
    "    #print(inte)\n",
    "    \n",
    "    plt.loglog(r_points[toplen:lentest-1]/M,np.abs(integ*np.conjugate(integ)*brac*first_coeff))\n",
    "    #plt.xlim(100000,130000)\n",
    "    plt.xlabel('r_points')\n",
    "    plt.ylabel('Integral RHS not squared')\n",
    "    plt.show()\n",
    "    print(inte, surface_term/(2*mu*(h-h_prime)),surface_term_2/(2*mu*(h-h_prime)) )\n",
    "    return np.conjugate(inte)*inte*brac*first_coeff, np.abs(integ*np.conjugate(integ)*brac*first_coeff), np.conjugate(inte+surface_term/(2*mu*(h-h_prime))+surface_term_2/(2*mu*(h-h_prime)))*(inte+surface_term/(2*mu*(h-h_prime))+surface_term_2/(2*mu*(h-h_prime)))*brac*first_coeff,np.abs(integ_sur*np.conjugate(integ_sur)*brac*first_coeff)\n",
    "    #return np.conjugate(F_points_xkh)*(F_points_xkh_prime)*r_points*dr\n"
   ]
  },
  {
   "cell_type": "code",
   "execution_count": 13,
   "id": "735df0ca-272b-4726-abd2-7622d8b9135e",
   "metadata": {},
   "outputs": [
    {
     "name": "stdout",
     "output_type": "stream",
     "text": [
      "1.0 2.0\n",
      "2.0245452341896334e-30 0.6666666666666666\n",
      "0\n"
     ]
    },
    {
     "data": {
      "image/png": "[encoded data removed]",
      "text/plain": [
       "<Figure size 432x288 with 1 Axes>"
      ]
     },
     "metadata": {
      "needs_background": "light"
     },
     "output_type": "display_data"
    },
    {
     "data": {
      "image/png": "[encoded data removed]",
      "text/plain": [
       "<Figure size 432x288 with 1 Axes>"
      ]
     },
     "metadata": {
      "needs_background": "light"
     },
     "output_type": "display_data"
    },
    {
     "name": "stdout",
     "output_type": "stream",
     "text": [
      "len of derivatives \n",
      "87151\n",
      "rstarmax and rstarmin\n",
      "1.5126682194509144e+24 9.289955374814078\n",
      "Here is the surface term!\n",
      "(1.3320077997525786e-29-1.0454227320930749e-30j)\n",
      "(-2.5322208815324926e-31-8.432065976059953e-31j)\n",
      "(-1.810413074839983e-32-4.66677405818045e-32j)\n",
      "\n",
      "511.04279601165007\n",
      "1.725007187534676e+19\n",
      "1.7232701878697984e+19\n"
     ]
    },
    {
     "data": {
      "image/png": "[encoded data removed]",
      "text/plain": [
       "<Figure size 432x288 with 1 Axes>"
      ]
     },
     "metadata": {
      "needs_background": "light"
     },
     "output_type": "display_data"
    },
    {
     "name": "stdout",
     "output_type": "stream",
     "text": [
      "(527533295817825.44-41403308560683.86j) (-1.593443634513626e+17+1.2506099424785512e+16j) (2.9051439226119537e+18-2.309725964808287e+16j)\n"
     ]
    }
   ],
   "source": [
    "right2,right2plot,right2withsurface,right2plotwithsurface = rhs(h,h_prime,omega,k,k_prime,M,2000.*M, 50.*M,lentest)\n",
    "\n",
    "#this gives the mod squared of integral F*Fprime*r dr times coefficients"
   ]
  },
  {
   "cell_type": "code",
   "execution_count": 52,
   "id": "be8d3a7e-dc3b-49db-b3a8-c8256120c7a4",
   "metadata": {},
   "outputs": [],
   "source": [
    "#lentest = 113043 #for 50M  specifically 43\n",
    "#lentest = 113043 -3000 #for 94M \n",
    "#lentest = 86316 #for 500M\n",
    "\n",
    "#lentest = 114343 #for 27.57M\n",
    "\n",
    "#lentest = 115043 #for 15M\n",
    "#lentest = 115243   #for 12.05M\n",
    "#lentest = 115343  #for 10.3249596873322M\n",
    "lentest = 115403\n",
    "#lentest = 115543# FOR 6.87M"
   ]
  },
  {
   "cell_type": "code",
   "execution_count": 99,
   "id": "f93a0817-d1a7-44d3-a703-500796f9e7e4",
   "metadata": {},
   "outputs": [],
   "source": [
    "#tryers = rlhs[toplen:lentest]/M"
   ]
  },
  {
   "cell_type": "code",
   "execution_count": 150,
   "id": "83b96c30-2767-4a09-b47b-9840701c1f29",
   "metadata": {},
   "outputs": [
    {
     "data": {
      "text/plain": [
       "43.931590450373314"
      ]
     },
     "execution_count": 150,
     "metadata": {},
     "output_type": "execute_result"
    }
   ],
   "source": [
    "tryers[-1]"
   ]
  },
  {
   "cell_type": "code",
   "execution_count": 105,
   "id": "8145fc97-941c-4a14-9916-3f2b049f6aeb",
   "metadata": {},
   "outputs": [
    {
     "data": {
      "text/plain": [
       "(4.132664873938673e-17+0j)"
      ]
     },
     "execution_count": 105,
     "metadata": {},
     "output_type": "execute_result"
    }
   ],
   "source": [
    "right2"
   ]
  },
  {
   "cell_type": "code",
   "execution_count": 106,
   "id": "7387984c-df85-436f-96c3-7c690951e16d",
   "metadata": {},
   "outputs": [
    {
     "data": {
      "text/plain": [
       "(9.485548944674888e-11+0j)"
      ]
     },
     "execution_count": 106,
     "metadata": {},
     "output_type": "execute_result"
    }
   ],
   "source": [
    "right2withsurface"
   ]
  },
  {
   "cell_type": "code",
   "execution_count": 102,
   "id": "0e12e9a9-c968-4aa7-958f-c9c7e6366502",
   "metadata": {},
   "outputs": [
    {
     "data": {
      "text/plain": [
       "0j"
      ]
     },
     "execution_count": 102,
     "metadata": {},
     "output_type": "execute_result"
    }
   ],
   "source": [
    "right2-right2withsurface"
   ]
  },
  {
   "cell_type": "code",
   "execution_count": 22,
   "id": "ff6a7ec4-380b-44fa-8cc7-13a13823010a",
   "metadata": {},
   "outputs": [
    {
     "data": {
      "text/plain": [
       "7.32967052062239"
      ]
     },
     "execution_count": 22,
     "metadata": {},
     "output_type": "execute_result"
    }
   ],
   "source": [
    "m1.r_star_to_r(9.289955*M,M,tol)/M"
   ]
  },
  {
   "cell_type": "code",
   "execution_count": 15,
   "id": "0e8931d5-c174-4049-a03e-1100bd83d92e",
   "metadata": {},
   "outputs": [],
   "source": [
    "tryA2=Inp.IfunctionsNoM(X,k,X_prime,k_prime,X_gamma,l,parity,h,h_prime,omega,M,n)\n"
   ]
  },
  {
   "cell_type": "code",
   "execution_count": 71,
   "id": "903223a8-72a4-4200-b1bf-4dbc41e64f5b",
   "metadata": {},
   "outputs": [],
   "source": [
    "def IBarplusminusevenfunctest(X,k,X_prime,k_prime,X_gamma,l,h,h_prime,omega,M,F_points_gamma_in, z_points_gamma_in):\n",
    "        nu = 1.\n",
    "        mu = 4.1796514508e-23 \n",
    "        lam = 1.\n",
    "        GC = 1.\n",
    "        c = 1.\n",
    "        tol = 1.e-10\n",
    "        omega_index = round(omega*100*(8*np.pi*M) -1)\n",
    "        print(omega_index)\n",
    "        h_index = round(h*100*(8*np.pi*M) -1)\n",
    "        h_prime_index = round(h_prime*100*(8*np.pi*M) -1)\n",
    "    \n",
    "        \n",
    "        #far from BH and then work towards that (up)\n",
    "        #r_initial = 5000.*M #in rstar\n",
    "        #r_final = -70.*M  #in rstar \n",
    "        \n",
    "       \n",
    "        if X==0:\n",
    "            uptrue = False\n",
    "        else:\n",
    "            uptrue = True\n",
    "        if X_prime==0:\n",
    "            uptrue_Xprime = False\n",
    "        else:\n",
    "            uptrue_Xprime = True\n",
    "            \n",
    "        if X_gamma==0:\n",
    "            uptrue_Xgamma = False\n",
    "        else:\n",
    "            uptrue_Xgamma = True \n",
    "            \n",
    "        \"\"\"\n",
    "        #might pass this in instead. will ask \n",
    "        try0 = ElectronWaveFunction(nu, h, k, mu, M, lam, GC, c, tol)\n",
    "        r_points,F_points_xkh, G_points_xkh = try0.RK_4(r_initial, r_final, self.step_size_for_inte, up = uptrue)\n",
    "        \n",
    "        try1 = ElectronWaveFunction(nu, h_prime, k_prime, mu, M, lam, GC, c, tol)\n",
    "        r_points_prime,F_points_xkh_prime, G_points_xkh_prime = try1.RK_4(r_initial, r_final, self.step_size_for_inte, up = uptrue_Xprime)\n",
    "        \n",
    "        \n",
    "        phot_try0= PhotonWaveFunction(M,omega,l,tol)\n",
    "        r_points_gamma, f_points_gammalomega, z_points_gammalomega, f_points_gammalomega_prime = phot_try0.RK_4(r_initial_gamma, r_final_gamma, self.step_size_for_inte, up = uptrue_Xgamma)\n",
    "        \n",
    "        print(r_points[0],r_points_prime[0],r_points_gamma[0])\n",
    "        \n",
    "        \"\"\"\n",
    "        psi_gammalomega = F_points_gamma_in[::-1][::2]\n",
    "        psi_gammalomega_prime =z_points_gamma_in[::-1][::2]\n",
    "        \n",
    "        \n",
    "        direcElectron = '/users/PCON0003/koivuemily/PrimordialBlackHole/ElectronWaveFunctionFits/'\n",
    "        if k>0:\n",
    "            hdu = fits.open(direcElectron+str(k)+'ExtendedOmega.fits')\n",
    "        else:\n",
    "            hdu = fits.open(direcElectron+'min'+str(np.abs(k))+'ExtendedOmega.fits')\n",
    "        \n",
    "        r_points = hdu[h_index].data.field('rpoints_up')\n",
    "        if uptrue == True: \n",
    "            F_points_xkh = hdu[h_index].data.field('F_points_up')\n",
    "            G_points_xkh = hdu[h_index].data.field('G_points_up')\n",
    "        else: \n",
    "            F_points_xkh = hdu[h_index].data.field('F_points_in')\n",
    "            G_points_xkh = hdu[h_index].data.field('G_points_in')\n",
    "            \n",
    "        if k_prime>0:\n",
    "            hdu = fits.open(direcElectron+str(k_prime)+'ExtendedOmega.fits')\n",
    "        else:\n",
    "            hdu = fits.open(direcElectron+'min'+str(np.abs(k_prime))+'ExtendedOmega.fits')\n",
    "        \n",
    "        #r_points = hdu[self.h_index+1]['rpoints_up']\n",
    "        if uptrue_Xprime == True: \n",
    "            F_points_xkh_prime = hdu[h_prime_index].data.field('F_points_up')\n",
    "            G_points_xkh_prime = hdu[h_prime_index].data.field('G_points_up')\n",
    "        else: \n",
    "            F_points_xkh_prime = hdu[h_prime_index].data.field('F_points_in')\n",
    "            G_points_xkh_prime = hdu[h_prime_index].data.field('G_points_in')\n",
    "        \n",
    "        \n",
    "\n",
    "        \n",
    "        print(r_points[lentest]/M)\n",
    "        psi_gammalomega = psi_gammalomega[:lentest]\n",
    "        psi_gammalomega_prime =psi_gammalomega_prime[:lentest]\n",
    "        \n",
    "        \n",
    "        g_xkh = np.array(G_points_xkh[:lentest])\n",
    "        g_xkh_prime = np.array(G_points_xkh_prime[:lentest])\n",
    "        \n",
    "        \n",
    "        gstar_xkh = np.conjugate(np.array(G_points_xkh[:lentest]))\n",
    "        g_xprime_kprime_hprime = np.array(G_points_xkh_prime[:lentest])\n",
    "        \n",
    "        fstar_xkh = np.conjugate(np.array(F_points_xkh[:lentest]))\n",
    "        f_xkh = np.array(F_points_xkh[:lentest])\n",
    "        f_xprime_kprime_hprime = np.array(F_points_xkh_prime[:lentest])\n",
    "        \n",
    "        \n",
    "        #need deriviative \n",
    "        df_xkh_dr =[]\n",
    "        dg_xkh_dr =[]\n",
    "        df_xkh_prime_dr =[]\n",
    "        rstar_step = r_points[0]-r_points[1]\n",
    "        for i in range(toplen,lentest-1,1):\n",
    "            df_xkh_dr.append( (F_points_xkh[i-1]-F_points_xkh[i+1])/(rstar_step*2)) \n",
    "            dg_xkh_dr.append( (G_points_xkh[i-1]-G_points_xkh[i+1])/(rstar_step*2)) \n",
    "            df_xkh_prime_dr.append( (F_points_xkh_prime[i-1]-F_points_xkh_prime[i+1])/(rstar_step*2))\n",
    "        \n",
    "        plt.plot(r_points[toplen:lentest]/M,g_xkh[toplen:],label='g')\n",
    "        plt.plot(r_points[toplen:lentest-1]/M, (k*f_xkh[toplen:-1]/r_points[toplen:lentest-1] - df_xkh_dr)/(2*mu),label='F')\n",
    "        plt.legend()\n",
    "        plt.title('XKH')\n",
    "        plt.ylim(-20.e-16,10.e-18)\n",
    "        plt.xlim(0,100)\n",
    "        plt.show()\n",
    "        \n",
    "        plt.plot(r_points[toplen:lentest-1]/M,k*g_xkh[toplen:-1]/r_points[toplen:lentest-1] + dg_xkh_dr)\n",
    "        plt.xlim(0,100)\n",
    "        plt.plot()\n",
    "        plt.show()\n",
    "        \n",
    "        plt.plot(r_points[toplen:lentest]/M,g_xkh_prime[toplen:],label='g')\n",
    "        plt.plot(r_points[toplen:lentest-1]/M, (k*f_xprime_kprime_hprime[toplen:-1]/r_points[toplen:lentest-1] - df_xkh_prime_dr)/(2*mu),label='F')\n",
    "        plt.legend()\n",
    "        plt.title('XKH_Prime')\n",
    "        plt.xlim(0,100)\n",
    "        plt.ylim(-5.e-17,10.e-18)\n",
    "        plt.show()\n",
    "            \n",
    "        #psi_gammalomega = np.array(f_points_gammalomega)\n",
    "        #psi_gammalomega_prime = np.array(z_points_gammalomega)\n",
    "        \n",
    "        r = np.array([m1.r_star_to_r(x,M,tol) for x in r_points[:lentest]]) #should be same for all I integrals (per M) so can pass to the functions \n",
    "        rdependentpart_top = (1-2*M/r)/(r**2*np.sqrt(2*omega**3))\n",
    "        rdependentpart_bottom = np.sqrt(1-2*M/r)/(r*np.sqrt(2*omega))\n",
    "        \n",
    "        \n",
    "        #print(gstar_xkh,fstar_xkh,psi_gammalomega,rdependentpart_top,rdependentpart_bottom)\n",
    "\n",
    "        #print(np.dot(gstar_xkh[0],gstar_xprime_minkprime_hprime[0]))\n",
    "        #print(fstar_xkh*fstar_xprime_minkprime_hprime)\n",
    "        \n",
    "        topline = (fstar_xkh*g_xprime_kprime_hprime - gstar_xkh*f_xprime_kprime_hprime)*np.sqrt(l*(l+1))*psi_gammalomega*rdependentpart_top\n",
    "           \n",
    "        botline = (fstar_xkh*g_xprime_kprime_hprime + gstar_xkh*f_xprime_kprime_hprime)*((k-k_prime)/(omega*np.sqrt(l*(l+1))))*psi_gammalomega_prime*rdependentpart_bottom\n",
    "        \n",
    "        \n",
    "        #print(topline, botline)\n",
    "        #return topline+botline\n",
    "        \n",
    "        #midpoint method\n",
    "        inte = 0.\n",
    "        rstar_step = r_points[0]-r_points[1]   #switched order to get positive steps in\n",
    "        integ=[]\n",
    "        dI = []\n",
    "        for index in range(toplen,len(topline)-1,1):  #rewrite as np.sum\n",
    "            inte += .5*(topline[index]+topline[index+1] + botline[index]+botline[index+1])*rstar_step\n",
    "            dI.append(.5*(topline[index]+topline[index+1] + botline[index]+botline[index+1])*rstar_step)\n",
    "            integ.append(inte)\n",
    "            \n",
    "        #return np.array(integ*np.conjugate(integ)) #*self.coeff_m \n",
    "        #return (topline+botline)\n",
    "        plt.loglog(r_points[toplen:lentest-1]/M,np.abs( np.array(integ)*tryA2.coeff_no_m_even*np.conjugate(np.array(integ)*tryA2.coeff_no_m_even)) )\n",
    "        #plt.plot(r_points[113043],5,color='green', marker='o',markersize=5)\n",
    "        plt.loglog(2000.,1.e-50)\n",
    "        plt.show()\n",
    "        return((inte*tryA2.coeff_no_m_even)*np.conjugate((inte*tryA2.coeff_no_m_even)),np.abs(np.array(integ)*tryA2.coeff_no_m_even*np.conjugate(np.array(integ)*tryA2.coeff_no_m_even)),r,np.abs(np.array(dI)*tryA2.coeff_no_m_even*np.conjugate(np.array(dI)*tryA2.coeff_no_m_even)))\n",
    "    \n",
    "    \n"
   ]
  },
  {
   "cell_type": "code",
   "execution_count": 72,
   "id": "bd621853-5a55-4dcb-a344-2c217778da74",
   "metadata": {},
   "outputs": [
    {
     "name": "stdout",
     "output_type": "stream",
     "text": [
      "0\n",
      "9.289955374814078\n"
     ]
    },
    {
     "name": "stderr",
     "output_type": "stream",
     "text": [
      "/users/PCON0003/koivuemily/.conda/envs/local1/lib/python3.10/site-packages/matplotlib/cbook/__init__.py:1298: ComplexWarning: Casting complex values to real discards the imaginary part\n",
      "  return np.asarray(x, float)\n",
      "/users/PCON0003/koivuemily/.conda/envs/local1/lib/python3.10/site-packages/matplotlib/cbook/__init__.py:1298: ComplexWarning: Casting complex values to real discards the imaginary part\n",
      "  return np.asarray(x, float)\n"
     ]
    },
    {
     "data": {
      "image/png": "[encoded data removed]",
      "text/plain": [
       "<Figure size 432x288 with 1 Axes>"
      ]
     },
     "metadata": {
      "needs_background": "light"
     },
     "output_type": "display_data"
    },
    {
     "name": "stderr",
     "output_type": "stream",
     "text": [
      "/users/PCON0003/koivuemily/.conda/envs/local1/lib/python3.10/site-packages/matplotlib/cbook/__init__.py:1298: ComplexWarning: Casting complex values to real discards the imaginary part\n",
      "  return np.asarray(x, float)\n"
     ]
    },
    {
     "data": {
      "image/png": "[encoded data removed]",
      "text/plain": [
       "<Figure size 432x288 with 1 Axes>"
      ]
     },
     "metadata": {
      "needs_background": "light"
     },
     "output_type": "display_data"
    },
    {
     "name": "stderr",
     "output_type": "stream",
     "text": [
      "/users/PCON0003/koivuemily/.conda/envs/local1/lib/python3.10/site-packages/matplotlib/cbook/__init__.py:1298: ComplexWarning: Casting complex values to real discards the imaginary part\n",
      "  return np.asarray(x, float)\n",
      "/users/PCON0003/koivuemily/.conda/envs/local1/lib/python3.10/site-packages/matplotlib/cbook/__init__.py:1298: ComplexWarning: Casting complex values to real discards the imaginary part\n",
      "  return np.asarray(x, float)\n"
     ]
    },
    {
     "data": {
      "image/png": "[encoded data removed]",
      "text/plain": [
       "<Figure size 432x288 with 1 Axes>"
      ]
     },
     "metadata": {
      "needs_background": "light"
     },
     "output_type": "display_data"
    },
    {
     "data": {
      "image/png": "[encoded data removed]",
      "text/plain": [
       "<Figure size 432x288 with 1 Axes>"
      ]
     },
     "metadata": {
      "needs_background": "light"
     },
     "output_type": "display_data"
    }
   ],
   "source": [
    "lhs,lhsplot,rlhs,lhsdI = IBarplusminusevenfunctest(X,k,X_prime,k_prime,X_gamma,l,h,h_prime,omega,M,F_points_gamma_in, z_points_gamma_in)\n",
    "\n",
    "\n",
    "#D2 is satisfied here for things above 500 M or so  - possible i was starting the integration too close to black hole "
   ]
  },
  {
   "cell_type": "code",
   "execution_count": 64,
   "id": "2ef58667-ffbb-49d7-9e71-785c9119fdb4",
   "metadata": {},
   "outputs": [
    {
     "name": "stdout",
     "output_type": "stream",
     "text": [
      "502.82558634142634\n"
     ]
    },
    {
     "data": {
      "text/plain": [
       "86152"
      ]
     },
     "execution_count": 64,
     "metadata": {},
     "output_type": "execute_result"
    }
   ],
   "source": [
    "print(rlhs[-26891]/M)\n",
    "len(rlhs)-26891\n",
    "\n"
   ]
  },
  {
   "cell_type": "code",
   "execution_count": 10,
   "id": "18dbec68-7d58-4a8e-8d47-8f0c3c4bcf69",
   "metadata": {},
   "outputs": [],
   "source": [
    "#print(rlhs[37251]/M)\n",
    "\n",
    "toplen = 28251 #for 1500M\n",
    "#toplen = 37251 #for 1344M"
   ]
  },
  {
   "cell_type": "code",
   "execution_count": 98,
   "id": "19287dd8-dd73-45e8-a8bb-25c9307ae3f1",
   "metadata": {},
   "outputs": [
    {
     "name": "stdout",
     "output_type": "stream",
     "text": [
      "right, left\n",
      "0.000797983159893505 63.799457035668894\n",
      "right/left\n",
      "1.2507679484597649e-05\n",
      "right surface, left\n",
      "3104.4431168306464 63.799457035668894\n",
      "right surface/left\n",
      "48.659397133975915\n"
     ]
    }
   ],
   "source": [
    "#with rstar\n",
    "#print('right, left')\n",
    "#print(np.abs(right2),np.abs(3*lhs))\n",
    "#print('right/left')\n",
    "#print(np.abs(right2)/np.abs(3*lhs))\n",
    "\n",
    "#print('right surface, left')\n",
    "#print(np.abs(right2withsurface),np.abs(3*lhs))\n",
    "#print('right surface/left')\n",
    "#print(np.abs(right2withsurface)/np.abs(3*lhs))"
   ]
  },
  {
   "cell_type": "code",
   "execution_count": 18,
   "id": "fa8d5179-41fe-477e-9eb5-08eb96e29695",
   "metadata": {},
   "outputs": [
    {
     "name": "stdout",
     "output_type": "stream",
     "text": [
      "right, left\n",
      "0.37792268509144156 10384513.848803192\n",
      "right/left\n",
      "3.639291069316614e-08\n",
      "right surface, left\n",
      "10179987.801214265 10384513.848803192\n",
      "right surface/left\n",
      "0.9803047065498883\n"
     ]
    }
   ],
   "source": [
    "#with r\n",
    "print('right, left')\n",
    "print(np.abs(right2),np.abs(3*lhs))\n",
    "print('right/left')\n",
    "print(np.abs(right2)/np.abs(3*lhs))\n",
    "\n",
    "print('right surface, left')\n",
    "print(np.abs(right2withsurface),np.abs(3*lhs))\n",
    "print('right surface/left')\n",
    "print(np.abs(right2withsurface)/np.abs(3*lhs))"
   ]
  },
  {
   "cell_type": "code",
   "execution_count": 19,
   "id": "a2bf198a-b71a-42a1-b348-8a4e9964a50d",
   "metadata": {},
   "outputs": [
    {
     "data": {
      "image/png": "[encoded data removed]",
      "text/plain": [
       "<Figure size 432x288 with 1 Axes>"
      ]
     },
     "metadata": {
      "needs_background": "light"
     },
     "output_type": "display_data"
    },
    {
     "name": "stdout",
     "output_type": "stream",
     "text": [
      "(10384513.848803192+0j)\n"
     ]
    }
   ],
   "source": [
    "plt.plot(rlhs[toplen:-1]/M,3*lhsdI)\n",
    "plt.xlim(.1e1,1.6e1)\n",
    "plt.xlabel('rstar/M')\n",
    "plt.title('LHS dI at each rstar')\n",
    "plt.show()\n",
    "\n",
    "print(3*lhs) #-> approaches 63? not sure what this is about then \n",
    "#tells me that the 500M side is more important.\n",
    "#check as it goes to 50M? "
   ]
  },
  {
   "cell_type": "code",
   "execution_count": 24,
   "id": "d106522f-0e10-490d-bd48-647ee218545b",
   "metadata": {},
   "outputs": [
    {
     "data": {
      "text/plain": [
       "1344.3994390985824"
      ]
     },
     "execution_count": 24,
     "metadata": {},
     "output_type": "execute_result"
    }
   ],
   "source": [
    "rlhs[37251]/M"
   ]
  },
  {
   "cell_type": "code",
   "execution_count": 67,
   "id": "e5846c4e-d540-488e-8939-3f28149afd36",
   "metadata": {},
   "outputs": [
    {
     "data": {
      "text/plain": [
       "1.0425454820862916"
      ]
     },
     "execution_count": 67,
     "metadata": {},
     "output_type": "execute_result"
    }
   ],
   "source": [
    "9.48554894467488e-11/9.098450962247574e-11"
   ]
  },
  {
   "cell_type": "code",
   "execution_count": 72,
   "id": "c96869c3-a220-4e33-b223-3bed90b6b927",
   "metadata": {},
   "outputs": [
    {
     "data": {
      "text/plain": [
       "115403"
      ]
     },
     "execution_count": 72,
     "metadata": {},
     "output_type": "execute_result"
    }
   ],
   "source": [
    "len(rlhs)"
   ]
  },
  {
   "cell_type": "code",
   "execution_count": 20,
   "id": "91549f9f-61ee-40ca-9059-f136e57a8957",
   "metadata": {},
   "outputs": [
    {
     "data": {
      "image/png": "[encoded data removed]",
      "text/plain": [
       "<Figure size 432x288 with 1 Axes>"
      ]
     },
     "metadata": {
      "needs_background": "light"
     },
     "output_type": "display_data"
    }
   ],
   "source": [
    "\"\"\"\n",
    "plt.loglog(rlhs[toplen:-1]/M,3*lhsplot,label='left')\n",
    "#plt.loglog(rlhs[:-1]/M, lhsplot,label='left')\n",
    "plt.loglog(rlhs[toplen:-1]/M,right2plot,label='right')\n",
    "plt.legend()\n",
    "plt.grid()\n",
    "plt.xlim(50,1.6e3)\n",
    "plt.ylim(1.e-60,1.e4)\n",
    "plt.show()\n",
    "\"\"\"\n",
    "\n",
    "plt.loglog(rlhs[toplen:-1]/M,3*lhsplot,label='left')\n",
    "#plt.loglog(rlhs[:-1]/M, lhsplot,label='left')\n",
    "plt.loglog(rlhs[toplen:-1]/M,right2plotwithsurface,label='right with surface')\n",
    "plt.legend()\n",
    "plt.grid()\n",
    "plt.xlim(5,1.6e3)\n",
    "plt.ylim(1.e-60,4.e7)\n",
    "plt.title('Convergence of integral')\n",
    "plt.show()\n"
   ]
  },
  {
   "cell_type": "code",
   "execution_count": 35,
   "id": "d7f289cf-eaf0-4749-a306-9e551f13719b",
   "metadata": {},
   "outputs": [],
   "source": [
    "#start mag dipole work: l=1 parity odd"
   ]
  },
  {
   "cell_type": "code",
   "execution_count": null,
   "id": "58636687-25bd-4b13-88ef-18cd256cbfb3",
   "metadata": {},
   "outputs": [],
   "source": [
    "# this is matching D20 in paper 1 "
   ]
  },
  {
   "cell_type": "code",
   "execution_count": 50,
   "id": "e01e35fe-35b8-4139-82c6-d1c39229af9b",
   "metadata": {},
   "outputs": [],
   "source": [
    "k_mag = -2\n",
    "k_prime_mag = 3\n",
    "l_mag = 1"
   ]
  },
  {
   "cell_type": "code",
   "execution_count": 54,
   "id": "7f207a6a-35b4-450f-a7d3-ac3c5ae05948",
   "metadata": {},
   "outputs": [
    {
     "name": "stdout",
     "output_type": "stream",
     "text": [
      "28251 115403\n"
     ]
    }
   ],
   "source": [
    "print(toplen,lentest)\n",
    "lentest=115403"
   ]
  },
  {
   "cell_type": "code",
   "execution_count": 107,
   "id": "8170401c-0381-454c-a298-82d969b80368",
   "metadata": {},
   "outputs": [],
   "source": [
    "#lentest=115703 how to adjust inner bound"
   ]
  },
  {
   "cell_type": "code",
   "execution_count": 55,
   "id": "713b96bb-89d5-48ed-b4bb-e9df3a9b15e7",
   "metadata": {},
   "outputs": [],
   "source": [
    "tryA2mag=Inp.IfunctionsNoM(X,k_mag,X_prime,k_prime_mag,X_gamma,l_mag,parity,h,h_prime,omega,M,n)\n"
   ]
  },
  {
   "cell_type": "code",
   "execution_count": 109,
   "id": "faac6759-5221-49e1-85bd-6a512eb249e8",
   "metadata": {},
   "outputs": [
    {
     "name": "stdout",
     "output_type": "stream",
     "text": [
      "1668821335374960.8\n",
      "1.498063301928175e-16\n"
     ]
    }
   ],
   "source": [
    "print((omega**3)/(4*np.pi*mu**4))\n",
    "print(1/(omega**3)*np.pi*mu**4)"
   ]
  },
  {
   "cell_type": "code",
   "execution_count": 118,
   "id": "4d155abd-958f-4951-a10b-fe81541f4778",
   "metadata": {},
   "outputs": [],
   "source": [
    "def rhs_mag(h,h_prime,omega,k,k_prime,M,r_initial, r_final,lentest): \n",
    "    \n",
    "    nu = 1.\n",
    "    mu =4.1796514508e-23 #planck units \n",
    "    lam = 1.\n",
    "    GC = 1.\n",
    "    c = 1.\n",
    "    tol = 1.e-10\n",
    "    step_size_for_inte = 1*240000\n",
    "        \n",
    "    first_coeff = (omega**3)/(144*4*np.pi*(mu**4))\n",
    "    brac = 0 \n",
    "    \n",
    "    #L=j-1/2*s\n",
    "    \n",
    "    j=(np.abs(k) - 1/2)\n",
    "    j_prime = (np.abs(k_prime) - 1/2)\n",
    "    \n",
    "    s=0\n",
    "    s_prime=0\n",
    "        \n",
    "    if k !=0:\n",
    "        s= (k/np.abs(k))\n",
    "    if k_prime!=0:\n",
    "        s_prime=k_prime/np.abs(k_prime)\n",
    "        \n",
    "    L=j-.5*s\n",
    "    L_prime=j_prime -.5*s_prime \n",
    "    print(L,L_prime)\n",
    "    \n",
    "    if np.abs(s-1)<tol  and np.abs(s_prime+1)<tol:\n",
    "        brac = (L)/(2*L+1)\n",
    "    elif np.abs(s+1)<tol  and np.abs(s_prime-1)<tol: \n",
    "        brac = (L+1)/(2*L+1)\n",
    "    else: \n",
    "        brac=0.\n",
    "    \n",
    "    print(first_coeff,brac)\n",
    "\n",
    "    \n",
    "    omega_index = round(omega*100*(8*np.pi*M) -1)\n",
    "    print(omega_index)\n",
    "    h_index = round(h*100*(8*np.pi*M) -1)\n",
    "    h_prime_index = round(h_prime*100*(8*np.pi*M) -1)\n",
    "    \n",
    "    \n",
    "    direcElectron = '/users/PCON0003/koivuemily/PrimordialBlackHole/ElectronWaveFunctionFits/'\n",
    "    if k>0:\n",
    "        hdu = fits.open(direcElectron+str(k)+'ExtendedOmega.fits')\n",
    "    else:\n",
    "        hdu = fits.open(direcElectron+'min'+str(np.abs(k))+'ExtendedOmega.fits')\n",
    "\n",
    "    r_points = hdu[h_index].data.field('rpoints_up')\n",
    "     \n",
    "    F_points_xkh = hdu[h_index].data.field('F_points_up')\n",
    "    G_points_xkh = hdu[h_index].data.field('G_points_up')\n",
    "    \n",
    "    r = np.array([m1.r_star_to_r(x,M,tol) for x in r_points[:lentest]])\n",
    "    \n",
    "    \n",
    "    print(len(r))\n",
    "    #print(toplen-lentest)\n",
    "    \n",
    "    print(direcElectron+'min'+str(np.abs(k_prime))+'ExtendedOmega.fits')\n",
    "   \n",
    "    if k_prime>0:\n",
    "        hdu = fits.open(direcElectron+str(k_prime)+'ExtendedOmega.fits')\n",
    "    else:\n",
    "        hdu = fits.open(direcElectron+'min'+str(np.abs(k_prime))+'ExtendedOmega.fits')\n",
    "\n",
    "    F_points_xkh_prime = hdu[h_prime_index].data.field('F_points_up')\n",
    "    G_points_xkh_prime = hdu[h_prime_index].data.field('G_points_up')\n",
    "        \n",
    "    \n",
    "    \n",
    "    \n",
    "    \n",
    "    print('rstarmax and rstarmin')\n",
    "    print(r_points[toplen]/M, r_points[lentest]/M)\n",
    "    \n",
    "    dr = r_points[0]-r_points[1]\n",
    "    inte = 0 \n",
    "    \n",
    "    integ = []\n",
    "    integ_sur =[]\n",
    "    surface_term =(np.conjugate(F_points_xkh[toplen-1])*F_points_xkh_prime[toplen-1]*r_points[toplen-1] - np.conjugate(F_points_xkh[lentest-1])*F_points_xkh_prime[lentest-1]*r_points[lentest-1])\n",
    "    \n",
    "    #with r\n",
    "    dr = r[0]-r[1]\n",
    "    print(dr)\n",
    "    for i in range(toplen,lentest-1,1):\n",
    "        #dr=r[i]-r[i+1]\n",
    "        inte += (k+k_prime+1)*.5*(np.conjugate(F_points_xkh[i])*(F_points_xkh_prime[i]) + np.conjugate(F_points_xkh[i+1])*(F_points_xkh_prime[i+1]))*dr\n",
    "        integ.append(inte)\n",
    "        \n",
    "        surface_term_test= (np.conjugate(F_points_xkh[toplen-1])*F_points_xkh_prime[toplen-1]*r_points[toplen-1] - np.conjugate(F_points_xkh[i])*F_points_xkh_prime[i]*r[i])\n",
    "    \n",
    "        integ_sur.append(inte - surface_term_test)\n",
    " \n",
    "    \n",
    "    return np.conjugate(inte)*inte*brac*first_coeff, np.abs(integ*np.conjugate(integ)*brac*first_coeff), np.conjugate(inte-surface_term)*(inte-surface_term)*brac*first_coeff,np.abs(integ_sur*np.conjugate(integ_sur)*brac*first_coeff)\n"
   ]
  },
  {
   "cell_type": "code",
   "execution_count": 119,
   "id": "b853d5bf-664a-4944-ac99-c50bd610d2e1",
   "metadata": {},
   "outputs": [
    {
     "name": "stdout",
     "output_type": "stream",
     "text": [
      "2.0 2.0\n",
      "11589037051215.006 0.6\n",
      "0\n",
      "115403\n",
      "/users/PCON0003/koivuemily/PrimordialBlackHole/ElectronWaveFunctionFits/min3ExtendedOmega.fits\n",
      "rstarmax and rstarmin\n",
      "1512.6682194509144 9.289955374814078\n",
      "1.7232701878697984e+19\n"
     ]
    }
   ],
   "source": [
    "right2_mag,right2plot_mag,right2withsurface_mag,right2plotwithsurface_mag = rhs_mag(h,h_prime,omega,k_mag,k_prime_mag,M,2000.*M, 10.*M,lentest)\n"
   ]
  },
  {
   "cell_type": "code",
   "execution_count": 28,
   "id": "f5f4abbb-b382-4565-bd29-639210d24134",
   "metadata": {},
   "outputs": [
    {
     "data": {
      "text/plain": [
       "((0.7911360677230914+0j), (6.357437035746056+0j))"
      ]
     },
     "execution_count": 28,
     "metadata": {},
     "output_type": "execute_result"
    }
   ],
   "source": [
    "right2_mag,right2withsurface_mag"
   ]
  },
  {
   "cell_type": "code",
   "execution_count": 149,
   "id": "8a4b9eef-3342-46bb-b7be-187beffa4c4f",
   "metadata": {},
   "outputs": [
    {
     "data": {
      "text/plain": [
       "((0.7911360677230914+0j), (6.357437035746056+0j))"
      ]
     },
     "execution_count": 149,
     "metadata": {},
     "output_type": "execute_result"
    }
   ],
   "source": [
    "right2_mag,right2withsurface_mag"
   ]
  },
  {
   "cell_type": "code",
   "execution_count": 73,
   "id": "f64755c8-1528-40eb-a7a5-db1e076b35b0",
   "metadata": {},
   "outputs": [],
   "source": [
    "def IBarplusminusoddfunctest(X,k,X_prime,k_prime,X_gamma,l,h,h_prime,omega,M,F_points_gamma_in,z_points_gamma_in):\n",
    "        \n",
    "        #x=0 in, x=1 up\n",
    "        \n",
    "        omega_index = round(omega*100*(8*np.pi*M) -1)\n",
    "        h_index = round(h*100*(8*np.pi*M) -1)\n",
    "        h_prime_index = round(h_prime*100*(8*np.pi*M) -1)\n",
    "        print(omega_index, h_index, h_prime_index)\n",
    "    \n",
    "        \n",
    "        nu = 1.\n",
    "        mu = 4.1796514508e-23\n",
    "        lam = 1.\n",
    "        GC = 1.\n",
    "        c = 1.\n",
    "        tol = 1.e-10\n",
    "                \n",
    "        if X==0:\n",
    "            uptrue = False\n",
    "        else:\n",
    "            uptrue = True\n",
    "        if X_prime==0:\n",
    "            uptrue_Xprime = False\n",
    "        else:\n",
    "            uptrue_Xprime = True\n",
    "            \n",
    "        if X_gamma==0:\n",
    "            uptrue_Xgamma = False\n",
    "        else:\n",
    "            uptrue_Xgamma = True \n",
    "        \n",
    "                    \n",
    "        direcElectron = '/users/PCON0003/koivuemily/PrimordialBlackHole/ElectronWaveFunctionFits/'\n",
    "        if k>0:\n",
    "            hdu = fits.open(direcElectron+str(k)+'ExtendedOmega.fits')\n",
    "        else:\n",
    "            hdu = fits.open(direcElectron+'min'+str(np.abs(k))+'ExtendedOmega.fits')\n",
    "        \n",
    "        r_points = hdu[h_index].data.field('rpoints_up')\n",
    "        if uptrue == True: \n",
    "            F_points_xkh = hdu[h_index].data.field('F_points_up')\n",
    "            G_points_xkh = hdu[h_index].data.field('G_points_up')\n",
    "        else: \n",
    "            F_points_xkh = hdu[h_index].data.field('F_points_in')\n",
    "            G_points_xkh = hdu[h_index].data.field('G_points_in')\n",
    "             \n",
    "        if k_prime>0:\n",
    "            hdu = fits.open(direcElectron+str(k_prime)+'ExtendedOmega.fits')\n",
    "        else:\n",
    "            hdu = fits.open(direcElectron+'min'+str(np.abs(k_prime))+'ExtendedOmega.fits')\n",
    "        \n",
    "        if uptrue_Xprime == True: \n",
    "            F_points_xkh_prime = hdu[h_prime_index].data.field('F_points_up')\n",
    "            G_points_xkh_prime = hdu[h_prime_index].data.field('G_points_up')\n",
    "        else: \n",
    "            F_points_xkh_prime = hdu[h_prime_index].data.field('F_points_in')\n",
    "            G_points_xkh_prime = hdu[h_prime_index].data.field('G_points_in')\n",
    "        \n",
    "       \n",
    "        hdu = fits.open(direcElectron+str(np.abs(k))+'ExtendedOmega.fits')\n",
    "        F_points_xkh_test = hdu[h_prime_index].data.field('F_points_up')\n",
    "        G_points_xkh_test = hdu[h_prime_index].data.field('G_points_up')\n",
    "       \n",
    "        \n",
    "        \n",
    "        \n",
    "        gstar_xkh = np.conjugate(np.array(G_points_xkh))\n",
    "        g_xprime_kprime_hprime = np.array(G_points_xkh_prime)\n",
    "        \n",
    "        fstar_xkh = np.conjugate(np.array(F_points_xkh))\n",
    "        f_xprime_kprime_hprime = np.array(F_points_xkh_prime)\n",
    "            \n",
    "        \n",
    "        r = np.array([m1.r_star_to_r(x,M,tol) for x in r_points[:lentest]]) #should be same for all I integrals (per M) so can pass to the functions \n",
    "        rdependentpart = np.sqrt((1-2*M/r))/(2*r*np.sqrt(2*omega))\n",
    "        \n",
    "        \n",
    "        psi_gammalomega = F_points_gamma_in[::-1][::2]\n",
    "        psi_gammalomega_prime =z_points_gamma_in[::-1][::2]\n",
    "        \n",
    "        psi_gammalomega = psi_gammalomega[:lentest]\n",
    "        psi_gammalomega_prime =psi_gammalomega_prime[:lentest]\n",
    "        \n",
    "        \n",
    "        g_xkh = np.array(G_points_xkh[:lentest])\n",
    "        g_xkh_prime = np.array(G_points_xkh_prime[:lentest])\n",
    "        \n",
    "        \n",
    "        gstar_xkh = np.conjugate(np.array(G_points_xkh[:lentest]))\n",
    "        g_xprime_kprime_hprime = np.array(G_points_xkh_prime[:lentest])\n",
    "        \n",
    "        fstar_xkh = np.conjugate(np.array(F_points_xkh[:lentest]))\n",
    "        f_xkh = np.array(F_points_xkh[:lentest])\n",
    "        f_xprime_kprime_hprime = np.array(F_points_xkh_prime[:lentest])\n",
    "        \n",
    "        \n",
    "        \n",
    "        \n",
    "        df_xkh_dr_star =[]\n",
    "        df_xkh_prime_dr_star =[]\n",
    "        dg_xkh_dr_star =[]\n",
    "        dg_xkh_dr_star_test =[]\n",
    "        \n",
    "        r_step = r[toplen]-r[toplen+1]\n",
    "        rstar_step = r_points[0]-r_points[1] #rstar\n",
    "        #try taking 4pt derivative \n",
    "        #F’(x) ≈ [ -F(x+2h) + 8F(x+h) - 8F(x-h) + F(x-2h)]/(12h)\n",
    "        \n",
    "        df_xkh_dr_star_4 = [] \n",
    "        df_xkh_dr_4 = []\n",
    "        df_xkh_dr = []\n",
    "        for i in range(toplen,lentest-1,1):\n",
    "            r_step = r[i]-r[i+1]\n",
    "            df_xkh_dr_star.append((F_points_xkh[i-1]-F_points_xkh[i+1])/(rstar_step*2))\n",
    "            df_xkh_dr.append((F_points_xkh[i-1]-F_points_xkh[i+1])/(r_step*2))\n",
    "            df_xkh_dr_star_4.append(-1*(F_points_xkh[i-2]- 8*F_points_xkh[i-1]+8*F_points_xkh[i+1] -F_points_xkh[i+2])/(rstar_step*12))\n",
    "            df_xkh_dr_4.append(1*(F_points_xkh[i-2]- 8*F_points_xkh[i-1]+8*F_points_xkh[i+1] -F_points_xkh[i+2])/(r_step*12))\n",
    "            \n",
    "            dg_xkh_dr_star.append((G_points_xkh[i-1]-G_points_xkh[i+1])/(rstar_step*2))\n",
    "            df_xkh_prime_dr_star.append((F_points_xkh_prime[i-1]-F_points_xkh_prime[i+1])/(rstar_step*2))\n",
    "            dg_xkh_dr_star_test.append((np.conjugate(G_points_xkh_test[i-1])-np.conjugate(G_points_xkh_test[i+1]))/(rstar_step*2)) \n",
    "        print(r_step)\n",
    "        \n",
    "        \n",
    "        plt.plot(r_points[toplen:lentest-1]/M,k*g_xkh[toplen:-1]/r_points[toplen:lentest-1] + dg_xkh_dr_star)\n",
    "        plt.xlim(0,100)\n",
    "        plt.plot()\n",
    "        plt.show()\n",
    "        \n",
    "        \n",
    "\n",
    "        plt.plot(r_points[toplen:lentest]/M,G_points_xkh[toplen:lentest],label='g')\n",
    "        plt.plot(r_points[toplen:lentest-1]/M, (k*F_points_xkh[toplen:lentest-1]/r[toplen:lentest-1] - df_xkh_dr_star_4)/(2*mu),label='F')\n",
    "        plt.legend()\n",
    "        plt.title('XKH rstar D2 not adjusted')\n",
    "        #plt.ylim(1.e-18,5.e-18)\n",
    "        plt.xlim(0,100)\n",
    "        plt.show()\n",
    "        \n",
    "        \n",
    "        plt.plot(r_points[toplen:lentest]/M,G_points_xkh[toplen:lentest],label='g')\n",
    "        plt.plot(r_points[toplen:lentest-1]/M, (k*(1-M/r[toplen:lentest-1])*F_points_xkh[toplen:lentest-1]/r[toplen:lentest-1] - df_xkh_dr_star)/(h+mu*(1-M/r[toplen:lentest-1])),label='F 2')\n",
    "        plt.plot(r_points[toplen:lentest-1]/M, (k*(1-M/r[toplen:lentest-1])*F_points_xkh[toplen:lentest-1]/r[toplen:lentest-1] - df_xkh_dr_star_4)/(h+mu*(1-M/r[toplen:lentest-1])),label='F 4')\n",
    "        plt.legend()\n",
    "        plt.title('XKH rstar D2 adjusted for inclusion of (1-M/r)')\n",
    "        #plt.ylim(1.e-18,5.e-18)\n",
    "        plt.xlim(0,100)\n",
    "        plt.show()\n",
    "        \n",
    "        \n",
    "        \"\"\"plt.plot(r_points[toplen:lentest]/M,G_points_xkh[toplen:lentest],label='g')\n",
    "        plt.plot(r_points[toplen:lentest-1]/M, (k*(1-M/r[toplen:lentest-1])*F_points_xkh[toplen:lentest-1]/r[toplen:lentest-1] - df_xkh_dr)/(h+mu*(1-M/r[toplen:lentest-1])),label='F')\n",
    "        plt.legend()\n",
    "        plt.title('XKH rstar D2 adjusted dr derivative instead')\n",
    "        #plt.ylim(1.e-18,5.e-18)\n",
    "        plt.xlim(0,100)\n",
    "        plt.show()\"\"\"\n",
    "        \n",
    "        plt.plot(r_points[toplen:lentest]/M,G_points_xkh[toplen:lentest],label='g')\n",
    "        plt.plot(r_points[toplen:lentest-1]/M, (k*(1-M/r[toplen:lentest-1])*F_points_xkh[toplen:lentest-1]/r[toplen:lentest-1] - df_xkh_dr_star )/(h+mu*(1-M/r[toplen:lentest-1])),label='F')\n",
    "        plt.legend()\n",
    "        plt.title('D1 right adjusted')\n",
    "        #plt.ylim(1.e-18,5.e-18)\n",
    "        plt.xlim(0,50)\n",
    "        plt.show()\n",
    "        \n",
    "        plt.plot(r_points[toplen:lentest]/M,G_points_xkh[toplen:lentest],label='g')\n",
    "        plt.plot(r_points[toplen:lentest-1]/M, (k*F_points_xkh[toplen:lentest-1]/r[toplen:lentest-1] - df_xkh_dr_star )/(h+mu*(1-M/r[toplen:lentest-1])),label='F')\n",
    "        plt.legend()\n",
    "        plt.title('D1 right')\n",
    "        #plt.ylim(1.e-18,5.e-18)\n",
    "        plt.xlim(0,100)\n",
    "        plt.show()\n",
    "        \n",
    "        \n",
    "        plt.plot(r_points[toplen:lentest]/M,F_points_xkh[toplen:lentest],label='F')\n",
    "        plt.plot(r_points[toplen:lentest-1]/M, (k*G_points_xkh[toplen:lentest-1]/r[toplen:lentest-1] + dg_xkh_dr_star )/(h-mu*(1-M/r[toplen:lentest-1])),label='g')\n",
    "        plt.legend()\n",
    "        plt.title('D1 left')\n",
    "        #plt.ylim(1.e-18,5.e-18)\n",
    "        plt.xlim(0,20)\n",
    "        plt.show()\n",
    "        \n",
    "        #plt.plot(r_points[toplen:lentest]/M,F_points_xkh[toplen:lentest],label='F')\n",
    "        plt.plot(r_points[toplen:lentest-1]/M, (-k*G_points_xkh[toplen:lentest-1]/r[toplen:lentest-1])/(h-mu*(1-M/r[toplen:lentest-1])),label='gpart')\n",
    "        plt.plot(r_points[toplen:lentest-1]/M, (dg_xkh_dr_star)/(h-mu*(1-M/r[toplen:lentest-1])),label='dg part')\n",
    "        plt.legend()\n",
    "        plt.title('D1 left terms test')\n",
    "        #plt.ylim(1.e-18,5.e-18)\n",
    "        plt.xlim(0,20)\n",
    "        plt.show()\n",
    "        \n",
    "        #plt.plot(r_points[toplen:lentest]/M,F_points_xkh[toplen:lentest],label='F')\n",
    "        plt.plot(r_points[toplen:lentest-1]/M, (-k*G_points_xkh[toplen:lentest-1]/r[toplen:lentest-1])/(h-mu*(1-M/r[toplen:lentest-1])) - F_points_xkh[toplen:lentest-1],label='gpart')\n",
    "        plt.plot(r_points[toplen:lentest-1]/M, (dg_xkh_dr_star)/(h-mu*(1-M/r[toplen:lentest-1])),label='dg part')\n",
    "        plt.legend()\n",
    "        plt.title('D1 left rewrite')\n",
    "        #plt.ylim(1.e-18,5.e-18)\n",
    "        plt.xlim(0,20)\n",
    "        plt.show()\n",
    "        \n",
    "       \n",
    "        plt.plot(r_points[toplen:lentest]/M,G_points_xkh[toplen:lentest],label='g')\n",
    "        plt.plot(r_points[toplen:lentest-1]/M, (k*F_points_xkh[toplen:lentest-1]*np.sqrt(1-2*M/r[toplen:lentest-1])/r[toplen:lentest-1] - df_xkh_dr_star -mu*np.sqrt(1-2*M/r[toplen:lentest-1])*G_points_xkh[toplen:lentest-1])/h,label='complicated')\n",
    "        plt.legend()\n",
    "        plt.title('35')\n",
    "        #plt.ylim(1.e-18,5.e-18)\n",
    "        plt.xlim(0,100)\n",
    "        plt.show()\n",
    "        \n",
    "        \n",
    "        plt.plot(r_points[toplen:lentest]/M,G_points_xkh[toplen:lentest],label='g rk4')\n",
    "        #plt.plot(r_points[toplen:lentest]/M,F_points_xkh[toplen:lentest],label='F rk4')\n",
    "        plt.plot(r_points[toplen:lentest-1]/M, (k*F_points_xkh[toplen:lentest-1]*np.sqrt(1-2*M/r[toplen:lentest-1])/r[toplen:lentest-1] - df_xkh_dr_star_4)/(h+mu*np.sqrt(1-2*M/r[toplen:lentest-1])),label='complicated')\n",
    "        plt.legend()\n",
    "        plt.title('35 4pt method')\n",
    "        #plt.ylim(1.e-18,5.e-18)\n",
    "        plt.xlim(0,100)\n",
    "        plt.show()\n",
    "        \n",
    "        \n",
    "         \n",
    "        \"\"\"plt.plot(r_points[toplen:lentest]/M,G_points_xkh[toplen:lentest],label='g')\n",
    "        plt.plot(r_points[toplen:lentest-1]/M, (k*np.conjugate(G_points_xkh_test[toplen:lentest-1])/r[toplen:lentest-1] - dg_xkh_dr_star)/(2*mu),label='F')\n",
    "        plt.legend()\n",
    "        plt.title('XKH rstar but try with F_x,-k,-h = Gstar_x,k,h')\n",
    "        #plt.ylim(-20.e-10,5.e-18)\n",
    "        plt.xlim(0,100)\n",
    "        plt.show()\n",
    "        \"\"\"\n",
    "        \n",
    "\n",
    "\n",
    "        print(len(psi_gammalomega))\n",
    "        line = (fstar_xkh * g_xprime_kprime_hprime + gstar_xkh*f_xprime_kprime_hprime)*psi_gammalomega*rdependentpart\n",
    "        print(len(line))\n",
    "        print(toplen-lentest)\n",
    "        print(line[0])\n",
    "        print(r_points[toplen]/M,r_points[lentest-1]/M)\n",
    "        #midpoint method\n",
    "        print(len(r))\n",
    "        inte = 0.\n",
    "        rstar_step = r_points[0]-r_points[1] #switched order to get positive steps in\n",
    "        print(rstar_step)\n",
    "        integ=[]\n",
    "        dIs = []\n",
    "        for index in range(toplen,lentest-1,1):\n",
    "            dI = .5*(line[index]+line[index+1])*rstar_step\n",
    "            inte += dI\n",
    "            dIs.append(dI)\n",
    "            integ.append(inte)\n",
    "        print(tryA2mag.coeff_no_m_odd)\n",
    "        print(len(integ))\n",
    "        #integ= integ*2\n",
    "        integ=np.array(integ)\n",
    "        print(len(integ))\n",
    "        dIs = np.array(dIs)\n",
    "        return inte*tryA2mag.coeff_no_m_odd*np.conjugate(inte*tryA2mag.coeff_no_m_odd),integ*tryA2mag.coeff_no_m_odd *np.conjugate(integ*tryA2mag.coeff_no_m_odd),r,dIs*tryA2mag.coeff_no_m_odd *np.conjugate(dIs*tryA2mag.coeff_no_m_odd)\n",
    "    \n",
    "    "
   ]
  },
  {
   "cell_type": "code",
   "execution_count": 74,
   "id": "1d91078e-2437-457b-8337-e5704e3244a8",
   "metadata": {},
   "outputs": [],
   "source": [
    "k_mag=-2"
   ]
  },
  {
   "cell_type": "code",
   "execution_count": 75,
   "id": "41cf54f2-e426-4eed-89de-e3ab3846cd44",
   "metadata": {},
   "outputs": [
    {
     "name": "stdout",
     "output_type": "stream",
     "text": [
      "0 95 97\n",
      "1.2555212239034909e+19\n"
     ]
    },
    {
     "name": "stderr",
     "output_type": "stream",
     "text": [
      "/users/PCON0003/koivuemily/.conda/envs/local1/lib/python3.10/site-packages/matplotlib/cbook/__init__.py:1298: ComplexWarning: Casting complex values to real discards the imaginary part\n",
      "  return np.asarray(x, float)\n"
     ]
    },
    {
     "data": {
      "image/png": "[encoded data removed]",
      "text/plain": [
       "<Figure size 432x288 with 1 Axes>"
      ]
     },
     "metadata": {
      "needs_background": "light"
     },
     "output_type": "display_data"
    },
    {
     "name": "stderr",
     "output_type": "stream",
     "text": [
      "/users/PCON0003/koivuemily/.conda/envs/local1/lib/python3.10/site-packages/matplotlib/cbook/__init__.py:1298: ComplexWarning: Casting complex values to real discards the imaginary part\n",
      "  return np.asarray(x, float)\n",
      "/users/PCON0003/koivuemily/.conda/envs/local1/lib/python3.10/site-packages/matplotlib/cbook/__init__.py:1298: ComplexWarning: Casting complex values to real discards the imaginary part\n",
      "  return np.asarray(x, float)\n"
     ]
    },
    {
     "data": {
      "image/png": "[encoded data removed]",
      "text/plain": [
       "<Figure size 432x288 with 1 Axes>"
      ]
     },
     "metadata": {
      "needs_background": "light"
     },
     "output_type": "display_data"
    },
    {
     "name": "stderr",
     "output_type": "stream",
     "text": [
      "/users/PCON0003/koivuemily/.conda/envs/local1/lib/python3.10/site-packages/matplotlib/cbook/__init__.py:1298: ComplexWarning: Casting complex values to real discards the imaginary part\n",
      "  return np.asarray(x, float)\n",
      "/users/PCON0003/koivuemily/.conda/envs/local1/lib/python3.10/site-packages/matplotlib/cbook/__init__.py:1298: ComplexWarning: Casting complex values to real discards the imaginary part\n",
      "  return np.asarray(x, float)\n",
      "/users/PCON0003/koivuemily/.conda/envs/local1/lib/python3.10/site-packages/matplotlib/cbook/__init__.py:1298: ComplexWarning: Casting complex values to real discards the imaginary part\n",
      "  return np.asarray(x, float)\n"
     ]
    },
    {
     "data": {
      "image/png": "[encoded data removed]",
      "text/plain": [
       "<Figure size 432x288 with 1 Axes>"
      ]
     },
     "metadata": {
      "needs_background": "light"
     },
     "output_type": "display_data"
    },
    {
     "name": "stderr",
     "output_type": "stream",
     "text": [
      "/users/PCON0003/koivuemily/.conda/envs/local1/lib/python3.10/site-packages/matplotlib/cbook/__init__.py:1298: ComplexWarning: Casting complex values to real discards the imaginary part\n",
      "  return np.asarray(x, float)\n",
      "/users/PCON0003/koivuemily/.conda/envs/local1/lib/python3.10/site-packages/matplotlib/cbook/__init__.py:1298: ComplexWarning: Casting complex values to real discards the imaginary part\n",
      "  return np.asarray(x, float)\n"
     ]
    },
    {
     "data": {
      "image/png": "[encoded data removed]",
      "text/plain": [
       "<Figure size 432x288 with 1 Axes>"
      ]
     },
     "metadata": {
      "needs_background": "light"
     },
     "output_type": "display_data"
    },
    {
     "name": "stderr",
     "output_type": "stream",
     "text": [
      "/users/PCON0003/koivuemily/.conda/envs/local1/lib/python3.10/site-packages/matplotlib/cbook/__init__.py:1298: ComplexWarning: Casting complex values to real discards the imaginary part\n",
      "  return np.asarray(x, float)\n",
      "/users/PCON0003/koivuemily/.conda/envs/local1/lib/python3.10/site-packages/matplotlib/cbook/__init__.py:1298: ComplexWarning: Casting complex values to real discards the imaginary part\n",
      "  return np.asarray(x, float)\n"
     ]
    },
    {
     "data": {
      "image/png": "[encoded data removed]",
      "text/plain": [
       "<Figure size 432x288 with 1 Axes>"
      ]
     },
     "metadata": {
      "needs_background": "light"
     },
     "output_type": "display_data"
    },
    {
     "name": "stderr",
     "output_type": "stream",
     "text": [
      "/users/PCON0003/koivuemily/.conda/envs/local1/lib/python3.10/site-packages/matplotlib/cbook/__init__.py:1298: ComplexWarning: Casting complex values to real discards the imaginary part\n",
      "  return np.asarray(x, float)\n",
      "/users/PCON0003/koivuemily/.conda/envs/local1/lib/python3.10/site-packages/matplotlib/cbook/__init__.py:1298: ComplexWarning: Casting complex values to real discards the imaginary part\n",
      "  return np.asarray(x, float)\n"
     ]
    },
    {
     "data": {
      "image/png": "[encoded data removed]",
      "text/plain": [
       "<Figure size 432x288 with 1 Axes>"
      ]
     },
     "metadata": {
      "needs_background": "light"
     },
     "output_type": "display_data"
    },
    {
     "name": "stderr",
     "output_type": "stream",
     "text": [
      "/users/PCON0003/koivuemily/.conda/envs/local1/lib/python3.10/site-packages/matplotlib/cbook/__init__.py:1298: ComplexWarning: Casting complex values to real discards the imaginary part\n",
      "  return np.asarray(x, float)\n",
      "/users/PCON0003/koivuemily/.conda/envs/local1/lib/python3.10/site-packages/matplotlib/cbook/__init__.py:1298: ComplexWarning: Casting complex values to real discards the imaginary part\n",
      "  return np.asarray(x, float)\n"
     ]
    },
    {
     "data": {
      "image/png": "[encoded data removed]",
      "text/plain": [
       "<Figure size 432x288 with 1 Axes>"
      ]
     },
     "metadata": {
      "needs_background": "light"
     },
     "output_type": "display_data"
    },
    {
     "name": "stderr",
     "output_type": "stream",
     "text": [
      "/users/PCON0003/koivuemily/.conda/envs/local1/lib/python3.10/site-packages/matplotlib/cbook/__init__.py:1298: ComplexWarning: Casting complex values to real discards the imaginary part\n",
      "  return np.asarray(x, float)\n",
      "/users/PCON0003/koivuemily/.conda/envs/local1/lib/python3.10/site-packages/matplotlib/cbook/__init__.py:1298: ComplexWarning: Casting complex values to real discards the imaginary part\n",
      "  return np.asarray(x, float)\n"
     ]
    },
    {
     "data": {
      "image/png": "[encoded data removed]",
      "text/plain": [
       "<Figure size 432x288 with 1 Axes>"
      ]
     },
     "metadata": {
      "needs_background": "light"
     },
     "output_type": "display_data"
    },
    {
     "name": "stderr",
     "output_type": "stream",
     "text": [
      "/users/PCON0003/koivuemily/.conda/envs/local1/lib/python3.10/site-packages/matplotlib/cbook/__init__.py:1298: ComplexWarning: Casting complex values to real discards the imaginary part\n",
      "  return np.asarray(x, float)\n",
      "/users/PCON0003/koivuemily/.conda/envs/local1/lib/python3.10/site-packages/matplotlib/cbook/__init__.py:1298: ComplexWarning: Casting complex values to real discards the imaginary part\n",
      "  return np.asarray(x, float)\n"
     ]
    },
    {
     "data": {
      "image/png": "[encoded data removed]",
      "text/plain": [
       "<Figure size 432x288 with 1 Axes>"
      ]
     },
     "metadata": {
      "needs_background": "light"
     },
     "output_type": "display_data"
    },
    {
     "name": "stderr",
     "output_type": "stream",
     "text": [
      "/users/PCON0003/koivuemily/.conda/envs/local1/lib/python3.10/site-packages/matplotlib/cbook/__init__.py:1298: ComplexWarning: Casting complex values to real discards the imaginary part\n",
      "  return np.asarray(x, float)\n",
      "/users/PCON0003/koivuemily/.conda/envs/local1/lib/python3.10/site-packages/matplotlib/cbook/__init__.py:1298: ComplexWarning: Casting complex values to real discards the imaginary part\n",
      "  return np.asarray(x, float)\n"
     ]
    },
    {
     "data": {
      "image/png": "[encoded data removed]",
      "text/plain": [
       "<Figure size 432x288 with 1 Axes>"
      ]
     },
     "metadata": {
      "needs_background": "light"
     },
     "output_type": "display_data"
    },
    {
     "name": "stdout",
     "output_type": "stream",
     "text": [
      "115403\n",
      "115403\n",
      "-87152\n",
      "(-7.968447708782465e-76+3.684744672741788e-76j)\n",
      "1512.6682194509144 9.307205446689425\n",
      "115403\n",
      "1.725007187534676e+19\n",
      "1.3903438383976781e+22\n",
      "87151\n",
      "87151\n"
     ]
    }
   ],
   "source": [
    "lhs_mag,lhsplot_mag,rlhs_mag,lhsdI_mag = IBarplusminusoddfunctest(X,k_mag,X_prime,k_prime_mag,X_gamma,l_mag,h,h_prime,omega,M,F_points_gamma_in, z_points_gamma_in)\n"
   ]
  },
  {
   "cell_type": "code",
   "execution_count": 38,
   "id": "ca1e82cd-4894-4a54-a191-26e6147f92ca",
   "metadata": {},
   "outputs": [
    {
     "data": {
      "text/plain": [
       "(219.70832264570578+0j)"
      ]
     },
     "execution_count": 38,
     "metadata": {},
     "output_type": "execute_result"
    }
   ],
   "source": [
    "lhs_mag"
   ]
  },
  {
   "cell_type": "code",
   "execution_count": 150,
   "id": "9e61e902-63ce-4f2b-9209-50d8b0d788fc",
   "metadata": {},
   "outputs": [
    {
     "name": "stdout",
     "output_type": "stream",
     "text": [
      "(6.357437035746056+0j) (219.70832264570578+0j)\n",
      "(0.028935804339091167+0j)\n",
      "(34.55926050236101+0j)\n"
     ]
    }
   ],
   "source": [
    "print(right2withsurface_mag,lhs_mag)\n",
    "\n",
    "print(right2withsurface_mag/lhs_mag)\n",
    "print(lhs_mag/right2withsurface_mag)\n"
   ]
  },
  {
   "cell_type": "code",
   "execution_count": 30,
   "id": "657a32c6-cab9-41e3-b8dd-776f623ec24b",
   "metadata": {},
   "outputs": [
    {
     "name": "stdout",
     "output_type": "stream",
     "text": [
      "(682.3708264232226+0j) (659.1249679371174+0j)\n",
      "(1.035267755914115+0j)\n"
     ]
    }
   ],
   "source": [
    "print(3*16*3*right2withsurface_mag,3*lhs_mag)\n",
    "print(144*right2withsurface_mag/3/lhs_mag)\n",
    "\n",
    "#basically the right side is off by a factor of 144 and i am not sure how to reconsile that"
   ]
  },
  {
   "cell_type": "code",
   "execution_count": 141,
   "id": "395dbfb6-8fce-4218-a1fe-2732e11c4492",
   "metadata": {},
   "outputs": [
    {
     "data": {
      "text/plain": [
       "(87151, 87151, 115403)"
      ]
     },
     "execution_count": 141,
     "metadata": {},
     "output_type": "execute_result"
    }
   ],
   "source": [
    "len(lhsplot_mag),len(right2plotwithsurface_mag),len(rlhs_mag)"
   ]
  },
  {
   "cell_type": "code",
   "execution_count": 32,
   "id": "bdeb42bc-4ae0-4f40-b80d-eb0610460f6c",
   "metadata": {},
   "outputs": [
    {
     "name": "stdout",
     "output_type": "stream",
     "text": [
      "144\n"
     ]
    }
   ],
   "source": [
    "print(3*16*3)"
   ]
  },
  {
   "cell_type": "code",
   "execution_count": 31,
   "id": "c03aae5d-0c85-4cc5-8524-e32e2fd149d3",
   "metadata": {},
   "outputs": [
    {
     "name": "stderr",
     "output_type": "stream",
     "text": [
      "/users/PCON0003/koivuemily/.conda/envs/local1/lib/python3.10/site-packages/matplotlib/cbook/__init__.py:1298: ComplexWarning: Casting complex values to real discards the imaginary part\n",
      "  return np.asarray(x, float)\n"
     ]
    },
    {
     "data": {
      "image/png": "[encoded data removed]",
      "text/plain": [
       "<Figure size 432x288 with 1 Axes>"
      ]
     },
     "metadata": {
      "needs_background": "light"
     },
     "output_type": "display_data"
    },
    {
     "name": "stderr",
     "output_type": "stream",
     "text": [
      "/users/PCON0003/koivuemily/.conda/envs/local1/lib/python3.10/site-packages/matplotlib/cbook/__init__.py:1298: ComplexWarning: Casting complex values to real discards the imaginary part\n",
      "  return np.asarray(x, float)\n"
     ]
    },
    {
     "data": {
      "image/png": "[encoded data removed]",
      "text/plain": [
       "<Figure size 432x288 with 1 Axes>"
      ]
     },
     "metadata": {
      "needs_background": "light"
     },
     "output_type": "display_data"
    },
    {
     "name": "stderr",
     "output_type": "stream",
     "text": [
      "/users/PCON0003/koivuemily/.conda/envs/local1/lib/python3.10/site-packages/matplotlib/cbook/__init__.py:1298: ComplexWarning: Casting complex values to real discards the imaginary part\n",
      "  return np.asarray(x, float)\n"
     ]
    },
    {
     "data": {
      "image/png": "[encoded data removed]",
      "text/plain": [
       "<Figure size 432x288 with 1 Axes>"
      ]
     },
     "metadata": {
      "needs_background": "light"
     },
     "output_type": "display_data"
    },
    {
     "name": "stderr",
     "output_type": "stream",
     "text": [
      "/users/PCON0003/koivuemily/.conda/envs/local1/lib/python3.10/site-packages/matplotlib/cbook/__init__.py:1298: ComplexWarning: Casting complex values to real discards the imaginary part\n",
      "  return np.asarray(x, float)\n"
     ]
    },
    {
     "data": {
      "image/png": "[encoded data removed]",
      "text/plain": [
       "<Figure size 432x288 with 1 Axes>"
      ]
     },
     "metadata": {
      "needs_background": "light"
     },
     "output_type": "display_data"
    }
   ],
   "source": [
    "plt.loglog(rlhs_mag[toplen:-1]/M,3*lhsplot_mag,label='left')\n",
    "#plt.loglog(rlhs[:-1]/M, lhsplot,label='left')\n",
    "plt.loglog(rlhs_mag[toplen:-1]/M,right2plotwithsurface_mag,label='right with surface')\n",
    "plt.legend()\n",
    "plt.grid()\n",
    "plt.xlim(5,1.6e3)\n",
    "plt.ylim(1.e-60,4.e7)\n",
    "plt.title('Convergence of integral')\n",
    "plt.show()\n",
    "\n",
    "plt.loglog(rlhs_mag[toplen:-1]/M,3*lhsplot_mag,label='left')\n",
    "#plt.loglog(rlhs[:-1]/M, lhsplot,label='left')\n",
    "plt.loglog(rlhs_mag[toplen:-1]/M,right2plotwithsurface_mag,label='right with surface')\n",
    "plt.legend()\n",
    "plt.grid()\n",
    "plt.xlim(5,100)\n",
    "plt.ylim(1.e-5,4.e5)\n",
    "plt.title('Convergence of integral zoomed')\n",
    "plt.show()\n",
    "\n",
    "\n",
    "#with bonus 144 factor \n",
    "plt.loglog(rlhs_mag[toplen:-1]/M,3*lhsplot_mag,label='left')\n",
    "#plt.loglog(rlhs[:-1]/M, lhsplot,label='left')\n",
    "plt.loglog(rlhs_mag[toplen:-1]/M,144*right2plotwithsurface_mag,label='right with surface')\n",
    "plt.legend()\n",
    "plt.grid()\n",
    "plt.xlim(5,1.6e3)\n",
    "plt.ylim(1.e-60,4.e7)\n",
    "plt.title('Convergence of integral with factor')\n",
    "plt.show()\n",
    "\n",
    "plt.loglog(rlhs_mag[toplen:-1]/M,3*lhsplot_mag,label='left')\n",
    "#plt.loglog(rlhs[:-1]/M, lhsplot,label='left')\n",
    "plt.loglog(rlhs_mag[toplen:-1]/M,144*right2plotwithsurface_mag,label='right with surface')\n",
    "plt.legend()\n",
    "plt.grid()\n",
    "plt.xlim(5,100)\n",
    "plt.ylim(1.e-2,2.e5)\n",
    "plt.title('Convergence of integral zoomed with factor')\n",
    "plt.show()\n"
   ]
  },
  {
   "cell_type": "code",
   "execution_count": null,
   "id": "4fa0a123-2032-41e1-91c1-039f5e808d29",
   "metadata": {},
   "outputs": [],
   "source": []
  },
  {
   "cell_type": "code",
   "execution_count": 114,
   "id": "1b9bfd08-abe6-460f-9018-4c71d905e6cf",
   "metadata": {},
   "outputs": [],
   "source": [
    "def Pi_no_m(k,k_prime,l):\n",
    "        \n",
    "        s=0\n",
    "        s_prime=0\n",
    "        \n",
    "        if k !=0:\n",
    "            s= (k/np.abs(k))\n",
    "        if k_prime!=0:\n",
    "            s_prime=k_prime/np.abs(k_prime)\n",
    "        \n",
    "        j=(np.abs(k) - 1/2)\n",
    "        \n",
    "        j_prime = (np.abs(k_prime) - 1/2)\n",
    "        \n",
    "        \n",
    "        w= float(wigner_3j(j,j_prime,l,-1/2,-1/2,1))\n",
    "        #print(s,s_prime,j,j_prime)\n",
    "        #print(np.sqrt((2*j+1)*(2*j_prime+1)*(2*l+1)/(4*np.pi)))\n",
    "        #print((1-s*s_prime*(-1)**(j-j_prime+l))) #gives 0\n",
    "        x = s*np.sqrt((2*j+1)*(2*j_prime+1)*(2*l+1)/(4*np.pi))*w*(1-s*s_prime*(-1)**(j-j_prime+l))\n",
    "        \n",
    "        return x\n"
   ]
  },
  {
   "cell_type": "code",
   "execution_count": 131,
   "id": "489fabb1-0dbf-4358-895a-bcac62b62fec",
   "metadata": {},
   "outputs": [
    {
     "data": {
      "text/plain": [
       "1.2794617117375386"
      ]
     },
     "execution_count": 131,
     "metadata": {},
     "output_type": "execute_result"
    }
   ],
   "source": [
    "Pi_no_m(-3,4,l)"
   ]
  },
  {
   "cell_type": "code",
   "execution_count": 141,
   "id": "05cb6065-6de7-4608-84bd-3a4a8cb64182",
   "metadata": {},
   "outputs": [
    {
     "name": "stdout",
     "output_type": "stream",
     "text": [
      "2 -3 1\n"
     ]
    }
   ],
   "source": [
    "print(k_mag,k_prime_mag,l)"
   ]
  },
  {
   "cell_type": "code",
   "execution_count": 140,
   "id": "91d0ba27-3283-4ab6-bef1-441896a4e776",
   "metadata": {},
   "outputs": [
    {
     "data": {
      "text/plain": [
       "1.0704744696916626"
      ]
     },
     "execution_count": 140,
     "metadata": {},
     "output_type": "execute_result"
    }
   ],
   "source": [
    "Pi_no_m(k_mag,k_prime_mag,l_mag)"
   ]
  },
  {
   "cell_type": "code",
   "execution_count": 135,
   "id": "50224daa-6b0f-4ad7-b164-ee0a1722533a",
   "metadata": {},
   "outputs": [
    {
     "data": {
      "text/plain": [
       "0"
      ]
     },
     "execution_count": 135,
     "metadata": {},
     "output_type": "execute_result"
    }
   ],
   "source": [
    "k_mag+k_prime_mag+1"
   ]
  },
  {
   "cell_type": "code",
   "execution_count": 21,
   "id": "08427efd-de5c-4852-8542-ad532bc40fd4",
   "metadata": {},
   "outputs": [
    {
     "data": {
      "text/plain": [
       "3.978873577297383e-25"
      ]
     },
     "execution_count": 21,
     "metadata": {},
     "output_type": "execute_result"
    }
   ],
   "source": [
    "nu = 1.\n",
    "\n",
    "mu = 4.1796514508e-23    #in planck units\n",
    "lam = 1.\n",
    "GC = 1.\n",
    "M = 1.e21\n",
    "c = 1.\n",
    "tol = 1.e-10\n",
    "\n",
    "r_initial = 2000.*M\n",
    "r_final= -70.*M\n",
    "\n",
    "T = 1/(8*np.pi*M)\n",
    "k = 2.\n",
    "h = np.linspace(.01*T,20.*T,2000)\n",
    "\n",
    "\n",
    "h[0]"
   ]
  },
  {
   "cell_type": "code",
   "execution_count": 22,
   "id": "eda592dc-5bfe-4233-8a1c-86ee46d77e2e",
   "metadata": {},
   "outputs": [
    {
     "name": "stderr",
     "output_type": "stream",
     "text": [
      "/users/PCON0003/koivuemily/PrimordialBlackHole/I_functions_class.py:100: RuntimeWarning: invalid value encountered in sqrt\n",
      "  self.v = np.sqrt(h**2 -mu**2)/h\n"
     ]
    },
    {
     "name": "stdout",
     "output_type": "stream",
     "text": [
      "2e+24\n",
      "(0.9905252532754157+0j)\n",
      "(0.9905252532754157+0j)\n",
      "-7e+22\n"
     ]
    },
    {
     "name": "stderr",
     "output_type": "stream",
     "text": [
      "/users/PCON0003/koivuemily/PrimordialBlackHole/I_functions_class.py:219: RuntimeWarning: invalid value encountered in sqrt\n",
      "  A = 2*np.complex(0,-1)*np.sqrt(self.h)*np.exp(np.complex(0,1)*self.h*r_points[-1])/(np.complex(0,-1)*F_points[-1]+G_points[-1])\n"
     ]
    },
    {
     "name": "stdout",
     "output_type": "stream",
     "text": [
      "0j\n",
      "(nan+nanj)\n"
     ]
    },
    {
     "name": "stderr",
     "output_type": "stream",
     "text": [
      "/users/PCON0003/koivuemily/PrimordialBlackHole/I_functions_class.py:238: RuntimeWarning: invalid value encountered in sqrt\n",
      "  delta = np.complex(0,-1)*.5*np.log((np.complex(0,1)*F_points_up[-1]+G_points_up[-1])/(2*np.complex(0,1)*np.sqrt(self.h)*np.exp(np.complex(0,-1)*self.h*r_up[-1])))\n",
      "/users/PCON0003/koivuemily/PrimordialBlackHole/I_functions_class.py:238: RuntimeWarning: invalid value encountered in cdouble_scalars\n",
      "  delta = np.complex(0,-1)*.5*np.log((np.complex(0,1)*F_points_up[-1]+G_points_up[-1])/(2*np.complex(0,1)*np.sqrt(self.h)*np.exp(np.complex(0,-1)*self.h*r_up[-1])))\n"
     ]
    }
   ],
   "source": [
    "EWF = Inp.ElectronWaveFunction(nu, -1*h[0], k, mu, M, lam, GC, c, tol)\n",
    "r_points_negh, F_points_negh, G_points_negh = EWF.RK_4(r_initial, r_final, 240000, up = True)\n",
    "r_points_in_negh, F_points_in_negh, G_points_in_negh = EWF.RK_4(r_final, r_initial, 240000, up = False)\n",
    "R_negh,T_negh,delta_negh = EWF.get_R_and_T_coeff(r_points_negh,F_points_negh,G_points_negh,r_points_in_negh,F_points_in_negh,G_points_in_negh)\n"
   ]
  },
  {
   "cell_type": "code",
   "execution_count": 8,
   "id": "aaf79dec-9730-4423-b2b6-825381167271",
   "metadata": {},
   "outputs": [
    {
     "name": "stdout",
     "output_type": "stream",
     "text": [
      "2e+24\n",
      "(1.0095653762418009+0j)\n",
      "(1.4274445495834027e-52-3.566309288902077e-54j)\n",
      "(1.441098593764476e-52-3.6004223790450546e-54j)\n",
      "-7e+22\n",
      "0j\n",
      "(-0.024978676368835488+3.960006298280381e-17j)\n"
     ]
    }
   ],
   "source": [
    "EWF = Inp.ElectronWaveFunction(nu, h[0], -k, mu, M, lam, GC, c, tol)\n",
    "r_points_h, F_points_h, G_points_h = EWF.RK_4(r_initial, r_final, 240000, up = True)\n",
    "r_points_in_h, F_points_in_h, G_points_in_h = EWF.RK_4(r_final, r_initial, 240000, up = False)\n",
    "R_h,T_h,delta_h = EWF.get_R_and_T_coeff(r_points_h,F_points_h,G_points_h,r_points_in_h,F_points_in_h,G_points_in_h)\n"
   ]
  },
  {
   "cell_type": "code",
   "execution_count": 40,
   "id": "9096f782-ca4b-4e49-9ce5-811397736a6a",
   "metadata": {},
   "outputs": [],
   "source": [
    "df_drstar_negh = []\n",
    "dg_drstar_negh = []\n",
    "dg_drstar_h = []\n",
    "drstar = r_points_h[0]-r_points_h[1]\n",
    "for i in range(1,len(r_points_h)-1,1):\n",
    "    df_drstar_negh = (aup_negh*F_points_negh[i-1]-aup_negh*F_points_negh[i+1])/2/drstar\n",
    "    dg_drstar_negh = (aup_negh*G_points_negh[i-1]-aup_negh*G_points_negh[i+1])/2/drstar\n",
    "    dg_drstar_h = (G_points_h[i-1]-G_points_h[i+1])/2/drstar"
   ]
  },
  {
   "cell_type": "code",
   "execution_count": 46,
   "id": "a93f7f9b-9ffd-4d3c-8a6c-8dd548c1bb9a",
   "metadata": {},
   "outputs": [
    {
     "name": "stderr",
     "output_type": "stream",
     "text": [
      "/users/PCON0003/koivuemily/.conda/envs/local1/lib/python3.10/site-packages/matplotlib/cbook/__init__.py:1298: ComplexWarning: Casting complex values to real discards the imaginary part\n",
      "  return np.asarray(x, float)\n",
      "/users/PCON0003/koivuemily/.conda/envs/local1/lib/python3.10/site-packages/matplotlib/cbook/__init__.py:1298: ComplexWarning: Casting complex values to real discards the imaginary part\n",
      "  return np.asarray(x, float)\n",
      "/users/PCON0003/koivuemily/.conda/envs/local1/lib/python3.10/site-packages/matplotlib/cbook/__init__.py:1298: ComplexWarning: Casting complex values to real discards the imaginary part\n",
      "  return np.asarray(x, float)\n"
     ]
    },
    {
     "data": {
      "image/png": "[encoded data removed]",
      "text/plain": [
       "<Figure size 432x288 with 1 Axes>"
      ]
     },
     "metadata": {
      "needs_background": "light"
     },
     "output_type": "display_data"
    },
    {
     "name": "stderr",
     "output_type": "stream",
     "text": [
      "/users/PCON0003/koivuemily/.conda/envs/local1/lib/python3.10/site-packages/matplotlib/cbook/__init__.py:1298: ComplexWarning: Casting complex values to real discards the imaginary part\n",
      "  return np.asarray(x, float)\n",
      "/users/PCON0003/koivuemily/.conda/envs/local1/lib/python3.10/site-packages/matplotlib/cbook/__init__.py:1298: ComplexWarning: Casting complex values to real discards the imaginary part\n",
      "  return np.asarray(x, float)\n"
     ]
    },
    {
     "data": {
      "image/png": "[encoded data removed]",
      "text/plain": [
       "<Figure size 432x288 with 1 Axes>"
      ]
     },
     "metadata": {
      "needs_background": "light"
     },
     "output_type": "display_data"
    }
   ],
   "source": [
    "import matplotlib.pyplot as plt \n",
    "plt.plot(r_points_negh[1:-1]/M, 1/2/mu*(k*aup_negh*np.array(F_points_negh[1:-1]))/r_points_negh[1:-1] - df_drstar_negh,label='F_k,-h')\n",
    "plt.plot(r_points_negh/M,aup_negh*np.array(G_points_negh),label='G_k,-h')\n",
    "plt.plot(r_points_negh/M,np.conjugate(F_points_h),label='Fstar_-k,h')\n",
    "plt.xlim(10,100)\n",
    "plt.ylim(0,1e-14)\n",
    "plt.title('unadjusted')\n",
    "plt.legend()\n",
    "plt.show()\n",
    "\n",
    "\n",
    "plt.plot(r_points_negh[1:-1]/M, 1/2/(-h[0]+mu*(1-M/r_points_negh[1:-1]))*(k*(1-M/r_points_negh[1:-1])*aup_negh*np.array(F_points_negh[1:-1]))/r_points_negh[1:-1] - df_drstar_negh,label='F_k,-h')\n",
    "plt.plot(r_points_negh/M,aup_negh*np.array(G_points_negh),label='G_k,-h')\n",
    "#plt.plot(r_points_negh/M,np.conjugate(F_points_h),label='Fstar_-k,h')\n",
    "plt.xlim(10,100)\n",
    "plt.ylim(0,1e-14)\n",
    "plt.legend()\n",
    "plt.title('adjusted')\n",
    "plt.show()\n",
    "\n",
    "plt.plot(r_points_negh[1:-1]/M, 1/2/(-h[0]+mu*(1-M/r_points_negh[1:-1]))*(k*(1-M/r_points_negh[1:-1])*aup_negh*np.array(F_points_negh[1:-1]))/r_points_negh[1:-1] - df_drstar_negh,label='F_k,-h')\n",
    "plt.plot(r_points_negh/M,aup_negh*np.array(G_points_negh),label='G_k,-h')\n",
    "#plt.plot(r_points_negh/M,np.conjugate(F_points_h),label='Fstar_-k,h')\n",
    "plt.xlim(10,100)\n",
    "plt.ylim(0,1e-14)\n",
    "plt.legend()\n",
    "plt.title('adjusted')\n",
    "plt.show()\n",
    "\n",
    "\n",
    "\n",
    "#plt.plot(r_points_h,np.conjugate(F_points_h))"
   ]
  },
  {
   "cell_type": "code",
   "execution_count": 13,
   "id": "6c936739-9f61-4a0d-a3b0-504823e26ef8",
   "metadata": {},
   "outputs": [
    {
     "name": "stderr",
     "output_type": "stream",
     "text": [
      "/tmp/slurmtmp.15592300/ipykernel_245735/2418628377.py:1: RuntimeWarning: invalid value encountered in sqrt\n",
      "  np.sqrt(-2)\n"
     ]
    },
    {
     "data": {
      "text/plain": [
       "nan"
      ]
     },
     "execution_count": 13,
     "metadata": {},
     "output_type": "execute_result"
    }
   ],
   "source": [
    "np.sqrt(-2)"
   ]
  },
  {
   "cell_type": "code",
   "execution_count": 18,
   "id": "ca331239-2fa5-44ff-bbe6-eda783e6f6cd",
   "metadata": {},
   "outputs": [
    {
     "name": "stdout",
     "output_type": "stream",
     "text": [
      "(1.4274445495834027e-52+3.566309288902077e-54j)\n",
      "(1.4274445495834027e-52+3.566309288902077e-54j)\n"
     ]
    }
   ],
   "source": [
    "aup_posh = (1.4274445495834027e-52-3.566309288902077e-54j)\n",
    "aup_negh = 2*np.sqrt(h[0])*np.exp(complex(0,-1)*h[0]*r_points_h[-1])/(complex(0,-1)*np.conjugate(G_points_h[-1]/aup_posh)+ np.conjugate(F_points_h[-1]/aup_posh))\n",
    "print(np.conjugate(aup_posh))\n",
    "print(aup_negh)"
   ]
  },
  {
   "cell_type": "code",
   "execution_count": null,
   "id": "306b017d-8e78-45e2-a670-b136c1519290",
   "metadata": {},
   "outputs": [],
   "source": []
  }
 ],
 "metadata": {
  "kernelspec": {
   "display_name": "21cm Gal2",
   "language": "python",
   "name": "local1"
  },
  "language_info": {
   "codemirror_mode": {
    "name": "ipython",
    "version": 3
   },
   "file_extension": ".py",
   "mimetype": "text/x-python",
   "name": "python",
   "nbconvert_exporter": "python",
   "pygments_lexer": "ipython3",
   "version": "3.10.2"
  }
 },
 "nbformat": 4,
 "nbformat_minor": 5
}
